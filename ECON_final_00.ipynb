{
  "nbformat": 4,
  "nbformat_minor": 0,
  "metadata": {
    "colab": {
      "name": "ECON_final_00.ipynb",
      "provenance": [],
      "collapsed_sections": [],
      "authorship_tag": "ABX9TyPJSZe+zmPbh/oXdV+bQKbh",
      "include_colab_link": true
    },
    "kernelspec": {
      "name": "python3",
      "display_name": "Python 3"
    },
    "language_info": {
      "name": "python"
    },
    "accelerator": "GPU"
  },
  "cells": [
    {
      "cell_type": "markdown",
      "metadata": {
        "id": "view-in-github",
        "colab_type": "text"
      },
      "source": [
        "<a href=\"https://colab.research.google.com/github/halfChewedGum/ECON626Competitions/blob/main/ECON_final_00.ipynb\" target=\"_parent\"><img src=\"https://colab.research.google.com/assets/colab-badge.svg\" alt=\"Open In Colab\"/></a>"
      ]
    },
    {
      "cell_type": "code",
      "execution_count": 2,
      "metadata": {
        "colab": {
          "resources": {
            "http://localhost:8080/nbextensions/google.colab/files.js": {
              "data": "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",
              "ok": true,
              "headers": [
                [
                  "content-type",
                  "application/javascript"
                ]
              ],
              "status": 200,
              "status_text": ""
            }
          },
          "base_uri": "https://localhost:8080/",
          "height": 73
        },
        "id": "2pJ2tv19sVdM",
        "outputId": "6af894bc-b90c-49ec-b18d-3d464a0f9f2a"
      },
      "outputs": [
        {
          "output_type": "display_data",
          "data": {
            "text/plain": [
              "<IPython.core.display.HTML object>"
            ],
            "text/html": [
              "\n",
              "     <input type=\"file\" id=\"files-618b66f2-f3fa-4a8d-870b-36bde9ac598d\" name=\"files[]\" multiple disabled\n",
              "        style=\"border:none\" />\n",
              "     <output id=\"result-618b66f2-f3fa-4a8d-870b-36bde9ac598d\">\n",
              "      Upload widget is only available when the cell has been executed in the\n",
              "      current browser session. Please rerun this cell to enable.\n",
              "      </output>\n",
              "      <script src=\"/nbextensions/google.colab/files.js\"></script> "
            ]
          },
          "metadata": {}
        },
        {
          "output_type": "stream",
          "name": "stdout",
          "text": [
            "Saving 01_wrk_data_train.csv to 01_wrk_data_train.csv\n"
          ]
        }
      ],
      "source": [
        "import pandas as pd \n",
        "import numpy as np \n",
        "import matplotlib.pyplot as plt\n",
        "import seaborn as sns\n",
        "import tensorflow as tf\n",
        "\n",
        "from tensorflow import keras\n",
        "from keras.models import Sequential\n",
        "from keras.layers import Dense, Conv1D, Flatten\n",
        "from sklearn.model_selection import train_test_split\n",
        "from sklearn.metrics import mean_squared_error\n",
        "from sklearn.metrics import r2_score\n",
        "\n",
        "from google.colab import files\n",
        "uploaded = files.upload()"
      ]
    },
    {
      "cell_type": "code",
      "source": [
        "import io\n",
        "df = pd.read_csv(io.BytesIO(uploaded['01_wrk_data_train.csv']))"
      ],
      "metadata": {
        "id": "Ut1_Apswsm2e"
      },
      "execution_count": 3,
      "outputs": []
    },
    {
      "cell_type": "code",
      "source": [
        "cols = list(df.columns)"
      ],
      "metadata": {
        "id": "-VnMQIJDsnWb"
      },
      "execution_count": 4,
      "outputs": []
    },
    {
      "cell_type": "code",
      "source": [
        "def factorize_els(el_list):\n",
        "  codes, uniques = pd.factorize(el_list)\n",
        "\n",
        "  return codes, uniques"
      ],
      "metadata": {
        "id": "Kpy_qQXxsncs"
      },
      "execution_count": 5,
      "outputs": []
    },
    {
      "cell_type": "code",
      "source": [
        "df.head()"
      ],
      "metadata": {
        "colab": {
          "base_uri": "https://localhost:8080/",
          "height": 317
        },
        "id": "-1g-yAqVuK-3",
        "outputId": "dfc19d65-1a33-4376-df27-667d6971804b"
      },
      "execution_count": 6,
      "outputs": [
        {
          "output_type": "execute_result",
          "data": {
            "text/plain": [
              "   Unnamed: 0  Unnamed: 0.1  dollar_price date_crawled  \\\n",
              "0           0             0         900.0   2016-03-26   \n",
              "1           1             1        7100.0   2016-03-29   \n",
              "2           2             2         500.0   2016-03-23   \n",
              "3           3             3       35000.0   2016-03-14   \n",
              "4           4             4        3700.0   2016-03-10   \n",
              "\n",
              "                                          name vehicle_type  \\\n",
              "0  Renault_Kangoo_1.4__TÃƒÂœV_01/2018__1._Hand    limousine   \n",
              "1                                 BMW_116d_DPF    limousine   \n",
              "2                          Volkswagen_Lupo_1.4    small car   \n",
              "3                Mercedes_Ponton_180b_Oldtimer    limousine   \n",
              "4                                  Fiat_Andere         coup   \n",
              "\n",
              "   registration_year  gearbox  power_ps  kilometer  ...  fuel_type  \\\n",
              "0               2016  manuell        75     150000  ...   gasoline   \n",
              "1               2009  manuell       116      90000  ...     diesel   \n",
              "2               1999  manuell        75     150000  ...   gasoline   \n",
              "3               1961  manuell        68     150000  ...   gasoline   \n",
              "4               1972  manuell        52     100000  ...   gasoline   \n",
              "\n",
              "  unrepaired_damage ad_created  postal_code  last_seen_online    price  year  \\\n",
              "0                ja       2016        82256        2016-04-06    900.0  2016   \n",
              "1              nein       2016        30457        2016-03-30   7100.0  2009   \n",
              "2                ja       2016        87734        2016-03-23    500.0  1999   \n",
              "3              nein       2016        22941        2016-03-17  35000.0  1961   \n",
              "4                ja       2016         6901        2016-04-06   3700.0  1972   \n",
              "\n",
              "       km  damage  age  \n",
              "0  150000     1.0    0  \n",
              "1   90000     0.0    7  \n",
              "2  150000     1.0   17  \n",
              "3  150000     0.0   55  \n",
              "4  100000     1.0   44  \n",
              "\n",
              "[5 rows x 21 columns]"
            ],
            "text/html": [
              "\n",
              "  <div id=\"df-259337bc-48a3-45fb-bc91-bdcf93a14153\">\n",
              "    <div class=\"colab-df-container\">\n",
              "      <div>\n",
              "<style scoped>\n",
              "    .dataframe tbody tr th:only-of-type {\n",
              "        vertical-align: middle;\n",
              "    }\n",
              "\n",
              "    .dataframe tbody tr th {\n",
              "        vertical-align: top;\n",
              "    }\n",
              "\n",
              "    .dataframe thead th {\n",
              "        text-align: right;\n",
              "    }\n",
              "</style>\n",
              "<table border=\"1\" class=\"dataframe\">\n",
              "  <thead>\n",
              "    <tr style=\"text-align: right;\">\n",
              "      <th></th>\n",
              "      <th>Unnamed: 0</th>\n",
              "      <th>Unnamed: 0.1</th>\n",
              "      <th>dollar_price</th>\n",
              "      <th>date_crawled</th>\n",
              "      <th>name</th>\n",
              "      <th>vehicle_type</th>\n",
              "      <th>registration_year</th>\n",
              "      <th>gearbox</th>\n",
              "      <th>power_ps</th>\n",
              "      <th>kilometer</th>\n",
              "      <th>...</th>\n",
              "      <th>fuel_type</th>\n",
              "      <th>unrepaired_damage</th>\n",
              "      <th>ad_created</th>\n",
              "      <th>postal_code</th>\n",
              "      <th>last_seen_online</th>\n",
              "      <th>price</th>\n",
              "      <th>year</th>\n",
              "      <th>km</th>\n",
              "      <th>damage</th>\n",
              "      <th>age</th>\n",
              "    </tr>\n",
              "  </thead>\n",
              "  <tbody>\n",
              "    <tr>\n",
              "      <th>0</th>\n",
              "      <td>0</td>\n",
              "      <td>0</td>\n",
              "      <td>900.0</td>\n",
              "      <td>2016-03-26</td>\n",
              "      <td>Renault_Kangoo_1.4__TÃƒÂœV_01/2018__1._Hand</td>\n",
              "      <td>limousine</td>\n",
              "      <td>2016</td>\n",
              "      <td>manuell</td>\n",
              "      <td>75</td>\n",
              "      <td>150000</td>\n",
              "      <td>...</td>\n",
              "      <td>gasoline</td>\n",
              "      <td>ja</td>\n",
              "      <td>2016</td>\n",
              "      <td>82256</td>\n",
              "      <td>2016-04-06</td>\n",
              "      <td>900.0</td>\n",
              "      <td>2016</td>\n",
              "      <td>150000</td>\n",
              "      <td>1.0</td>\n",
              "      <td>0</td>\n",
              "    </tr>\n",
              "    <tr>\n",
              "      <th>1</th>\n",
              "      <td>1</td>\n",
              "      <td>1</td>\n",
              "      <td>7100.0</td>\n",
              "      <td>2016-03-29</td>\n",
              "      <td>BMW_116d_DPF</td>\n",
              "      <td>limousine</td>\n",
              "      <td>2009</td>\n",
              "      <td>manuell</td>\n",
              "      <td>116</td>\n",
              "      <td>90000</td>\n",
              "      <td>...</td>\n",
              "      <td>diesel</td>\n",
              "      <td>nein</td>\n",
              "      <td>2016</td>\n",
              "      <td>30457</td>\n",
              "      <td>2016-03-30</td>\n",
              "      <td>7100.0</td>\n",
              "      <td>2009</td>\n",
              "      <td>90000</td>\n",
              "      <td>0.0</td>\n",
              "      <td>7</td>\n",
              "    </tr>\n",
              "    <tr>\n",
              "      <th>2</th>\n",
              "      <td>2</td>\n",
              "      <td>2</td>\n",
              "      <td>500.0</td>\n",
              "      <td>2016-03-23</td>\n",
              "      <td>Volkswagen_Lupo_1.4</td>\n",
              "      <td>small car</td>\n",
              "      <td>1999</td>\n",
              "      <td>manuell</td>\n",
              "      <td>75</td>\n",
              "      <td>150000</td>\n",
              "      <td>...</td>\n",
              "      <td>gasoline</td>\n",
              "      <td>ja</td>\n",
              "      <td>2016</td>\n",
              "      <td>87734</td>\n",
              "      <td>2016-03-23</td>\n",
              "      <td>500.0</td>\n",
              "      <td>1999</td>\n",
              "      <td>150000</td>\n",
              "      <td>1.0</td>\n",
              "      <td>17</td>\n",
              "    </tr>\n",
              "    <tr>\n",
              "      <th>3</th>\n",
              "      <td>3</td>\n",
              "      <td>3</td>\n",
              "      <td>35000.0</td>\n",
              "      <td>2016-03-14</td>\n",
              "      <td>Mercedes_Ponton_180b_Oldtimer</td>\n",
              "      <td>limousine</td>\n",
              "      <td>1961</td>\n",
              "      <td>manuell</td>\n",
              "      <td>68</td>\n",
              "      <td>150000</td>\n",
              "      <td>...</td>\n",
              "      <td>gasoline</td>\n",
              "      <td>nein</td>\n",
              "      <td>2016</td>\n",
              "      <td>22941</td>\n",
              "      <td>2016-03-17</td>\n",
              "      <td>35000.0</td>\n",
              "      <td>1961</td>\n",
              "      <td>150000</td>\n",
              "      <td>0.0</td>\n",
              "      <td>55</td>\n",
              "    </tr>\n",
              "    <tr>\n",
              "      <th>4</th>\n",
              "      <td>4</td>\n",
              "      <td>4</td>\n",
              "      <td>3700.0</td>\n",
              "      <td>2016-03-10</td>\n",
              "      <td>Fiat_Andere</td>\n",
              "      <td>coup</td>\n",
              "      <td>1972</td>\n",
              "      <td>manuell</td>\n",
              "      <td>52</td>\n",
              "      <td>100000</td>\n",
              "      <td>...</td>\n",
              "      <td>gasoline</td>\n",
              "      <td>ja</td>\n",
              "      <td>2016</td>\n",
              "      <td>6901</td>\n",
              "      <td>2016-04-06</td>\n",
              "      <td>3700.0</td>\n",
              "      <td>1972</td>\n",
              "      <td>100000</td>\n",
              "      <td>1.0</td>\n",
              "      <td>44</td>\n",
              "    </tr>\n",
              "  </tbody>\n",
              "</table>\n",
              "<p>5 rows × 21 columns</p>\n",
              "</div>\n",
              "      <button class=\"colab-df-convert\" onclick=\"convertToInteractive('df-259337bc-48a3-45fb-bc91-bdcf93a14153')\"\n",
              "              title=\"Convert this dataframe to an interactive table.\"\n",
              "              style=\"display:none;\">\n",
              "        \n",
              "  <svg xmlns=\"http://www.w3.org/2000/svg\" height=\"24px\"viewBox=\"0 0 24 24\"\n",
              "       width=\"24px\">\n",
              "    <path d=\"M0 0h24v24H0V0z\" fill=\"none\"/>\n",
              "    <path d=\"M18.56 5.44l.94 2.06.94-2.06 2.06-.94-2.06-.94-.94-2.06-.94 2.06-2.06.94zm-11 1L8.5 8.5l.94-2.06 2.06-.94-2.06-.94L8.5 2.5l-.94 2.06-2.06.94zm10 10l.94 2.06.94-2.06 2.06-.94-2.06-.94-.94-2.06-.94 2.06-2.06.94z\"/><path d=\"M17.41 7.96l-1.37-1.37c-.4-.4-.92-.59-1.43-.59-.52 0-1.04.2-1.43.59L10.3 9.45l-7.72 7.72c-.78.78-.78 2.05 0 2.83L4 21.41c.39.39.9.59 1.41.59.51 0 1.02-.2 1.41-.59l7.78-7.78 2.81-2.81c.8-.78.8-2.07 0-2.86zM5.41 20L4 18.59l7.72-7.72 1.47 1.35L5.41 20z\"/>\n",
              "  </svg>\n",
              "      </button>\n",
              "      \n",
              "  <style>\n",
              "    .colab-df-container {\n",
              "      display:flex;\n",
              "      flex-wrap:wrap;\n",
              "      gap: 12px;\n",
              "    }\n",
              "\n",
              "    .colab-df-convert {\n",
              "      background-color: #E8F0FE;\n",
              "      border: none;\n",
              "      border-radius: 50%;\n",
              "      cursor: pointer;\n",
              "      display: none;\n",
              "      fill: #1967D2;\n",
              "      height: 32px;\n",
              "      padding: 0 0 0 0;\n",
              "      width: 32px;\n",
              "    }\n",
              "\n",
              "    .colab-df-convert:hover {\n",
              "      background-color: #E2EBFA;\n",
              "      box-shadow: 0px 1px 2px rgba(60, 64, 67, 0.3), 0px 1px 3px 1px rgba(60, 64, 67, 0.15);\n",
              "      fill: #174EA6;\n",
              "    }\n",
              "\n",
              "    [theme=dark] .colab-df-convert {\n",
              "      background-color: #3B4455;\n",
              "      fill: #D2E3FC;\n",
              "    }\n",
              "\n",
              "    [theme=dark] .colab-df-convert:hover {\n",
              "      background-color: #434B5C;\n",
              "      box-shadow: 0px 1px 3px 1px rgba(0, 0, 0, 0.15);\n",
              "      filter: drop-shadow(0px 1px 2px rgba(0, 0, 0, 0.3));\n",
              "      fill: #FFFFFF;\n",
              "    }\n",
              "  </style>\n",
              "\n",
              "      <script>\n",
              "        const buttonEl =\n",
              "          document.querySelector('#df-259337bc-48a3-45fb-bc91-bdcf93a14153 button.colab-df-convert');\n",
              "        buttonEl.style.display =\n",
              "          google.colab.kernel.accessAllowed ? 'block' : 'none';\n",
              "\n",
              "        async function convertToInteractive(key) {\n",
              "          const element = document.querySelector('#df-259337bc-48a3-45fb-bc91-bdcf93a14153');\n",
              "          const dataTable =\n",
              "            await google.colab.kernel.invokeFunction('convertToInteractive',\n",
              "                                                     [key], {});\n",
              "          if (!dataTable) return;\n",
              "\n",
              "          const docLinkHtml = 'Like what you see? Visit the ' +\n",
              "            '<a target=\"_blank\" href=https://colab.research.google.com/notebooks/data_table.ipynb>data table notebook</a>'\n",
              "            + ' to learn more about interactive tables.';\n",
              "          element.innerHTML = '';\n",
              "          dataTable['output_type'] = 'display_data';\n",
              "          await google.colab.output.renderOutput(dataTable, element);\n",
              "          const docLink = document.createElement('div');\n",
              "          docLink.innerHTML = docLinkHtml;\n",
              "          element.appendChild(docLink);\n",
              "        }\n",
              "      </script>\n",
              "    </div>\n",
              "  </div>\n",
              "  "
            ]
          },
          "metadata": {},
          "execution_count": 6
        }
      ]
    },
    {
      "cell_type": "code",
      "source": [
        "df.info()"
      ],
      "metadata": {
        "colab": {
          "base_uri": "https://localhost:8080/"
        },
        "id": "YuRJJGfJuOfD",
        "outputId": "4abf97ec-2f1f-4f82-8a46-41055eac8327"
      },
      "execution_count": 7,
      "outputs": [
        {
          "output_type": "stream",
          "name": "stdout",
          "text": [
            "<class 'pandas.core.frame.DataFrame'>\n",
            "RangeIndex: 200000 entries, 0 to 199999\n",
            "Data columns (total 21 columns):\n",
            " #   Column              Non-Null Count   Dtype  \n",
            "---  ------              --------------   -----  \n",
            " 0   Unnamed: 0          200000 non-null  int64  \n",
            " 1   Unnamed: 0.1        200000 non-null  int64  \n",
            " 2   dollar_price        200000 non-null  float64\n",
            " 3   date_crawled        200000 non-null  object \n",
            " 4   name                200000 non-null  object \n",
            " 5   vehicle_type        200000 non-null  object \n",
            " 6   registration_year   200000 non-null  int64  \n",
            " 7   gearbox             200000 non-null  object \n",
            " 8   power_ps            200000 non-null  int64  \n",
            " 9   kilometer           200000 non-null  int64  \n",
            " 10  registration_month  200000 non-null  int64  \n",
            " 11  fuel_type           200000 non-null  object \n",
            " 12  unrepaired_damage   166707 non-null  object \n",
            " 13  ad_created          200000 non-null  int64  \n",
            " 14  postal_code         200000 non-null  int64  \n",
            " 15  last_seen_online    200000 non-null  object \n",
            " 16  price               200000 non-null  float64\n",
            " 17  year                200000 non-null  int64  \n",
            " 18  km                  200000 non-null  int64  \n",
            " 19  damage              200000 non-null  float64\n",
            " 20  age                 200000 non-null  int64  \n",
            "dtypes: float64(3), int64(11), object(7)\n",
            "memory usage: 32.0+ MB\n"
          ]
        }
      ]
    },
    {
      "cell_type": "code",
      "source": [
        "vh = [x for x in df['vehicle_type']]\n",
        "gr = [x for x in df['gearbox']]\n",
        "fl = [x for x in df['fuel_type']]\n",
        "\n",
        "vh_coded = factorize_els(vh)[0]\n",
        "gr_coded = factorize_els(gr)[0]\n",
        "fl_coded = factorize_els(fl)[0]\n"
      ],
      "metadata": {
        "id": "4ylBDwR-snfT"
      },
      "execution_count": 8,
      "outputs": []
    },
    {
      "cell_type": "code",
      "source": [
        "df_copy = df \n",
        "\n",
        "df_copy['vehicle_type'] = pd.Series(vh_coded)\n",
        "df_copy['gearbox'] = pd.Series(gr_coded)\n",
        "df_copy['fuel_type'] = pd.Series(fl_coded)\n",
        "\n",
        "df_copy.head()"
      ],
      "metadata": {
        "colab": {
          "base_uri": "https://localhost:8080/",
          "height": 317
        },
        "id": "DQuvV_B2snhr",
        "outputId": "a7e54e72-30b8-4854-d409-f1496d980b49"
      },
      "execution_count": 9,
      "outputs": [
        {
          "output_type": "execute_result",
          "data": {
            "text/plain": [
              "   Unnamed: 0  Unnamed: 0.1  dollar_price date_crawled  \\\n",
              "0           0             0         900.0   2016-03-26   \n",
              "1           1             1        7100.0   2016-03-29   \n",
              "2           2             2         500.0   2016-03-23   \n",
              "3           3             3       35000.0   2016-03-14   \n",
              "4           4             4        3700.0   2016-03-10   \n",
              "\n",
              "                                          name  vehicle_type  \\\n",
              "0  Renault_Kangoo_1.4__TÃƒÂœV_01/2018__1._Hand             0   \n",
              "1                                 BMW_116d_DPF             0   \n",
              "2                          Volkswagen_Lupo_1.4             1   \n",
              "3                Mercedes_Ponton_180b_Oldtimer             0   \n",
              "4                                  Fiat_Andere             2   \n",
              "\n",
              "   registration_year  gearbox  power_ps  kilometer  ...  fuel_type  \\\n",
              "0               2016        0        75     150000  ...          0   \n",
              "1               2009        0       116      90000  ...          1   \n",
              "2               1999        0        75     150000  ...          0   \n",
              "3               1961        0        68     150000  ...          0   \n",
              "4               1972        0        52     100000  ...          0   \n",
              "\n",
              "   unrepaired_damage ad_created  postal_code  last_seen_online    price  year  \\\n",
              "0                 ja       2016        82256        2016-04-06    900.0  2016   \n",
              "1               nein       2016        30457        2016-03-30   7100.0  2009   \n",
              "2                 ja       2016        87734        2016-03-23    500.0  1999   \n",
              "3               nein       2016        22941        2016-03-17  35000.0  1961   \n",
              "4                 ja       2016         6901        2016-04-06   3700.0  1972   \n",
              "\n",
              "       km  damage  age  \n",
              "0  150000     1.0    0  \n",
              "1   90000     0.0    7  \n",
              "2  150000     1.0   17  \n",
              "3  150000     0.0   55  \n",
              "4  100000     1.0   44  \n",
              "\n",
              "[5 rows x 21 columns]"
            ],
            "text/html": [
              "\n",
              "  <div id=\"df-a854a5c0-b855-4a87-9998-bf4c7421f5c9\">\n",
              "    <div class=\"colab-df-container\">\n",
              "      <div>\n",
              "<style scoped>\n",
              "    .dataframe tbody tr th:only-of-type {\n",
              "        vertical-align: middle;\n",
              "    }\n",
              "\n",
              "    .dataframe tbody tr th {\n",
              "        vertical-align: top;\n",
              "    }\n",
              "\n",
              "    .dataframe thead th {\n",
              "        text-align: right;\n",
              "    }\n",
              "</style>\n",
              "<table border=\"1\" class=\"dataframe\">\n",
              "  <thead>\n",
              "    <tr style=\"text-align: right;\">\n",
              "      <th></th>\n",
              "      <th>Unnamed: 0</th>\n",
              "      <th>Unnamed: 0.1</th>\n",
              "      <th>dollar_price</th>\n",
              "      <th>date_crawled</th>\n",
              "      <th>name</th>\n",
              "      <th>vehicle_type</th>\n",
              "      <th>registration_year</th>\n",
              "      <th>gearbox</th>\n",
              "      <th>power_ps</th>\n",
              "      <th>kilometer</th>\n",
              "      <th>...</th>\n",
              "      <th>fuel_type</th>\n",
              "      <th>unrepaired_damage</th>\n",
              "      <th>ad_created</th>\n",
              "      <th>postal_code</th>\n",
              "      <th>last_seen_online</th>\n",
              "      <th>price</th>\n",
              "      <th>year</th>\n",
              "      <th>km</th>\n",
              "      <th>damage</th>\n",
              "      <th>age</th>\n",
              "    </tr>\n",
              "  </thead>\n",
              "  <tbody>\n",
              "    <tr>\n",
              "      <th>0</th>\n",
              "      <td>0</td>\n",
              "      <td>0</td>\n",
              "      <td>900.0</td>\n",
              "      <td>2016-03-26</td>\n",
              "      <td>Renault_Kangoo_1.4__TÃƒÂœV_01/2018__1._Hand</td>\n",
              "      <td>0</td>\n",
              "      <td>2016</td>\n",
              "      <td>0</td>\n",
              "      <td>75</td>\n",
              "      <td>150000</td>\n",
              "      <td>...</td>\n",
              "      <td>0</td>\n",
              "      <td>ja</td>\n",
              "      <td>2016</td>\n",
              "      <td>82256</td>\n",
              "      <td>2016-04-06</td>\n",
              "      <td>900.0</td>\n",
              "      <td>2016</td>\n",
              "      <td>150000</td>\n",
              "      <td>1.0</td>\n",
              "      <td>0</td>\n",
              "    </tr>\n",
              "    <tr>\n",
              "      <th>1</th>\n",
              "      <td>1</td>\n",
              "      <td>1</td>\n",
              "      <td>7100.0</td>\n",
              "      <td>2016-03-29</td>\n",
              "      <td>BMW_116d_DPF</td>\n",
              "      <td>0</td>\n",
              "      <td>2009</td>\n",
              "      <td>0</td>\n",
              "      <td>116</td>\n",
              "      <td>90000</td>\n",
              "      <td>...</td>\n",
              "      <td>1</td>\n",
              "      <td>nein</td>\n",
              "      <td>2016</td>\n",
              "      <td>30457</td>\n",
              "      <td>2016-03-30</td>\n",
              "      <td>7100.0</td>\n",
              "      <td>2009</td>\n",
              "      <td>90000</td>\n",
              "      <td>0.0</td>\n",
              "      <td>7</td>\n",
              "    </tr>\n",
              "    <tr>\n",
              "      <th>2</th>\n",
              "      <td>2</td>\n",
              "      <td>2</td>\n",
              "      <td>500.0</td>\n",
              "      <td>2016-03-23</td>\n",
              "      <td>Volkswagen_Lupo_1.4</td>\n",
              "      <td>1</td>\n",
              "      <td>1999</td>\n",
              "      <td>0</td>\n",
              "      <td>75</td>\n",
              "      <td>150000</td>\n",
              "      <td>...</td>\n",
              "      <td>0</td>\n",
              "      <td>ja</td>\n",
              "      <td>2016</td>\n",
              "      <td>87734</td>\n",
              "      <td>2016-03-23</td>\n",
              "      <td>500.0</td>\n",
              "      <td>1999</td>\n",
              "      <td>150000</td>\n",
              "      <td>1.0</td>\n",
              "      <td>17</td>\n",
              "    </tr>\n",
              "    <tr>\n",
              "      <th>3</th>\n",
              "      <td>3</td>\n",
              "      <td>3</td>\n",
              "      <td>35000.0</td>\n",
              "      <td>2016-03-14</td>\n",
              "      <td>Mercedes_Ponton_180b_Oldtimer</td>\n",
              "      <td>0</td>\n",
              "      <td>1961</td>\n",
              "      <td>0</td>\n",
              "      <td>68</td>\n",
              "      <td>150000</td>\n",
              "      <td>...</td>\n",
              "      <td>0</td>\n",
              "      <td>nein</td>\n",
              "      <td>2016</td>\n",
              "      <td>22941</td>\n",
              "      <td>2016-03-17</td>\n",
              "      <td>35000.0</td>\n",
              "      <td>1961</td>\n",
              "      <td>150000</td>\n",
              "      <td>0.0</td>\n",
              "      <td>55</td>\n",
              "    </tr>\n",
              "    <tr>\n",
              "      <th>4</th>\n",
              "      <td>4</td>\n",
              "      <td>4</td>\n",
              "      <td>3700.0</td>\n",
              "      <td>2016-03-10</td>\n",
              "      <td>Fiat_Andere</td>\n",
              "      <td>2</td>\n",
              "      <td>1972</td>\n",
              "      <td>0</td>\n",
              "      <td>52</td>\n",
              "      <td>100000</td>\n",
              "      <td>...</td>\n",
              "      <td>0</td>\n",
              "      <td>ja</td>\n",
              "      <td>2016</td>\n",
              "      <td>6901</td>\n",
              "      <td>2016-04-06</td>\n",
              "      <td>3700.0</td>\n",
              "      <td>1972</td>\n",
              "      <td>100000</td>\n",
              "      <td>1.0</td>\n",
              "      <td>44</td>\n",
              "    </tr>\n",
              "  </tbody>\n",
              "</table>\n",
              "<p>5 rows × 21 columns</p>\n",
              "</div>\n",
              "      <button class=\"colab-df-convert\" onclick=\"convertToInteractive('df-a854a5c0-b855-4a87-9998-bf4c7421f5c9')\"\n",
              "              title=\"Convert this dataframe to an interactive table.\"\n",
              "              style=\"display:none;\">\n",
              "        \n",
              "  <svg xmlns=\"http://www.w3.org/2000/svg\" height=\"24px\"viewBox=\"0 0 24 24\"\n",
              "       width=\"24px\">\n",
              "    <path d=\"M0 0h24v24H0V0z\" fill=\"none\"/>\n",
              "    <path d=\"M18.56 5.44l.94 2.06.94-2.06 2.06-.94-2.06-.94-.94-2.06-.94 2.06-2.06.94zm-11 1L8.5 8.5l.94-2.06 2.06-.94-2.06-.94L8.5 2.5l-.94 2.06-2.06.94zm10 10l.94 2.06.94-2.06 2.06-.94-2.06-.94-.94-2.06-.94 2.06-2.06.94z\"/><path d=\"M17.41 7.96l-1.37-1.37c-.4-.4-.92-.59-1.43-.59-.52 0-1.04.2-1.43.59L10.3 9.45l-7.72 7.72c-.78.78-.78 2.05 0 2.83L4 21.41c.39.39.9.59 1.41.59.51 0 1.02-.2 1.41-.59l7.78-7.78 2.81-2.81c.8-.78.8-2.07 0-2.86zM5.41 20L4 18.59l7.72-7.72 1.47 1.35L5.41 20z\"/>\n",
              "  </svg>\n",
              "      </button>\n",
              "      \n",
              "  <style>\n",
              "    .colab-df-container {\n",
              "      display:flex;\n",
              "      flex-wrap:wrap;\n",
              "      gap: 12px;\n",
              "    }\n",
              "\n",
              "    .colab-df-convert {\n",
              "      background-color: #E8F0FE;\n",
              "      border: none;\n",
              "      border-radius: 50%;\n",
              "      cursor: pointer;\n",
              "      display: none;\n",
              "      fill: #1967D2;\n",
              "      height: 32px;\n",
              "      padding: 0 0 0 0;\n",
              "      width: 32px;\n",
              "    }\n",
              "\n",
              "    .colab-df-convert:hover {\n",
              "      background-color: #E2EBFA;\n",
              "      box-shadow: 0px 1px 2px rgba(60, 64, 67, 0.3), 0px 1px 3px 1px rgba(60, 64, 67, 0.15);\n",
              "      fill: #174EA6;\n",
              "    }\n",
              "\n",
              "    [theme=dark] .colab-df-convert {\n",
              "      background-color: #3B4455;\n",
              "      fill: #D2E3FC;\n",
              "    }\n",
              "\n",
              "    [theme=dark] .colab-df-convert:hover {\n",
              "      background-color: #434B5C;\n",
              "      box-shadow: 0px 1px 3px 1px rgba(0, 0, 0, 0.15);\n",
              "      filter: drop-shadow(0px 1px 2px rgba(0, 0, 0, 0.3));\n",
              "      fill: #FFFFFF;\n",
              "    }\n",
              "  </style>\n",
              "\n",
              "      <script>\n",
              "        const buttonEl =\n",
              "          document.querySelector('#df-a854a5c0-b855-4a87-9998-bf4c7421f5c9 button.colab-df-convert');\n",
              "        buttonEl.style.display =\n",
              "          google.colab.kernel.accessAllowed ? 'block' : 'none';\n",
              "\n",
              "        async function convertToInteractive(key) {\n",
              "          const element = document.querySelector('#df-a854a5c0-b855-4a87-9998-bf4c7421f5c9');\n",
              "          const dataTable =\n",
              "            await google.colab.kernel.invokeFunction('convertToInteractive',\n",
              "                                                     [key], {});\n",
              "          if (!dataTable) return;\n",
              "\n",
              "          const docLinkHtml = 'Like what you see? Visit the ' +\n",
              "            '<a target=\"_blank\" href=https://colab.research.google.com/notebooks/data_table.ipynb>data table notebook</a>'\n",
              "            + ' to learn more about interactive tables.';\n",
              "          element.innerHTML = '';\n",
              "          dataTable['output_type'] = 'display_data';\n",
              "          await google.colab.output.renderOutput(dataTable, element);\n",
              "          const docLink = document.createElement('div');\n",
              "          docLink.innerHTML = docLinkHtml;\n",
              "          element.appendChild(docLink);\n",
              "        }\n",
              "      </script>\n",
              "    </div>\n",
              "  </div>\n",
              "  "
            ]
          },
          "metadata": {},
          "execution_count": 9
        }
      ]
    },
    {
      "cell_type": "code",
      "source": [
        "df_copy.to_csv('dataset_00.csv')"
      ],
      "metadata": {
        "id": "qEWqqnsQu9xO"
      },
      "execution_count": 10,
      "outputs": []
    },
    {
      "cell_type": "code",
      "source": [
        "df_copy.info()"
      ],
      "metadata": {
        "colab": {
          "base_uri": "https://localhost:8080/"
        },
        "id": "8h2CWdXkvXed",
        "outputId": "4152f820-40ef-49fc-a0b1-933d7e07b689"
      },
      "execution_count": 11,
      "outputs": [
        {
          "output_type": "stream",
          "name": "stdout",
          "text": [
            "<class 'pandas.core.frame.DataFrame'>\n",
            "RangeIndex: 200000 entries, 0 to 199999\n",
            "Data columns (total 21 columns):\n",
            " #   Column              Non-Null Count   Dtype  \n",
            "---  ------              --------------   -----  \n",
            " 0   Unnamed: 0          200000 non-null  int64  \n",
            " 1   Unnamed: 0.1        200000 non-null  int64  \n",
            " 2   dollar_price        200000 non-null  float64\n",
            " 3   date_crawled        200000 non-null  object \n",
            " 4   name                200000 non-null  object \n",
            " 5   vehicle_type        200000 non-null  int64  \n",
            " 6   registration_year   200000 non-null  int64  \n",
            " 7   gearbox             200000 non-null  int64  \n",
            " 8   power_ps            200000 non-null  int64  \n",
            " 9   kilometer           200000 non-null  int64  \n",
            " 10  registration_month  200000 non-null  int64  \n",
            " 11  fuel_type           200000 non-null  int64  \n",
            " 12  unrepaired_damage   166707 non-null  object \n",
            " 13  ad_created          200000 non-null  int64  \n",
            " 14  postal_code         200000 non-null  int64  \n",
            " 15  last_seen_online    200000 non-null  object \n",
            " 16  price               200000 non-null  float64\n",
            " 17  year                200000 non-null  int64  \n",
            " 18  km                  200000 non-null  int64  \n",
            " 19  damage              200000 non-null  float64\n",
            " 20  age                 200000 non-null  int64  \n",
            "dtypes: float64(3), int64(14), object(4)\n",
            "memory usage: 32.0+ MB\n"
          ]
        }
      ]
    },
    {
      "cell_type": "code",
      "source": [
        "\n",
        "sns.pairplot(df_copy, \n",
        "             x_vars = ['vehicle_type', 'power_ps', 'kilometer', 'fuel_type', 'damage'],\n",
        "             y_vars = ['dollar_price']\n",
        "             )"
      ],
      "metadata": {
        "colab": {
          "base_uri": "https://localhost:8080/",
          "height": 215
        },
        "id": "0evMe0s5vE0_",
        "outputId": "f94d2bd3-6f17-4f20-9569-d558d127e1ef"
      },
      "execution_count": 12,
      "outputs": [
        {
          "output_type": "execute_result",
          "data": {
            "text/plain": [
              "<seaborn.axisgrid.PairGrid at 0x7f41577959d0>"
            ]
          },
          "metadata": {},
          "execution_count": 12
        },
        {
          "output_type": "display_data",
          "data": {
            "text/plain": [
              "<Figure size 900x180 with 5 Axes>"
            ],
            "image/png": "[encoded data removed]"
          },
          "metadata": {
            "needs_background": "light"
          }
        }
      ]
    },
    {
      "cell_type": "markdown",
      "source": [
        "Based on the above graphs: \n",
        "\n",
        "- vehicle type does make a difference on price.\n",
        "- power_ps doesn't make any sense really. \n",
        "- kilometer kind of does matter, it's mostly a negative linear relationship\n",
        "- fuel type matters\n",
        "- damages also matter, as in, if it is damaged (1), the price is lower"
      ],
      "metadata": {
        "id": "HiRC_6ptvwN8"
      }
    },
    {
      "cell_type": "code",
      "source": [
        "features_ = ['vehicle_type', 'registration_year', 'gearbox', 'kilometer', 'fuel_type', 'postal_code', 'damage', 'age']\n",
        "\n",
        "\n"
      ],
      "metadata": {
        "id": "9KGGH1KDvll_"
      },
      "execution_count": 13,
      "outputs": []
    },
    {
      "cell_type": "code",
      "source": [
        "import itertools\n",
        "\n",
        "dict_subsets = {}\n",
        "\n",
        "for L in range(0, len(features_)+1):\n",
        "    for subset in itertools.combinations(features_, L):\n",
        "      dict_subsets[L] = subset\n",
        "\n",
        "dict_subsets        "
      ],
      "metadata": {
        "colab": {
          "base_uri": "https://localhost:8080/"
        },
        "id": "987981cAxdkC",
        "outputId": "1dab969c-dc62-4d82-d444-137ff72b4a4c"
      },
      "execution_count": 14,
      "outputs": [
        {
          "output_type": "execute_result",
          "data": {
            "text/plain": [
              "{0: (),\n",
              " 1: ('age',),\n",
              " 2: ('damage', 'age'),\n",
              " 3: ('postal_code', 'damage', 'age'),\n",
              " 4: ('fuel_type', 'postal_code', 'damage', 'age'),\n",
              " 5: ('kilometer', 'fuel_type', 'postal_code', 'damage', 'age'),\n",
              " 6: ('gearbox', 'kilometer', 'fuel_type', 'postal_code', 'damage', 'age'),\n",
              " 7: ('registration_year',\n",
              "  'gearbox',\n",
              "  'kilometer',\n",
              "  'fuel_type',\n",
              "  'postal_code',\n",
              "  'damage',\n",
              "  'age'),\n",
              " 8: ('vehicle_type',\n",
              "  'registration_year',\n",
              "  'gearbox',\n",
              "  'kilometer',\n",
              "  'fuel_type',\n",
              "  'postal_code',\n",
              "  'damage',\n",
              "  'age')}"
            ]
          },
          "metadata": {},
          "execution_count": 14
        }
      ]
    },
    {
      "cell_type": "code",
      "source": [
        "for k,v in dict_subsets.items():\n",
        "  dict_subsets[k] = list(v)\n",
        "\n",
        "\n"
      ],
      "metadata": {
        "id": "gmibdmgvyah6"
      },
      "execution_count": 15,
      "outputs": []
    },
    {
      "cell_type": "code",
      "source": [
        "fs_all = ['vehicle_type', 'registration_year', 'gearbox', 'kilometer', 'fuel_type', 'postal_code', 'damage', 'age']\n",
        "fs_0 = ['vehicle_type', 'gearbox', 'kilometer', 'fuel_type', 'postal_code', 'damage', 'age']\n",
        "fs_1 = ['vehicle_type', 'gearbox', 'kilometer', 'fuel_type', 'damage', 'age']\n",
        "fs_2 = ['vehicle_type', 'kilometer', 'fuel_type', 'postal_code', 'damage', 'age']\n",
        "fs_3 = ['vehicle_type', 'registration_year', 'gearbox', 'kilometer', 'fuel_type', 'postal_code', 'damage']\n",
        "fs_4 = ['vehicle_type', 'gearbox', 'kilometer', 'fuel_type', 'postal_code', 'damage']\n",
        "fs_5 = ['vehicle_type', 'gearbox', 'kilometer', 'fuel_type', 'damage']"
      ],
      "metadata": {
        "id": "Oe5V_t4vzGa5"
      },
      "execution_count": 16,
      "outputs": []
    },
    {
      "cell_type": "code",
      "source": [
        "y = df_copy['dollar_price']\n",
        "x = df_copy[['vehicle_type', 'registration_year', 'gearbox', 'kilometer', 'fuel_type', 'postal_code', 'damage', 'age']]\n",
        "x0 = df_copy[['vehicle_type', 'gearbox', 'kilometer', 'fuel_type', 'postal_code', 'damage', 'age']]\n",
        "x1 = df_copy[['vehicle_type', 'gearbox', 'kilometer', 'fuel_type', 'damage', 'age']]\n",
        "x2 = df_copy[['vehicle_type', 'kilometer', 'fuel_type', 'postal_code', 'damage', 'age']]\n",
        "x3 = df_copy[['vehicle_type', 'registration_year', 'gearbox', 'kilometer', 'fuel_type', 'postal_code', 'damage']]\n",
        "x4 = df_copy[['vehicle_type', 'gearbox', 'kilometer', 'fuel_type', 'postal_code', 'damage']]\n",
        "x5 = df_copy[['vehicle_type', 'gearbox', 'kilometer', 'fuel_type', 'damage']]\n",
        "\n",
        "x_train, x_val, y_train, y_val = train_test_split(x, y, test_size = 0.3, random_state = 42)\n",
        "x0_train, x0_val, y0_train, y0_val = train_test_split(x0, y, test_size = 0.3, random_state = 42)\n",
        "x1_train, x1_val, y1_train, y1_val = train_test_split(x1, y, test_size = 0.3, random_state = 42)\n",
        "x2_train, x2_val, y2_train, y2_val = train_test_split(x2, y, test_size = 0.3, random_state = 42)\n",
        "x3_train, x3_val, y3_train, y3_val = train_test_split(x3, y, test_size = 0.3, random_state = 42)\n",
        "x4_train, x4_val, y4_train, y4_val = train_test_split(x4, y, test_size = 0.3, random_state = 42)\n",
        "x5_train, x5_val, y5_train, y5_val = train_test_split(x5, y, test_size = 0.3, random_state = 42)"
      ],
      "metadata": {
        "id": "ZMIgvNfi0b4Z"
      },
      "execution_count": 18,
      "outputs": []
    },
    {
      "cell_type": "markdown",
      "source": [
        "# Regression - Q1 \n",
        "\n",
        "Algorithms to try are : \n",
        "\n",
        "- Linear Regression (OLS)\n",
        "- Lasso Regression\n",
        "- Ridge Regression \n",
        "- Regression Tree\n",
        "- NN"
      ],
      "metadata": {
        "id": "QXvy4jVxz6RQ"
      }
    },
    {
      "cell_type": "markdown",
      "source": [
        "###LINEAR REGRESSION - OLS"
      ],
      "metadata": {
        "id": "J4y3rDlR0E4K"
      }
    },
    {
      "cell_type": "code",
      "source": [
        "import statsmodels.api as sm \n",
        "\n",
        "def try_ols(x, y):\n",
        "  x = np.array(x)\n",
        "  y = np.array(y)\n",
        "  model = sm.OLS(y, sm.add_constant(x, prepend= False))\n",
        "  result = model.fit()\n",
        "\n",
        "  return result"
      ],
      "metadata": {
        "id": "jgvFiRHnz38A"
      },
      "execution_count": 29,
      "outputs": []
    },
    {
      "cell_type": "code",
      "source": [
        "x_options = [x, x0, x1, x2, x3, x4, x5]\n",
        "x_options_train = [x_train, x0_train, x1_train, x2_train, x3_train, x4_train, x5_train]\n",
        "x_options_val = [x_val, x0_val, x1_val, x2_val, x3_val, x4_val, x5_val]\n",
        "y_options_train = [y_train, y0_train, y1_train, y2_train, y3_train, y4_train, y5_train]\n",
        "y_options_val = [y_val, y0_val, y1_val, y2_val, y3_val, y4_val, y5_val]\n"
      ],
      "metadata": {
        "id": "jCRaeLwk0SBf"
      },
      "execution_count": 34,
      "outputs": []
    },
    {
      "cell_type": "code",
      "source": [
        "for i in range(len(x_options)):\n",
        "  print('For option ', i, ' : ')\n",
        "  print(try_ols(x_options[i], y).summary())\n",
        "  print('~~~~~~~~~~~~~~~~~~~~~~~~~~~~~~~~~~~~~~~~~~~~~~~~~~~~~~~~~~~~~~~~~~~~~~~~~~~~~~~~~~~')\n"
      ],
      "metadata": {
        "colab": {
          "base_uri": "https://localhost:8080/"
        },
        "id": "562zeUtZ0R_Y",
        "outputId": "d3ef1b6f-f9d7-416e-bbe6-2fcde7c75f1a"
      },
      "execution_count": 32,
      "outputs": [
        {
          "output_type": "stream",
          "name": "stdout",
          "text": [
            "For option  0  : \n",
            "                            OLS Regression Results                            \n",
            "==============================================================================\n",
            "Dep. Variable:                      y   R-squared:                       0.295\n",
            "Model:                            OLS   Adj. R-squared:                  0.295\n",
            "Method:                 Least Squares   F-statistic:                 1.046e+04\n",
            "Date:                Sun, 10 Apr 2022   Prob (F-statistic):               0.00\n",
            "Time:                        00:31:40   Log-Likelihood:            -2.0596e+06\n",
            "No. Observations:              200000   AIC:                         4.119e+06\n",
            "Df Residuals:                  199991   BIC:                         4.119e+06\n",
            "Df Model:                           8                                         \n",
            "Covariance Type:            nonrobust                                         \n",
            "==============================================================================\n",
            "                 coef    std err          t      P>|t|      [0.025      0.975]\n",
            "------------------------------------------------------------------------------\n",
            "x1           317.9686      8.639     36.805      0.000     301.036     334.902\n",
            "x2         -2919.4732   1465.615     -1.992      0.046   -5792.044     -46.903\n",
            "x3          5050.7746     39.292    128.544      0.000    4973.763    5127.786\n",
            "x4            -0.0819      0.000   -192.245      0.000      -0.083      -0.081\n",
            "x5          2022.0300     32.934     61.396      0.000    1957.479    2086.581\n",
            "x6             0.0219      0.001     35.098      0.000       0.021       0.023\n",
            "x7            37.7523     59.205      0.638      0.524     -78.288     153.793\n",
            "x8         -3086.7013   1465.613     -2.106      0.035   -5959.267    -214.135\n",
            "const       5.901e+06   2.95e+06      1.997      0.046     1.1e+05    1.17e+07\n",
            "==============================================================================\n",
            "Omnibus:                   274316.303   Durbin-Watson:                   2.002\n",
            "Prob(Omnibus):                  0.000   Jarque-Bera (JB):        159011186.919\n",
            "Skew:                           7.673   Prob(JB):                         0.00\n",
            "Kurtosis:                     140.280   Cond. No.                     2.59e+10\n",
            "==============================================================================\n",
            "\n",
            "Warnings:\n",
            "[1] Standard Errors assume that the covariance matrix of the errors is correctly specified.\n",
            "[2] The condition number is large, 2.59e+10. This might indicate that there are\n",
            "strong multicollinearity or other numerical problems.\n",
            "~~~~~~~~~~~~~~~~~~~~~~~~~~~~~~~~~~~~~~~~~~~~~~~~~~~~~~~~~~~~~~~~~~~~~~~~~~~~~~~~~~~\n",
            "For option  1  : \n",
            "                            OLS Regression Results                            \n",
            "==============================================================================\n",
            "Dep. Variable:                      y   R-squared:                       0.295\n",
            "Model:                            OLS   Adj. R-squared:                  0.295\n",
            "Method:                 Least Squares   F-statistic:                 1.195e+04\n",
            "Date:                Sun, 10 Apr 2022   Prob (F-statistic):               0.00\n",
            "Time:                        00:31:41   Log-Likelihood:            -2.0596e+06\n",
            "No. Observations:              200000   AIC:                         4.119e+06\n",
            "Df Residuals:                  199992   BIC:                         4.119e+06\n",
            "Df Model:                           7                                         \n",
            "Covariance Type:            nonrobust                                         \n",
            "==============================================================================\n",
            "                 coef    std err          t      P>|t|      [0.025      0.975]\n",
            "------------------------------------------------------------------------------\n",
            "x1           317.9132      8.639     36.798      0.000     300.980     334.846\n",
            "x2          5051.2722     39.292    128.559      0.000    4974.262    5128.283\n",
            "x3            -0.0819      0.000   -192.264      0.000      -0.083      -0.081\n",
            "x4          2021.9482     32.935     61.393      0.000    1957.397    2086.499\n",
            "x5             0.0219      0.001     35.095      0.000       0.021       0.023\n",
            "x6            37.9966     59.205      0.642      0.521     -78.045     154.038\n",
            "x7          -167.2366      2.350    -71.162      0.000    -171.843    -162.631\n",
            "const        1.51e+04     67.490    223.791      0.000     1.5e+04    1.52e+04\n",
            "==============================================================================\n",
            "Omnibus:                   274311.308   Durbin-Watson:                   2.002\n",
            "Prob(Omnibus):                  0.000   Jarque-Bera (JB):        158992791.465\n",
            "Skew:                           7.672   Prob(JB):                         0.00\n",
            "Kurtosis:                     140.272   Cond. No.                     6.00e+05\n",
            "==============================================================================\n",
            "\n",
            "Warnings:\n",
            "[1] Standard Errors assume that the covariance matrix of the errors is correctly specified.\n",
            "[2] The condition number is large,  6e+05. This might indicate that there are\n",
            "strong multicollinearity or other numerical problems.\n",
            "~~~~~~~~~~~~~~~~~~~~~~~~~~~~~~~~~~~~~~~~~~~~~~~~~~~~~~~~~~~~~~~~~~~~~~~~~~~~~~~~~~~\n",
            "For option  2  : \n",
            "                            OLS Regression Results                            \n",
            "==============================================================================\n",
            "Dep. Variable:                      y   R-squared:                       0.291\n",
            "Model:                            OLS   Adj. R-squared:                  0.291\n",
            "Method:                 Least Squares   F-statistic:                 1.366e+04\n",
            "Date:                Sun, 10 Apr 2022   Prob (F-statistic):               0.00\n",
            "Time:                        00:31:41   Log-Likelihood:            -2.0602e+06\n",
            "No. Observations:              200000   AIC:                         4.120e+06\n",
            "Df Residuals:                  199993   BIC:                         4.120e+06\n",
            "Df Model:                           6                                         \n",
            "Covariance Type:            nonrobust                                         \n",
            "==============================================================================\n",
            "                 coef    std err          t      P>|t|      [0.025      0.975]\n",
            "------------------------------------------------------------------------------\n",
            "x1           317.6362      8.666     36.654      0.000     300.651     334.621\n",
            "x2          5018.2049     39.401    127.362      0.000    4940.980    5095.430\n",
            "x3            -0.0823      0.000   -192.794      0.000      -0.083      -0.081\n",
            "x4          2028.4117     33.035     61.401      0.000    1963.663    2093.160\n",
            "x5            33.0089     59.387      0.556      0.578     -83.388     149.406\n",
            "x6          -168.6264      2.357    -71.544      0.000    -173.246    -164.007\n",
            "const       1.631e+04     58.325    279.572      0.000    1.62e+04    1.64e+04\n",
            "==============================================================================\n",
            "Omnibus:                   273683.636   Durbin-Watson:                   2.003\n",
            "Prob(Omnibus):                  0.000   Jarque-Bera (JB):        156744735.550\n",
            "Skew:                           7.642   Prob(JB):                         0.00\n",
            "Kurtosis:                     139.293   Cond. No.                     5.02e+05\n",
            "==============================================================================\n",
            "\n",
            "Warnings:\n",
            "[1] Standard Errors assume that the covariance matrix of the errors is correctly specified.\n",
            "[2] The condition number is large, 5.02e+05. This might indicate that there are\n",
            "strong multicollinearity or other numerical problems.\n",
            "~~~~~~~~~~~~~~~~~~~~~~~~~~~~~~~~~~~~~~~~~~~~~~~~~~~~~~~~~~~~~~~~~~~~~~~~~~~~~~~~~~~\n",
            "For option  3  : \n",
            "                            OLS Regression Results                            \n",
            "==============================================================================\n",
            "Dep. Variable:                      y   R-squared:                       0.237\n",
            "Model:                            OLS   Adj. R-squared:                  0.237\n",
            "Method:                 Least Squares   F-statistic:                 1.034e+04\n",
            "Date:                Sun, 10 Apr 2022   Prob (F-statistic):               0.00\n",
            "Time:                        00:31:41   Log-Likelihood:            -2.0675e+06\n",
            "No. Observations:              200000   AIC:                         4.135e+06\n",
            "Df Residuals:                  199993   BIC:                         4.135e+06\n",
            "Df Model:                           6                                         \n",
            "Covariance Type:            nonrobust                                         \n",
            "==============================================================================\n",
            "                 coef    std err          t      P>|t|      [0.025      0.975]\n",
            "------------------------------------------------------------------------------\n",
            "x1           267.9271      8.980     29.836      0.000     250.326     285.528\n",
            "x2            -0.0846      0.000   -191.030      0.000      -0.085      -0.084\n",
            "x3          2676.5086     33.856     79.055      0.000    2610.151    2742.866\n",
            "x4             0.0200      0.001     30.776      0.000       0.019       0.021\n",
            "x5            39.4048     61.603      0.640      0.522     -81.336     160.145\n",
            "x6          -174.1786      2.445    -71.251      0.000    -178.970    -169.387\n",
            "const       1.659e+04     69.180    239.859      0.000    1.65e+04    1.67e+04\n",
            "==============================================================================\n",
            "Omnibus:                   266178.435   Durbin-Watson:                   2.004\n",
            "Prob(Omnibus):                  0.000   Jarque-Bera (JB):        126470573.622\n",
            "Skew:                           7.299   Prob(JB):                         0.00\n",
            "Kurtosis:                     125.325   Cond. No.                     5.88e+05\n",
            "==============================================================================\n",
            "\n",
            "Warnings:\n",
            "[1] Standard Errors assume that the covariance matrix of the errors is correctly specified.\n",
            "[2] The condition number is large, 5.88e+05. This might indicate that there are\n",
            "strong multicollinearity or other numerical problems.\n",
            "~~~~~~~~~~~~~~~~~~~~~~~~~~~~~~~~~~~~~~~~~~~~~~~~~~~~~~~~~~~~~~~~~~~~~~~~~~~~~~~~~~~\n",
            "For option  4  : \n",
            "                            OLS Regression Results                            \n",
            "==============================================================================\n",
            "Dep. Variable:                      y   R-squared:                       0.295\n",
            "Model:                            OLS   Adj. R-squared:                  0.295\n",
            "Method:                 Least Squares   F-statistic:                 1.195e+04\n",
            "Date:                Sun, 10 Apr 2022   Prob (F-statistic):               0.00\n",
            "Time:                        00:31:41   Log-Likelihood:            -2.0596e+06\n",
            "No. Observations:              200000   AIC:                         4.119e+06\n",
            "Df Residuals:                  199992   BIC:                         4.119e+06\n",
            "Df Model:                           7                                         \n",
            "Covariance Type:            nonrobust                                         \n",
            "==============================================================================\n",
            "                 coef    std err          t      P>|t|      [0.025      0.975]\n",
            "------------------------------------------------------------------------------\n",
            "x1           317.9075      8.639     36.797      0.000     300.974     334.840\n",
            "x2           167.2291      2.350     71.159      0.000     162.623     171.835\n",
            "x3          5051.3038     39.292    128.559      0.000    4974.293    5128.314\n",
            "x4            -0.0819      0.000   -192.266      0.000      -0.083      -0.081\n",
            "x5          2021.9699     32.935     61.393      0.000    1957.419    2086.521\n",
            "x6             0.0219      0.001     35.095      0.000       0.021       0.023\n",
            "x7            38.0105     59.205      0.642      0.521     -78.031     154.052\n",
            "const       -3.22e+05   4722.101    -68.196      0.000   -3.31e+05   -3.13e+05\n",
            "==============================================================================\n",
            "Omnibus:                   274310.530   Durbin-Watson:                   2.002\n",
            "Prob(Omnibus):                  0.000   Jarque-Bera (JB):        158990416.095\n",
            "Skew:                           7.672   Prob(JB):                         0.00\n",
            "Kurtosis:                     140.271   Cond. No.                     4.13e+07\n",
            "==============================================================================\n",
            "\n",
            "Warnings:\n",
            "[1] Standard Errors assume that the covariance matrix of the errors is correctly specified.\n",
            "[2] The condition number is large, 4.13e+07. This might indicate that there are\n",
            "strong multicollinearity or other numerical problems.\n",
            "~~~~~~~~~~~~~~~~~~~~~~~~~~~~~~~~~~~~~~~~~~~~~~~~~~~~~~~~~~~~~~~~~~~~~~~~~~~~~~~~~~~\n",
            "For option  5  : \n",
            "                            OLS Regression Results                            \n",
            "==============================================================================\n",
            "Dep. Variable:                      y   R-squared:                       0.277\n",
            "Model:                            OLS   Adj. R-squared:                  0.277\n",
            "Method:                 Least Squares   F-statistic:                 1.278e+04\n",
            "Date:                Sun, 10 Apr 2022   Prob (F-statistic):               0.00\n",
            "Time:                        00:31:41   Log-Likelihood:            -2.0621e+06\n",
            "No. Observations:              200000   AIC:                         4.124e+06\n",
            "Df Residuals:                  199993   BIC:                         4.124e+06\n",
            "Df Model:                           6                                         \n",
            "Covariance Type:            nonrobust                                         \n",
            "==============================================================================\n",
            "                 coef    std err          t      P>|t|      [0.025      0.975]\n",
            "------------------------------------------------------------------------------\n",
            "x1           264.6411      8.715     30.366      0.000     247.560     281.723\n",
            "x2          5115.5193     39.775    128.610      0.000    5037.561    5193.478\n",
            "x3            -0.0904      0.000   -218.295      0.000      -0.091      -0.090\n",
            "x4          2577.3589     32.399     79.551      0.000    2513.858    2640.860\n",
            "x5             0.0227      0.001     35.849      0.000       0.021       0.024\n",
            "x6            35.3907     59.950      0.590      0.555     -82.110     152.892\n",
            "const       1.396e+04     66.366    210.318      0.000    1.38e+04    1.41e+04\n",
            "==============================================================================\n",
            "Omnibus:                   264128.676   Durbin-Watson:                   2.004\n",
            "Prob(Omnibus):                  0.000   Jarque-Bera (JB):        134138260.049\n",
            "Skew:                           7.157   Prob(JB):                         0.00\n",
            "Kurtosis:                     129.062   Cond. No.                     5.84e+05\n",
            "==============================================================================\n",
            "\n",
            "Warnings:\n",
            "[1] Standard Errors assume that the covariance matrix of the errors is correctly specified.\n",
            "[2] The condition number is large, 5.84e+05. This might indicate that there are\n",
            "strong multicollinearity or other numerical problems.\n",
            "~~~~~~~~~~~~~~~~~~~~~~~~~~~~~~~~~~~~~~~~~~~~~~~~~~~~~~~~~~~~~~~~~~~~~~~~~~~~~~~~~~~\n",
            "For option  6  : \n",
            "                            OLS Regression Results                            \n",
            "==============================================================================\n",
            "Dep. Variable:                      y   R-squared:                       0.272\n",
            "Model:                            OLS   Adj. R-squared:                  0.272\n",
            "Method:                 Least Squares   F-statistic:                 1.498e+04\n",
            "Date:                Sun, 10 Apr 2022   Prob (F-statistic):               0.00\n",
            "Time:                        00:31:41   Log-Likelihood:            -2.0627e+06\n",
            "No. Observations:              200000   AIC:                         4.125e+06\n",
            "Df Residuals:                  199994   BIC:                         4.126e+06\n",
            "Df Model:                           5                                         \n",
            "Covariance Type:            nonrobust                                         \n",
            "==============================================================================\n",
            "                 coef    std err          t      P>|t|      [0.025      0.975]\n",
            "------------------------------------------------------------------------------\n",
            "x1           263.8966      8.743     30.184      0.000     246.760     281.033\n",
            "x2          5081.8647     39.892    127.391      0.000    5003.678    5160.052\n",
            "x3            -0.0909      0.000   -219.014      0.000      -0.092      -0.090\n",
            "x4          2588.8200     32.501     79.653      0.000    2525.118    2652.522\n",
            "x5            30.2087     60.142      0.502      0.615     -87.668     148.086\n",
            "const       1.519e+04     56.922    266.889      0.000    1.51e+04    1.53e+04\n",
            "==============================================================================\n",
            "Omnibus:                   263438.183   Durbin-Watson:                   2.004\n",
            "Prob(Omnibus):                  0.000   Jarque-Bera (JB):        132063770.732\n",
            "Skew:                           7.125   Prob(JB):                         0.00\n",
            "Kurtosis:                     128.078   Cond. No.                     4.96e+05\n",
            "==============================================================================\n",
            "\n",
            "Warnings:\n",
            "[1] Standard Errors assume that the covariance matrix of the errors is correctly specified.\n",
            "[2] The condition number is large, 4.96e+05. This might indicate that there are\n",
            "strong multicollinearity or other numerical problems.\n",
            "~~~~~~~~~~~~~~~~~~~~~~~~~~~~~~~~~~~~~~~~~~~~~~~~~~~~~~~~~~~~~~~~~~~~~~~~~~~~~~~~~~~\n"
          ]
        }
      ]
    },
    {
      "cell_type": "markdown",
      "source": [
        "### *Regression OLS Results:* \n",
        "\n",
        "(all adjusted R squared)\n",
        "\n",
        "- model 0 :  **0.295**\n",
        "- model 1 : **0.295**\n",
        "- model 2 : 0.291\n",
        "- model 3 : 0.237\n",
        "- model 4 : **0.295**\n",
        "- model 5 : 0.277\n",
        "\n",
        "\n",
        "- model 0 : \n",
        "fs_all = ['vehicle_type', 'registration_year', 'gearbox', 'kilometer', 'fuel_type', 'postal_code', 'damage', 'age']\n",
        "\n",
        "- model 1 : \n",
        "fs_0 = ['vehicle_type', 'gearbox', 'kilometer', 'fuel_type', 'postal_code', 'damage', 'age']\n",
        "\n",
        "- model 4 :\n",
        "fs_3 = ['vehicle_type', 'registration_year', 'gearbox', 'kilometer', 'fuel_type', 'postal_code', 'damage']\n"
      ],
      "metadata": {
        "id": "ROHkiz9B6sgz"
      }
    },
    {
      "cell_type": "markdown",
      "source": [
        "###LASSO REGRESSION"
      ],
      "metadata": {
        "id": "2evKGWgB4wBd"
      }
    },
    {
      "cell_type": "code",
      "source": [
        "from sklearn.model_selection import cross_val_score\n",
        "from sklearn.model_selection import RepeatedKFold\n",
        "from sklearn.model_selection import GridSearchCV\n",
        "from sklearn.linear_model import Lasso\n",
        "\n",
        "def pickAlpha(x, y):\n",
        "    \"\"\"\n",
        "    Pass X values and Y values\n",
        "    Function will return the best alpha \n",
        "    That produces the lowest Absolute error  \n",
        "    \"\"\"\n",
        "    scores = []\n",
        "    \n",
        "    model = Lasso()\n",
        "    cv = RepeatedKFold(n_splits=10, n_repeats=3, random_state=1)\n",
        "    grid = dict()\n",
        "    grid['alpha'] = np.arange(0, 1, 0.01)\n",
        "    search = GridSearchCV(model, grid, scoring='neg_mean_squared_error', cv=cv, n_jobs=-1)\n",
        "    results = search.fit(x, y)\n",
        "    print('MSE: %.3f' % results.best_score_)\n",
        "    print('Config: %s' % results.best_params_)\n",
        "    \n",
        "\n",
        "for i in range(len(x_options_train)):\n",
        "  print('For model ', i)\n",
        "  pickAlpha(x_options_train[i], y_options_train[i])\n",
        "  print('-------------------------------------------------')"
      ],
      "metadata": {
        "colab": {
          "base_uri": "https://localhost:8080/"
        },
        "id": "2q4nZNlN0R9Y",
        "outputId": "6f27aad5-4ec9-4504-f289-eed7d1ec9fed"
      },
      "execution_count": null,
      "outputs": [
        {
          "output_type": "stream",
          "name": "stdout",
          "text": [
            "For model  0\n"
          ]
        }
      ]
    },
    {
      "cell_type": "markdown",
      "source": [
        "Results are : "
      ],
      "metadata": {
        "id": "ecuv1_RC6pxE"
      }
    },
    {
      "cell_type": "code",
      "source": [
        "#train Lasso model with 0.01 Alpha \n",
        "\n",
        "best_alpha = \n",
        "\n",
        "def lasso_alpha(x, y, x_v, y_v, a):\n",
        "    lasso_model = Lasso(alpha = a)\n",
        "    lasso_model.fit(x, y)\n",
        "\n",
        "    #predictions \n",
        "    lasso_pred = lasso_model.predict(x_v)\n",
        "\n",
        "    from sklearn.metrics import mean_squared_error\n",
        "    from sklearn.metrics import r2_score\n",
        "\n",
        "    mse = mean_squared_error(y_v, lasso_pred)\n",
        "    r2 = r2_score(y_v, lasso_pred)\n",
        "\n",
        "    print(\"MSE for Lasso with alpha \", a, \" is: \", mse)\n",
        "    print(\"R2 for Lasso with alpha \", a, \"is: \", r2)\n",
        "    \n",
        "lasso_alpha(x_train, y_train, x_val, y_val, best_alpha)"
      ],
      "metadata": {
        "id": "2ZVmftb20R7d"
      },
      "execution_count": null,
      "outputs": []
    },
    {
      "cell_type": "code",
      "source": [
        "#using LassoCV for alpha: \n",
        "from sklearn.linear_model import LassoCV\n",
        "from sklearn.metrics import mean_squared_error\n",
        "from sklearn.metrics import r2_score\n",
        "\n",
        "def lasso_cv_func(x, y, x_v, y_v):\n",
        "    lasso_cv = LassoCV(cv = 5, random_state = 42).fit(x, y)\n",
        "    print(\"lasso cv score for train set: \", lasso_cv.score(x, y))\n",
        "    print(\"lasso cv score for validation set: \", lasso_cv.score(x_v, y_v))\n",
        "\n",
        "    lasso_cv_pred = lasso_cv.predict(x_v)\n",
        "    mse_lassoCv = mean_squared_error(y_v, lasso_cv_pred)\n",
        "    r2_lassoCv = r2_score(y_v, lasso_cv_pred)\n",
        "\n",
        "    print(\"MSE for Lasso CV: \", mse_lassoCv)\n",
        "    print(\"R2 for Lasso CV: \", r2_lassoCv)\n",
        "\n",
        "lasso_cv_func(x_train, y_train, x_val, y_val)"
      ],
      "metadata": {
        "id": "RsWc8MYN0R5X"
      },
      "execution_count": null,
      "outputs": []
    },
    {
      "cell_type": "code",
      "source": [
        ""
      ],
      "metadata": {
        "id": "9KLZ5xRZ6MPS"
      },
      "execution_count": null,
      "outputs": []
    },
    {
      "cell_type": "markdown",
      "source": [
        "Since these are the results, I will go through all the possible feature sets and test those. \n"
      ],
      "metadata": {
        "id": "EJL7BHyg6NCC"
      }
    },
    {
      "cell_type": "code",
      "source": [
        "#Feature Selection\n",
        "\n",
        "#Backward (Recursive)  \n",
        "from sklearn.feature_selection import RFE\n",
        "from sklearn.pipeline import Pipeline\n",
        "\n",
        "def make_models(alpha):\n",
        "    \"\"\"\n",
        "    Use RFE to build different models with different numbers of features \n",
        "    Returns a dictionary of all the different models \n",
        "    \"\"\"\n",
        "    \n",
        "    models = dict()\n",
        "    for i in range(1,9):\n",
        "        #all 13 are considered here \n",
        "        rfe = RFE(estimator = Lasso(), n_features_to_select = i)\n",
        "        model = Lasso(alpha= alpha)\n",
        "        models[str(i)] = Pipeline(steps = [('s', rfe),('m', model)])\n",
        "\n",
        "    return models \n",
        " \n",
        "def evaluate_model(model, x, y):\n",
        "    cv = RepeatedKFold(n_splits=10, n_repeats=3, random_state=1)\n",
        "    scores = cross_val_score(model, x, y, scoring='neg_mean_squared_error', cv=cv, n_jobs=-1)\n",
        "    scores = np.absolute(scores)\n",
        "    \n",
        "    return scores\n",
        "    \n",
        "models_all = make_models(best_alpha)\n",
        "results = []\n",
        "model_name = []\n",
        "\n",
        "print(\"Considering All features:\")\n",
        "for name, model in models_all.items():\n",
        "    scores = evaluate_model(model, x, y)\n",
        "    results.append(scores)\n",
        "    model_name.append(name)\n",
        "    \n",
        "    \n",
        "    print(\"Model %s has MSE of %.3f\" %(name, np.mean(scores)))\n",
        "\n"
      ],
      "metadata": {
        "id": "EUaNxhue6T0L"
      },
      "execution_count": null,
      "outputs": []
    },
    {
      "cell_type": "markdown",
      "source": [
        "###RIDGE REGRESSION\n"
      ],
      "metadata": {
        "id": "RsL9qO184za7"
      }
    },
    {
      "cell_type": "code",
      "source": [
        "from sklearn.linear_model import Ridge \n",
        "\n",
        "def find_alpha(x, y):\n",
        "    \"\"\"\n",
        "    Find the best alpha value based on training set.\n",
        "    \"\"\"\n",
        "    scores = []\n",
        "    model = Ridge()\n",
        "    cv = RepeatedKFold(n_splits = 10, n_repeats = 5, random_state = 1)\n",
        "    grid = dict()\n",
        "    grid['alpha'] = np.arange(0, 1, 0.01) #possible alpha values \n",
        "    search = GridSearchCV(model, grid, scoring='neg_mean_squared_error', cv = cv, n_jobs = -1)\n",
        "    results = search.fit(x, y)\n",
        "    \n",
        "    print('MSE: ', results.best_score_)\n",
        "    print('alpha: ', results.best_params_)\n",
        "\n",
        "find_alpha(x_train, y_train)"
      ],
      "metadata": {
        "id": "SNxo9KmD0R3n"
      },
      "execution_count": null,
      "outputs": []
    },
    {
      "cell_type": "code",
      "source": [
        "#modeling \n",
        "ridge_best_alpha = \n",
        "ridge_model = Ridge(alpha = ridge_best_alpha)\n",
        "\n",
        "ridge_fit = ridge_model.fit(x_train, y_train)\n",
        "ridge_pred = ridge_fit.predict(x_val) \n",
        "\n",
        "#how well does this do? \n",
        "mse = mean_squared_error(y_val, ridge_pred)\n",
        "r2 = r2_score(y_val,ridge_pred)\n",
        "\n",
        "print('MSE: ', mse)\n",
        "print('R2: ', r2)"
      ],
      "metadata": {
        "id": "oWpvpBnT0R1Q"
      },
      "execution_count": null,
      "outputs": []
    },
    {
      "cell_type": "code",
      "source": [
        ""
      ],
      "metadata": {
        "id": "MvrZLp-h0Rxg"
      },
      "execution_count": null,
      "outputs": []
    },
    {
      "cell_type": "markdown",
      "source": [
        "###REGRESSION TREE"
      ],
      "metadata": {
        "id": "7n_rOD-q426b"
      }
    },
    {
      "cell_type": "code",
      "source": [
        ""
      ],
      "metadata": {
        "id": "Nt_KojID0RvI"
      },
      "execution_count": null,
      "outputs": []
    },
    {
      "cell_type": "code",
      "source": [
        ""
      ],
      "metadata": {
        "id": "r1l1cBHn0RtB"
      },
      "execution_count": null,
      "outputs": []
    },
    {
      "cell_type": "code",
      "source": [
        "#KNN\n",
        "\n",
        "from sklearn.model_selection import train_test_split\n",
        "\n",
        "#note: id is dropped, since it has nothing to do with predictions. \n",
        "\n",
        "x_train, x_val, y_train, y_val = train_test_split(final_x, y, test_size=0.3, random_state = 0)\n",
        "\n",
        "from sklearn.neighbors import KNeighborsClassifier\n",
        "\n",
        "from sklearn import metrics\n",
        "\n",
        "def find_best_k(x,y, x_val, y_val):\n",
        "    \"\"\"\n",
        "    find best K for KNN\n",
        "    \"\"\"\n",
        "    accuracy = []\n",
        "    \n",
        "    for i in range(1,21):\n",
        "        knn = KNeighborsClassifier(n_neighbors = i).fit(x,y)\n",
        "        preds = knn.predict(x_val)\n",
        "        accuracy.append(metrics.accuracy_score(y_val, preds))\n",
        "        \n",
        "    return max(accuracy), accuracy\n",
        "    \n",
        "bestK = find_best_k(x_train, y_train, x_val, y_val)[0]\n",
        "acc = find_best_k(x_train, y_train, x_val, y_val)[1]\n",
        "\n",
        "indices = [i for i, x in enumerate(acc) if x == bestK]\n",
        "\n",
        "print(\"best accuracy is: \", bestK)\n",
        "print(\"best k for this: \", indices)\n",
        "\n",
        "commented these out because it takes a while to run! I ran it once and got \"19\" - using that after this. Commenting this out so that future runs don't take as long. \n",
        "\n",
        "    "
      ],
      "metadata": {
        "id": "unrrs5eKxJLP"
      },
      "execution_count": null,
      "outputs": []
    },
    {
      "cell_type": "code",
      "source": [
        "#final prediction : \n",
        "\n",
        "#logarithm of prices\n",
        "\n",
        "log_prices = np.array(df_copy['dollar_price'])\n",
        "log_prices = np.log(log_prices)\n",
        "\n",
        "df_copy['log_prices'] = pd.Series(log_prices)\n",
        "\n",
        "df_copy.head()"
      ],
      "metadata": {
        "id": "EF_byc7qHBRP"
      },
      "execution_count": null,
      "outputs": []
    }
  ]
}
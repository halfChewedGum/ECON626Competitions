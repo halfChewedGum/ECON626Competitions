{
  "nbformat": 4,
  "nbformat_minor": 0,
  "metadata": {
    "colab": {
      "name": "ECON_final_02_NN_reg.ipynb",
      "provenance": [],
      "collapsed_sections": [],
      "authorship_tag": "ABX9TyOUB6aQ4dBYvTizEpPqyEj5",
      "include_colab_link": true
    },
    "kernelspec": {
      "name": "python3",
      "display_name": "Python 3"
    },
    "language_info": {
      "name": "python"
    },
    "accelerator": "GPU",
    "widgets": {
      "application/vnd.jupyter.widget-state+json": {
        "69423bd9884d463f86d31ef92e9ab319": {
          "model_module": "@jupyter-widgets/controls",
          "model_name": "HBoxModel",
          "model_module_version": "1.5.0",
          "state": {
            "_dom_classes": [],
            "_model_module": "@jupyter-widgets/controls",
            "_model_module_version": "1.5.0",
            "_model_name": "HBoxModel",
            "_view_count": null,
            "_view_module": "@jupyter-widgets/controls",
            "_view_module_version": "1.5.0",
            "_view_name": "HBoxView",
            "box_style": "",
            "children": [
              "IPY_MODEL_9eee8b9e188f46d1b2e8240b488f3297",
              "IPY_MODEL_68853e2f03be44d987cceb2cf8c8b6ed",
              "IPY_MODEL_71d29380a51c4ea19b255a364082f0d7"
            ],
            "layout": "IPY_MODEL_45d09757de3645dd99ae61f6bbc146be"
          }
        },
        "9eee8b9e188f46d1b2e8240b488f3297": {
          "model_module": "@jupyter-widgets/controls",
          "model_name": "HTMLModel",
          "model_module_version": "1.5.0",
          "state": {
            "_dom_classes": [],
            "_model_module": "@jupyter-widgets/controls",
            "_model_module_version": "1.5.0",
            "_model_name": "HTMLModel",
            "_view_count": null,
            "_view_module": "@jupyter-widgets/controls",
            "_view_module_version": "1.5.0",
            "_view_name": "HTMLView",
            "description": "",
            "description_tooltip": null,
            "layout": "IPY_MODEL_0e41baebe7a140409433e72bcc9e87f8",
            "placeholder": "​",
            "style": "IPY_MODEL_0a1ef22f5fed45098ed561d876d21b54",
            "value": "100%"
          }
        },
        "68853e2f03be44d987cceb2cf8c8b6ed": {
          "model_module": "@jupyter-widgets/controls",
          "model_name": "FloatProgressModel",
          "model_module_version": "1.5.0",
          "state": {
            "_dom_classes": [],
            "_model_module": "@jupyter-widgets/controls",
            "_model_module_version": "1.5.0",
            "_model_name": "FloatProgressModel",
            "_view_count": null,
            "_view_module": "@jupyter-widgets/controls",
            "_view_module_version": "1.5.0",
            "_view_name": "ProgressView",
            "bar_style": "success",
            "description": "",
            "description_tooltip": null,
            "layout": "IPY_MODEL_9535ec51573d4e46bab95b3b4c003307",
            "max": 200,
            "min": 0,
            "orientation": "horizontal",
            "style": "IPY_MODEL_b00904c8dfb54321b545855d30216c7a",
            "value": 200
          }
        },
        "71d29380a51c4ea19b255a364082f0d7": {
          "model_module": "@jupyter-widgets/controls",
          "model_name": "HTMLModel",
          "model_module_version": "1.5.0",
          "state": {
            "_dom_classes": [],
            "_model_module": "@jupyter-widgets/controls",
            "_model_module_version": "1.5.0",
            "_model_name": "HTMLModel",
            "_view_count": null,
            "_view_module": "@jupyter-widgets/controls",
            "_view_module_version": "1.5.0",
            "_view_name": "HTMLView",
            "description": "",
            "description_tooltip": null,
            "layout": "IPY_MODEL_3151368c2043455da24363c820cb493e",
            "placeholder": "​",
            "style": "IPY_MODEL_80444a0b23894d31ba2c8cc3cb9642b7",
            "value": " 200/200 [00:53&lt;00:00,  3.62it/s]"
          }
        },
        "45d09757de3645dd99ae61f6bbc146be": {
          "model_module": "@jupyter-widgets/base",
          "model_name": "LayoutModel",
          "model_module_version": "1.2.0",
          "state": {
            "_model_module": "@jupyter-widgets/base",
            "_model_module_version": "1.2.0",
            "_model_name": "LayoutModel",
            "_view_count": null,
            "_view_module": "@jupyter-widgets/base",
            "_view_module_version": "1.2.0",
            "_view_name": "LayoutView",
            "align_content": null,
            "align_items": null,
            "align_self": null,
            "border": null,
            "bottom": null,
            "display": null,
            "flex": null,
            "flex_flow": null,
            "grid_area": null,
            "grid_auto_columns": null,
            "grid_auto_flow": null,
            "grid_auto_rows": null,
            "grid_column": null,
            "grid_gap": null,
            "grid_row": null,
            "grid_template_areas": null,
            "grid_template_columns": null,
            "grid_template_rows": null,
            "height": null,
            "justify_content": null,
            "justify_items": null,
            "left": null,
            "margin": null,
            "max_height": null,
            "max_width": null,
            "min_height": null,
            "min_width": null,
            "object_fit": null,
            "object_position": null,
            "order": null,
            "overflow": null,
            "overflow_x": null,
            "overflow_y": null,
            "padding": null,
            "right": null,
            "top": null,
            "visibility": null,
            "width": null
          }
        },
        "0e41baebe7a140409433e72bcc9e87f8": {
          "model_module": "@jupyter-widgets/base",
          "model_name": "LayoutModel",
          "model_module_version": "1.2.0",
          "state": {
            "_model_module": "@jupyter-widgets/base",
            "_model_module_version": "1.2.0",
            "_model_name": "LayoutModel",
            "_view_count": null,
            "_view_module": "@jupyter-widgets/base",
            "_view_module_version": "1.2.0",
            "_view_name": "LayoutView",
            "align_content": null,
            "align_items": null,
            "align_self": null,
            "border": null,
            "bottom": null,
            "display": null,
            "flex": null,
            "flex_flow": null,
            "grid_area": null,
            "grid_auto_columns": null,
            "grid_auto_flow": null,
            "grid_auto_rows": null,
            "grid_column": null,
            "grid_gap": null,
            "grid_row": null,
            "grid_template_areas": null,
            "grid_template_columns": null,
            "grid_template_rows": null,
            "height": null,
            "justify_content": null,
            "justify_items": null,
            "left": null,
            "margin": null,
            "max_height": null,
            "max_width": null,
            "min_height": null,
            "min_width": null,
            "object_fit": null,
            "object_position": null,
            "order": null,
            "overflow": null,
            "overflow_x": null,
            "overflow_y": null,
            "padding": null,
            "right": null,
            "top": null,
            "visibility": null,
            "width": null
          }
        },
        "0a1ef22f5fed45098ed561d876d21b54": {
          "model_module": "@jupyter-widgets/controls",
          "model_name": "DescriptionStyleModel",
          "model_module_version": "1.5.0",
          "state": {
            "_model_module": "@jupyter-widgets/controls",
            "_model_module_version": "1.5.0",
            "_model_name": "DescriptionStyleModel",
            "_view_count": null,
            "_view_module": "@jupyter-widgets/base",
            "_view_module_version": "1.2.0",
            "_view_name": "StyleView",
            "description_width": ""
          }
        },
        "9535ec51573d4e46bab95b3b4c003307": {
          "model_module": "@jupyter-widgets/base",
          "model_name": "LayoutModel",
          "model_module_version": "1.2.0",
          "state": {
            "_model_module": "@jupyter-widgets/base",
            "_model_module_version": "1.2.0",
            "_model_name": "LayoutModel",
            "_view_count": null,
            "_view_module": "@jupyter-widgets/base",
            "_view_module_version": "1.2.0",
            "_view_name": "LayoutView",
            "align_content": null,
            "align_items": null,
            "align_self": null,
            "border": null,
            "bottom": null,
            "display": null,
            "flex": null,
            "flex_flow": null,
            "grid_area": null,
            "grid_auto_columns": null,
            "grid_auto_flow": null,
            "grid_auto_rows": null,
            "grid_column": null,
            "grid_gap": null,
            "grid_row": null,
            "grid_template_areas": null,
            "grid_template_columns": null,
            "grid_template_rows": null,
            "height": null,
            "justify_content": null,
            "justify_items": null,
            "left": null,
            "margin": null,
            "max_height": null,
            "max_width": null,
            "min_height": null,
            "min_width": null,
            "object_fit": null,
            "object_position": null,
            "order": null,
            "overflow": null,
            "overflow_x": null,
            "overflow_y": null,
            "padding": null,
            "right": null,
            "top": null,
            "visibility": null,
            "width": null
          }
        },
        "b00904c8dfb54321b545855d30216c7a": {
          "model_module": "@jupyter-widgets/controls",
          "model_name": "ProgressStyleModel",
          "model_module_version": "1.5.0",
          "state": {
            "_model_module": "@jupyter-widgets/controls",
            "_model_module_version": "1.5.0",
            "_model_name": "ProgressStyleModel",
            "_view_count": null,
            "_view_module": "@jupyter-widgets/base",
            "_view_module_version": "1.2.0",
            "_view_name": "StyleView",
            "bar_color": null,
            "description_width": ""
          }
        },
        "3151368c2043455da24363c820cb493e": {
          "model_module": "@jupyter-widgets/base",
          "model_name": "LayoutModel",
          "model_module_version": "1.2.0",
          "state": {
            "_model_module": "@jupyter-widgets/base",
            "_model_module_version": "1.2.0",
            "_model_name": "LayoutModel",
            "_view_count": null,
            "_view_module": "@jupyter-widgets/base",
            "_view_module_version": "1.2.0",
            "_view_name": "LayoutView",
            "align_content": null,
            "align_items": null,
            "align_self": null,
            "border": null,
            "bottom": null,
            "display": null,
            "flex": null,
            "flex_flow": null,
            "grid_area": null,
            "grid_auto_columns": null,
            "grid_auto_flow": null,
            "grid_auto_rows": null,
            "grid_column": null,
            "grid_gap": null,
            "grid_row": null,
            "grid_template_areas": null,
            "grid_template_columns": null,
            "grid_template_rows": null,
            "height": null,
            "justify_content": null,
            "justify_items": null,
            "left": null,
            "margin": null,
            "max_height": null,
            "max_width": null,
            "min_height": null,
            "min_width": null,
            "object_fit": null,
            "object_position": null,
            "order": null,
            "overflow": null,
            "overflow_x": null,
            "overflow_y": null,
            "padding": null,
            "right": null,
            "top": null,
            "visibility": null,
            "width": null
          }
        },
        "80444a0b23894d31ba2c8cc3cb9642b7": {
          "model_module": "@jupyter-widgets/controls",
          "model_name": "DescriptionStyleModel",
          "model_module_version": "1.5.0",
          "state": {
            "_model_module": "@jupyter-widgets/controls",
            "_model_module_version": "1.5.0",
            "_model_name": "DescriptionStyleModel",
            "_view_count": null,
            "_view_module": "@jupyter-widgets/base",
            "_view_module_version": "1.2.0",
            "_view_name": "StyleView",
            "description_width": ""
          }
        }
      }
    }
  },
  "cells": [
    {
      "cell_type": "markdown",
      "metadata": {
        "id": "view-in-github",
        "colab_type": "text"
      },
      "source": [
        "<a href=\"https://colab.research.google.com/github/halfChewedGum/ECON626Competitions/blob/main/ECON_final_02_NN_reg_finished.ipynb\" target=\"_parent\"><img src=\"https://colab.research.google.com/assets/colab-badge.svg\" alt=\"Open In Colab\"/></a>"
      ]
    },
    {
      "cell_type": "markdown",
      "source": [
        "# Regression Analysis - Neural Networks\n",
        "\n",
        "\n",
        "In here, I will use Neural Networks to predict the log of car prices. "
      ],
      "metadata": {
        "id": "zW1F6c8cT5qc"
      }
    },
    {
      "cell_type": "code",
      "source": [
        "import pandas as pd \n",
        "import numpy as np \n",
        "import matplotlib.pyplot as plt\n",
        "import seaborn as sns\n",
        "import tensorflow as tf\n",
        "from tensorflow import keras\n",
        "from keras.models import Sequential\n",
        "from keras.layers import Dense, Conv1D, Flatten\n",
        "from sklearn.model_selection import train_test_split\n",
        "from sklearn.metrics import mean_squared_error\n",
        "from sklearn.metrics import r2_score\n",
        "\n",
        "\n",
        "from google.colab import files\n",
        "uploaded = files.upload()"
      ],
      "metadata": {
        "colab": {
          "resources": {
            "http://localhost:8080/nbextensions/google.colab/files.js": {
              "data": "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",
              "ok": true,
              "headers": [
                [
                  "content-type",
                  "application/javascript"
                ]
              ],
              "status": 200,
              "status_text": ""
            }
          },
          "base_uri": "https://localhost:8080/",
          "height": 73
        },
        "id": "tvqOmWRFUo8N",
        "outputId": "74667298-8754-433b-d606-a35e8ed4314e"
      },
      "execution_count": 2,
      "outputs": [
        {
          "output_type": "display_data",
          "data": {
            "text/plain": [
              "<IPython.core.display.HTML object>"
            ],
            "text/html": [
              "\n",
              "     <input type=\"file\" id=\"files-6c784641-74bf-4c55-b36f-c0a1c554290c\" name=\"files[]\" multiple disabled\n",
              "        style=\"border:none\" />\n",
              "     <output id=\"result-6c784641-74bf-4c55-b36f-c0a1c554290c\">\n",
              "      Upload widget is only available when the cell has been executed in the\n",
              "      current browser session. Please rerun this cell to enable.\n",
              "      </output>\n",
              "      <script src=\"/nbextensions/google.colab/files.js\"></script> "
            ]
          },
          "metadata": {}
        },
        {
          "output_type": "stream",
          "name": "stdout",
          "text": [
            "Saving 02_wrk_data_train.csv to 02_wrk_data_train.csv\n"
          ]
        }
      ]
    },
    {
      "cell_type": "code",
      "source": [
        "import io\n",
        "df = pd.read_csv(io.BytesIO(uploaded['02_wrk_data_train.csv']))"
      ],
      "metadata": {
        "id": "z0Mso1nIUo5a"
      },
      "execution_count": 3,
      "outputs": []
    },
    {
      "cell_type": "code",
      "source": [
        "# df['log_price'] = pd.Series(np.log(np.array(df['log_price'])))\n",
        "\n",
        "df.head(3)"
      ],
      "metadata": {
        "colab": {
          "base_uri": "https://localhost:8080/",
          "height": 254
        },
        "id": "LJ1004AlVkB6",
        "outputId": "cd61062b-b5f6-4089-fabe-8ec37c945a49"
      },
      "execution_count": 4,
      "outputs": [
        {
          "output_type": "execute_result",
          "data": {
            "text/plain": [
              "   Unnamed: 0  Unnamed: 0.1  Unnamed: 0.1.1  dollar_price date_crawled  \\\n",
              "0           0             0               0         900.0   2016-03-26   \n",
              "1           1             1               1        7100.0   2016-03-29   \n",
              "2           2             2               2         500.0   2016-03-23   \n",
              "\n",
              "                                          name  vehicle_type  \\\n",
              "0  Renault_Kangoo_1.4__TÃƒÂœV_01/2018__1._Hand             0   \n",
              "1                                 BMW_116d_DPF             0   \n",
              "2                          Volkswagen_Lupo_1.4             1   \n",
              "\n",
              "   registration_year  gearbox  power_ps  ...  unrepaired_damage  ad_created  \\\n",
              "0               2016        0        75  ...                 ja        2016   \n",
              "1               2009        0       116  ...               nein        2016   \n",
              "2               1999        0        75  ...                 ja        2016   \n",
              "\n",
              "   postal_code last_seen_online   price  year      km  damage  age  log_prices  \n",
              "0        82256       2016-04-06   900.0  2016  150000     1.0    0    6.802395  \n",
              "1        30457       2016-03-30  7100.0  2009   90000     0.0    7    8.867850  \n",
              "2        87734       2016-03-23   500.0  1999  150000     1.0   17    6.214608  \n",
              "\n",
              "[3 rows x 23 columns]"
            ],
            "text/html": [
              "\n",
              "  <div id=\"df-16a6496f-7215-4b7b-bc6e-450fcaea7d1c\">\n",
              "    <div class=\"colab-df-container\">\n",
              "      <div>\n",
              "<style scoped>\n",
              "    .dataframe tbody tr th:only-of-type {\n",
              "        vertical-align: middle;\n",
              "    }\n",
              "\n",
              "    .dataframe tbody tr th {\n",
              "        vertical-align: top;\n",
              "    }\n",
              "\n",
              "    .dataframe thead th {\n",
              "        text-align: right;\n",
              "    }\n",
              "</style>\n",
              "<table border=\"1\" class=\"dataframe\">\n",
              "  <thead>\n",
              "    <tr style=\"text-align: right;\">\n",
              "      <th></th>\n",
              "      <th>Unnamed: 0</th>\n",
              "      <th>Unnamed: 0.1</th>\n",
              "      <th>Unnamed: 0.1.1</th>\n",
              "      <th>dollar_price</th>\n",
              "      <th>date_crawled</th>\n",
              "      <th>name</th>\n",
              "      <th>vehicle_type</th>\n",
              "      <th>registration_year</th>\n",
              "      <th>gearbox</th>\n",
              "      <th>power_ps</th>\n",
              "      <th>...</th>\n",
              "      <th>unrepaired_damage</th>\n",
              "      <th>ad_created</th>\n",
              "      <th>postal_code</th>\n",
              "      <th>last_seen_online</th>\n",
              "      <th>price</th>\n",
              "      <th>year</th>\n",
              "      <th>km</th>\n",
              "      <th>damage</th>\n",
              "      <th>age</th>\n",
              "      <th>log_prices</th>\n",
              "    </tr>\n",
              "  </thead>\n",
              "  <tbody>\n",
              "    <tr>\n",
              "      <th>0</th>\n",
              "      <td>0</td>\n",
              "      <td>0</td>\n",
              "      <td>0</td>\n",
              "      <td>900.0</td>\n",
              "      <td>2016-03-26</td>\n",
              "      <td>Renault_Kangoo_1.4__TÃƒÂœV_01/2018__1._Hand</td>\n",
              "      <td>0</td>\n",
              "      <td>2016</td>\n",
              "      <td>0</td>\n",
              "      <td>75</td>\n",
              "      <td>...</td>\n",
              "      <td>ja</td>\n",
              "      <td>2016</td>\n",
              "      <td>82256</td>\n",
              "      <td>2016-04-06</td>\n",
              "      <td>900.0</td>\n",
              "      <td>2016</td>\n",
              "      <td>150000</td>\n",
              "      <td>1.0</td>\n",
              "      <td>0</td>\n",
              "      <td>6.802395</td>\n",
              "    </tr>\n",
              "    <tr>\n",
              "      <th>1</th>\n",
              "      <td>1</td>\n",
              "      <td>1</td>\n",
              "      <td>1</td>\n",
              "      <td>7100.0</td>\n",
              "      <td>2016-03-29</td>\n",
              "      <td>BMW_116d_DPF</td>\n",
              "      <td>0</td>\n",
              "      <td>2009</td>\n",
              "      <td>0</td>\n",
              "      <td>116</td>\n",
              "      <td>...</td>\n",
              "      <td>nein</td>\n",
              "      <td>2016</td>\n",
              "      <td>30457</td>\n",
              "      <td>2016-03-30</td>\n",
              "      <td>7100.0</td>\n",
              "      <td>2009</td>\n",
              "      <td>90000</td>\n",
              "      <td>0.0</td>\n",
              "      <td>7</td>\n",
              "      <td>8.867850</td>\n",
              "    </tr>\n",
              "    <tr>\n",
              "      <th>2</th>\n",
              "      <td>2</td>\n",
              "      <td>2</td>\n",
              "      <td>2</td>\n",
              "      <td>500.0</td>\n",
              "      <td>2016-03-23</td>\n",
              "      <td>Volkswagen_Lupo_1.4</td>\n",
              "      <td>1</td>\n",
              "      <td>1999</td>\n",
              "      <td>0</td>\n",
              "      <td>75</td>\n",
              "      <td>...</td>\n",
              "      <td>ja</td>\n",
              "      <td>2016</td>\n",
              "      <td>87734</td>\n",
              "      <td>2016-03-23</td>\n",
              "      <td>500.0</td>\n",
              "      <td>1999</td>\n",
              "      <td>150000</td>\n",
              "      <td>1.0</td>\n",
              "      <td>17</td>\n",
              "      <td>6.214608</td>\n",
              "    </tr>\n",
              "  </tbody>\n",
              "</table>\n",
              "<p>3 rows × 23 columns</p>\n",
              "</div>\n",
              "      <button class=\"colab-df-convert\" onclick=\"convertToInteractive('df-16a6496f-7215-4b7b-bc6e-450fcaea7d1c')\"\n",
              "              title=\"Convert this dataframe to an interactive table.\"\n",
              "              style=\"display:none;\">\n",
              "        \n",
              "  <svg xmlns=\"http://www.w3.org/2000/svg\" height=\"24px\"viewBox=\"0 0 24 24\"\n",
              "       width=\"24px\">\n",
              "    <path d=\"M0 0h24v24H0V0z\" fill=\"none\"/>\n",
              "    <path d=\"M18.56 5.44l.94 2.06.94-2.06 2.06-.94-2.06-.94-.94-2.06-.94 2.06-2.06.94zm-11 1L8.5 8.5l.94-2.06 2.06-.94-2.06-.94L8.5 2.5l-.94 2.06-2.06.94zm10 10l.94 2.06.94-2.06 2.06-.94-2.06-.94-.94-2.06-.94 2.06-2.06.94z\"/><path d=\"M17.41 7.96l-1.37-1.37c-.4-.4-.92-.59-1.43-.59-.52 0-1.04.2-1.43.59L10.3 9.45l-7.72 7.72c-.78.78-.78 2.05 0 2.83L4 21.41c.39.39.9.59 1.41.59.51 0 1.02-.2 1.41-.59l7.78-7.78 2.81-2.81c.8-.78.8-2.07 0-2.86zM5.41 20L4 18.59l7.72-7.72 1.47 1.35L5.41 20z\"/>\n",
              "  </svg>\n",
              "      </button>\n",
              "      \n",
              "  <style>\n",
              "    .colab-df-container {\n",
              "      display:flex;\n",
              "      flex-wrap:wrap;\n",
              "      gap: 12px;\n",
              "    }\n",
              "\n",
              "    .colab-df-convert {\n",
              "      background-color: #E8F0FE;\n",
              "      border: none;\n",
              "      border-radius: 50%;\n",
              "      cursor: pointer;\n",
              "      display: none;\n",
              "      fill: #1967D2;\n",
              "      height: 32px;\n",
              "      padding: 0 0 0 0;\n",
              "      width: 32px;\n",
              "    }\n",
              "\n",
              "    .colab-df-convert:hover {\n",
              "      background-color: #E2EBFA;\n",
              "      box-shadow: 0px 1px 2px rgba(60, 64, 67, 0.3), 0px 1px 3px 1px rgba(60, 64, 67, 0.15);\n",
              "      fill: #174EA6;\n",
              "    }\n",
              "\n",
              "    [theme=dark] .colab-df-convert {\n",
              "      background-color: #3B4455;\n",
              "      fill: #D2E3FC;\n",
              "    }\n",
              "\n",
              "    [theme=dark] .colab-df-convert:hover {\n",
              "      background-color: #434B5C;\n",
              "      box-shadow: 0px 1px 3px 1px rgba(0, 0, 0, 0.15);\n",
              "      filter: drop-shadow(0px 1px 2px rgba(0, 0, 0, 0.3));\n",
              "      fill: #FFFFFF;\n",
              "    }\n",
              "  </style>\n",
              "\n",
              "      <script>\n",
              "        const buttonEl =\n",
              "          document.querySelector('#df-16a6496f-7215-4b7b-bc6e-450fcaea7d1c button.colab-df-convert');\n",
              "        buttonEl.style.display =\n",
              "          google.colab.kernel.accessAllowed ? 'block' : 'none';\n",
              "\n",
              "        async function convertToInteractive(key) {\n",
              "          const element = document.querySelector('#df-16a6496f-7215-4b7b-bc6e-450fcaea7d1c');\n",
              "          const dataTable =\n",
              "            await google.colab.kernel.invokeFunction('convertToInteractive',\n",
              "                                                     [key], {});\n",
              "          if (!dataTable) return;\n",
              "\n",
              "          const docLinkHtml = 'Like what you see? Visit the ' +\n",
              "            '<a target=\"_blank\" href=https://colab.research.google.com/notebooks/data_table.ipynb>data table notebook</a>'\n",
              "            + ' to learn more about interactive tables.';\n",
              "          element.innerHTML = '';\n",
              "          dataTable['output_type'] = 'display_data';\n",
              "          await google.colab.output.renderOutput(dataTable, element);\n",
              "          const docLink = document.createElement('div');\n",
              "          docLink.innerHTML = docLinkHtml;\n",
              "          element.appendChild(docLink);\n",
              "        }\n",
              "      </script>\n",
              "    </div>\n",
              "  </div>\n",
              "  "
            ]
          },
          "metadata": {},
          "execution_count": 4
        }
      ]
    },
    {
      "cell_type": "code",
      "source": [
        "df.columns"
      ],
      "metadata": {
        "colab": {
          "base_uri": "https://localhost:8080/"
        },
        "id": "M4aEqYT1MUYj",
        "outputId": "d2161e86-8555-4461-f03a-c5ab8d57a1fe"
      },
      "execution_count": 5,
      "outputs": [
        {
          "output_type": "execute_result",
          "data": {
            "text/plain": [
              "Index(['Unnamed: 0', 'Unnamed: 0.1', 'Unnamed: 0.1.1', 'dollar_price',\n",
              "       'date_crawled', 'name', 'vehicle_type', 'registration_year', 'gearbox',\n",
              "       'power_ps', 'kilometer', 'registration_month', 'fuel_type',\n",
              "       'unrepaired_damage', 'ad_created', 'postal_code', 'last_seen_online',\n",
              "       'price', 'year', 'km', 'damage', 'age', 'log_prices'],\n",
              "      dtype='object')"
            ]
          },
          "metadata": {},
          "execution_count": 5
        }
      ]
    },
    {
      "cell_type": "code",
      "source": [
        "#predictors and target train and validation sets \n",
        "\n",
        "x = df[['vehicle_type', 'registration_year', 'gearbox', 'power_ps', 'kilometer', 'fuel_type', 'postal_code', 'age']]\n",
        "y = df['log_prices']\n",
        "\n",
        "x_train, x_val, y_train, y_val = train_test_split(x, y, test_size = 0.3, random_state = 0)\n"
      ],
      "metadata": {
        "id": "6713uv1LMV3M"
      },
      "execution_count": 7,
      "outputs": []
    },
    {
      "cell_type": "code",
      "source": [
        "sns.pairplot(df, \n",
        "             x_vars = ['vehicle_type', 'power_ps', 'kilometer', 'fuel_type', 'damage'],\n",
        "             y_vars = ['log_prices']\n",
        "             )"
      ],
      "metadata": {
        "colab": {
          "base_uri": "https://localhost:8080/",
          "height": 215
        },
        "id": "PbEehqdpUo2y",
        "outputId": "25f6cfd5-b2ae-4b07-8cdf-af58ddba56a6"
      },
      "execution_count": 9,
      "outputs": [
        {
          "output_type": "execute_result",
          "data": {
            "text/plain": [
              "<seaborn.axisgrid.PairGrid at 0x7ff811c7ad10>"
            ]
          },
          "metadata": {},
          "execution_count": 9
        },
        {
          "output_type": "display_data",
          "data": {
            "text/plain": [
              "<Figure size 900x180 with 5 Axes>"
            ],
            "image/png": "[encoded data removed]"
          },
          "metadata": {
            "needs_background": "light"
          }
        }
      ]
    },
    {
      "cell_type": "code",
      "source": [
        "#normalizer \n",
        "from sklearn import preprocessing\n",
        "\n",
        "def norm_predictors(x):\n",
        "  \"\"\" Takes in a dataframe X and returns a normalized version using MinMaxScaling\"\"\"\n",
        "  cols = list(x.columns)\n",
        "  x = np.array(x)  \n",
        "  minMax = preprocessing.MinMaxScaler()\n",
        "  x_scale = minMax.fit_transform(x)\n",
        "  df = pd.DataFrame(x_scale, columns = cols)\n",
        "\n",
        "  return df \n",
        "\n",
        "ndf = norm_predictors(df[['vehicle_type', 'gearbox', 'power_ps', 'kilometer', 'fuel_type', 'postal_code', 'age', 'log_prices']])\n",
        "ndf.head(3)"
      ],
      "metadata": {
        "colab": {
          "base_uri": "https://localhost:8080/",
          "height": 143
        },
        "id": "SuYb3gvbUowi",
        "outputId": "f0ee4493-e61d-47c7-fcde-9a440c6a92d1"
      },
      "execution_count": 10,
      "outputs": [
        {
          "output_type": "execute_result",
          "data": {
            "text/plain": [
              "   vehicle_type  gearbox  power_ps  kilometer  fuel_type  postal_code  \\\n",
              "0      0.000000      0.0   0.00375   1.000000       0.00     0.820663   \n",
              "1      0.000000      0.0   0.00580   0.586207       0.25     0.297076   \n",
              "2      0.166667      0.0   0.00375   1.000000       0.00     0.876035   \n",
              "\n",
              "        age  log_prices  \n",
              "0  0.000000    0.095271  \n",
              "1  0.098592    0.430050  \n",
              "2  0.239437    0.000000  "
            ],
            "text/html": [
              "\n",
              "  <div id=\"df-4b5da2c0-c8a4-4106-9783-37b426d76abf\">\n",
              "    <div class=\"colab-df-container\">\n",
              "      <div>\n",
              "<style scoped>\n",
              "    .dataframe tbody tr th:only-of-type {\n",
              "        vertical-align: middle;\n",
              "    }\n",
              "\n",
              "    .dataframe tbody tr th {\n",
              "        vertical-align: top;\n",
              "    }\n",
              "\n",
              "    .dataframe thead th {\n",
              "        text-align: right;\n",
              "    }\n",
              "</style>\n",
              "<table border=\"1\" class=\"dataframe\">\n",
              "  <thead>\n",
              "    <tr style=\"text-align: right;\">\n",
              "      <th></th>\n",
              "      <th>vehicle_type</th>\n",
              "      <th>gearbox</th>\n",
              "      <th>power_ps</th>\n",
              "      <th>kilometer</th>\n",
              "      <th>fuel_type</th>\n",
              "      <th>postal_code</th>\n",
              "      <th>age</th>\n",
              "      <th>log_prices</th>\n",
              "    </tr>\n",
              "  </thead>\n",
              "  <tbody>\n",
              "    <tr>\n",
              "      <th>0</th>\n",
              "      <td>0.000000</td>\n",
              "      <td>0.0</td>\n",
              "      <td>0.00375</td>\n",
              "      <td>1.000000</td>\n",
              "      <td>0.00</td>\n",
              "      <td>0.820663</td>\n",
              "      <td>0.000000</td>\n",
              "      <td>0.095271</td>\n",
              "    </tr>\n",
              "    <tr>\n",
              "      <th>1</th>\n",
              "      <td>0.000000</td>\n",
              "      <td>0.0</td>\n",
              "      <td>0.00580</td>\n",
              "      <td>0.586207</td>\n",
              "      <td>0.25</td>\n",
              "      <td>0.297076</td>\n",
              "      <td>0.098592</td>\n",
              "      <td>0.430050</td>\n",
              "    </tr>\n",
              "    <tr>\n",
              "      <th>2</th>\n",
              "      <td>0.166667</td>\n",
              "      <td>0.0</td>\n",
              "      <td>0.00375</td>\n",
              "      <td>1.000000</td>\n",
              "      <td>0.00</td>\n",
              "      <td>0.876035</td>\n",
              "      <td>0.239437</td>\n",
              "      <td>0.000000</td>\n",
              "    </tr>\n",
              "  </tbody>\n",
              "</table>\n",
              "</div>\n",
              "      <button class=\"colab-df-convert\" onclick=\"convertToInteractive('df-4b5da2c0-c8a4-4106-9783-37b426d76abf')\"\n",
              "              title=\"Convert this dataframe to an interactive table.\"\n",
              "              style=\"display:none;\">\n",
              "        \n",
              "  <svg xmlns=\"http://www.w3.org/2000/svg\" height=\"24px\"viewBox=\"0 0 24 24\"\n",
              "       width=\"24px\">\n",
              "    <path d=\"M0 0h24v24H0V0z\" fill=\"none\"/>\n",
              "    <path d=\"M18.56 5.44l.94 2.06.94-2.06 2.06-.94-2.06-.94-.94-2.06-.94 2.06-2.06.94zm-11 1L8.5 8.5l.94-2.06 2.06-.94-2.06-.94L8.5 2.5l-.94 2.06-2.06.94zm10 10l.94 2.06.94-2.06 2.06-.94-2.06-.94-.94-2.06-.94 2.06-2.06.94z\"/><path d=\"M17.41 7.96l-1.37-1.37c-.4-.4-.92-.59-1.43-.59-.52 0-1.04.2-1.43.59L10.3 9.45l-7.72 7.72c-.78.78-.78 2.05 0 2.83L4 21.41c.39.39.9.59 1.41.59.51 0 1.02-.2 1.41-.59l7.78-7.78 2.81-2.81c.8-.78.8-2.07 0-2.86zM5.41 20L4 18.59l7.72-7.72 1.47 1.35L5.41 20z\"/>\n",
              "  </svg>\n",
              "      </button>\n",
              "      \n",
              "  <style>\n",
              "    .colab-df-container {\n",
              "      display:flex;\n",
              "      flex-wrap:wrap;\n",
              "      gap: 12px;\n",
              "    }\n",
              "\n",
              "    .colab-df-convert {\n",
              "      background-color: #E8F0FE;\n",
              "      border: none;\n",
              "      border-radius: 50%;\n",
              "      cursor: pointer;\n",
              "      display: none;\n",
              "      fill: #1967D2;\n",
              "      height: 32px;\n",
              "      padding: 0 0 0 0;\n",
              "      width: 32px;\n",
              "    }\n",
              "\n",
              "    .colab-df-convert:hover {\n",
              "      background-color: #E2EBFA;\n",
              "      box-shadow: 0px 1px 2px rgba(60, 64, 67, 0.3), 0px 1px 3px 1px rgba(60, 64, 67, 0.15);\n",
              "      fill: #174EA6;\n",
              "    }\n",
              "\n",
              "    [theme=dark] .colab-df-convert {\n",
              "      background-color: #3B4455;\n",
              "      fill: #D2E3FC;\n",
              "    }\n",
              "\n",
              "    [theme=dark] .colab-df-convert:hover {\n",
              "      background-color: #434B5C;\n",
              "      box-shadow: 0px 1px 3px 1px rgba(0, 0, 0, 0.15);\n",
              "      filter: drop-shadow(0px 1px 2px rgba(0, 0, 0, 0.3));\n",
              "      fill: #FFFFFF;\n",
              "    }\n",
              "  </style>\n",
              "\n",
              "      <script>\n",
              "        const buttonEl =\n",
              "          document.querySelector('#df-4b5da2c0-c8a4-4106-9783-37b426d76abf button.colab-df-convert');\n",
              "        buttonEl.style.display =\n",
              "          google.colab.kernel.accessAllowed ? 'block' : 'none';\n",
              "\n",
              "        async function convertToInteractive(key) {\n",
              "          const element = document.querySelector('#df-4b5da2c0-c8a4-4106-9783-37b426d76abf');\n",
              "          const dataTable =\n",
              "            await google.colab.kernel.invokeFunction('convertToInteractive',\n",
              "                                                     [key], {});\n",
              "          if (!dataTable) return;\n",
              "\n",
              "          const docLinkHtml = 'Like what you see? Visit the ' +\n",
              "            '<a target=\"_blank\" href=https://colab.research.google.com/notebooks/data_table.ipynb>data table notebook</a>'\n",
              "            + ' to learn more about interactive tables.';\n",
              "          element.innerHTML = '';\n",
              "          dataTable['output_type'] = 'display_data';\n",
              "          await google.colab.output.renderOutput(dataTable, element);\n",
              "          const docLink = document.createElement('div');\n",
              "          docLink.innerHTML = docLinkHtml;\n",
              "          element.appendChild(docLink);\n",
              "        }\n",
              "      </script>\n",
              "    </div>\n",
              "  </div>\n",
              "  "
            ]
          },
          "metadata": {},
          "execution_count": 10
        }
      ]
    },
    {
      "cell_type": "code",
      "source": [
        "nx = ndf[['vehicle_type', 'gearbox', 'power_ps', 'kilometer', 'fuel_type', 'postal_code', 'age']]\n",
        "ny = ndf['log_prices']\n",
        "\n",
        "nx_train, nx_val, ny_train, ny_val = train_test_split(nx, ny, test_size = 0.3, random_state = 0)"
      ],
      "metadata": {
        "id": "sbSBB-mNwMAf"
      },
      "execution_count": 11,
      "outputs": []
    },
    {
      "cell_type": "code",
      "source": [
        "sns.pairplot(ndf, \n",
        "             x_vars = ['vehicle_type', 'power_ps', 'kilometer', 'fuel_type'],\n",
        "             y_vars = ['log_prices']\n",
        "             )"
      ],
      "metadata": {
        "colab": {
          "base_uri": "https://localhost:8080/",
          "height": 215
        },
        "id": "yf_LdEyaVfhQ",
        "outputId": "20e1fd2b-6888-4894-985f-6018782e2f1f"
      },
      "execution_count": 13,
      "outputs": [
        {
          "output_type": "execute_result",
          "data": {
            "text/plain": [
              "<seaborn.axisgrid.PairGrid at 0x7ff80fbc5890>"
            ]
          },
          "metadata": {},
          "execution_count": 13
        },
        {
          "output_type": "display_data",
          "data": {
            "text/plain": [
              "<Figure size 720x180 with 4 Axes>"
            ],
            "image/png": "[encoded data removed]"
          },
          "metadata": {
            "needs_background": "light"
          }
        }
      ]
    },
    {
      "cell_type": "code",
      "source": [
        "!pip install scikeras "
      ],
      "metadata": {
        "colab": {
          "base_uri": "https://localhost:8080/"
        },
        "id": "F6umzbwVw-v3",
        "outputId": "1043d203-2989-4a19-fd6a-fc7f06e5ee15"
      },
      "execution_count": 15,
      "outputs": [
        {
          "output_type": "stream",
          "name": "stdout",
          "text": [
            "Collecting scikeras\n",
            "  Downloading scikeras-0.6.1-py3-none-any.whl (27 kB)\n",
            "Requirement already satisfied: scikit-learn>=1.0.0 in /usr/local/lib/python3.7/dist-packages (from scikeras) (1.0.2)\n",
            "Requirement already satisfied: packaging<22.0,>=0.21 in /usr/local/lib/python3.7/dist-packages (from scikeras) (21.3)\n",
            "Collecting importlib-metadata<4,>=3\n",
            "  Downloading importlib_metadata-3.10.1-py3-none-any.whl (14 kB)\n",
            "Requirement already satisfied: typing-extensions>=3.6.4 in /usr/local/lib/python3.7/dist-packages (from importlib-metadata<4,>=3->scikeras) (3.10.0.2)\n",
            "Requirement already satisfied: zipp>=0.5 in /usr/local/lib/python3.7/dist-packages (from importlib-metadata<4,>=3->scikeras) (3.7.0)\n",
            "Requirement already satisfied: pyparsing!=3.0.5,>=2.0.2 in /usr/local/lib/python3.7/dist-packages (from packaging<22.0,>=0.21->scikeras) (3.0.7)\n",
            "Requirement already satisfied: joblib>=0.11 in /usr/local/lib/python3.7/dist-packages (from scikit-learn>=1.0.0->scikeras) (1.1.0)\n",
            "Requirement already satisfied: scipy>=1.1.0 in /usr/local/lib/python3.7/dist-packages (from scikit-learn>=1.0.0->scikeras) (1.4.1)\n",
            "Requirement already satisfied: threadpoolctl>=2.0.0 in /usr/local/lib/python3.7/dist-packages (from scikit-learn>=1.0.0->scikeras) (3.1.0)\n",
            "Requirement already satisfied: numpy>=1.14.6 in /usr/local/lib/python3.7/dist-packages (from scikit-learn>=1.0.0->scikeras) (1.21.5)\n",
            "Installing collected packages: importlib-metadata, scikeras\n",
            "  Attempting uninstall: importlib-metadata\n",
            "    Found existing installation: importlib-metadata 4.11.3\n",
            "    Uninstalling importlib-metadata-4.11.3:\n",
            "      Successfully uninstalled importlib-metadata-4.11.3\n",
            "\u001b[31mERROR: pip's dependency resolver does not currently take into account all the packages that are installed. This behaviour is the source of the following dependency conflicts.\n",
            "markdown 3.3.6 requires importlib-metadata>=4.4; python_version < \"3.10\", but you have importlib-metadata 3.10.1 which is incompatible.\u001b[0m\n",
            "Successfully installed importlib-metadata-3.10.1 scikeras-0.6.1\n"
          ]
        }
      ]
    },
    {
      "cell_type": "code",
      "execution_count": 20,
      "metadata": {
        "colab": {
          "base_uri": "https://localhost:8080/",
          "height": 391
        },
        "id": "OJeuiULQT1d4",
        "outputId": "ca7e4e6d-24c7-4737-8d89-a5eeb362418a"
      },
      "outputs": [
        {
          "output_type": "execute_result",
          "data": {
            "text/plain": [
              "                                                        0         1  \\\n",
              "10cv    {'optimizer__learning_rate': 0.001, 'model__n_...  0.178230   \n",
              "5cv     {'optimizer__learning_rate': 0.0001, 'model__n...  0.063634   \n",
              "10cv_n  {'optimizer__learning_rate': 0.001, 'model__n_...  0.711335   \n",
              "5cv_n   {'optimizer__learning_rate': 0.0001, 'model__n...  0.707944   \n",
              "\n",
              "                                                        2  \n",
              "10cv    KerasRegressor(\\n\\tmodel=<function findbestmod...  \n",
              "5cv     KerasRegressor(\\n\\tmodel=<function findbestmod...  \n",
              "10cv_n  KerasRegressor(\\n\\tmodel=<function findbestmod...  \n",
              "5cv_n   KerasRegressor(\\n\\tmodel=<function findbestmod...  "
            ],
            "text/html": [
              "\n",
              "  <div id=\"df-b570a2b1-e453-4abe-a2f4-0a07f7520805\">\n",
              "    <div class=\"colab-df-container\">\n",
              "      <div>\n",
              "<style scoped>\n",
              "    .dataframe tbody tr th:only-of-type {\n",
              "        vertical-align: middle;\n",
              "    }\n",
              "\n",
              "    .dataframe tbody tr th {\n",
              "        vertical-align: top;\n",
              "    }\n",
              "\n",
              "    .dataframe thead th {\n",
              "        text-align: right;\n",
              "    }\n",
              "</style>\n",
              "<table border=\"1\" class=\"dataframe\">\n",
              "  <thead>\n",
              "    <tr style=\"text-align: right;\">\n",
              "      <th></th>\n",
              "      <th>0</th>\n",
              "      <th>1</th>\n",
              "      <th>2</th>\n",
              "    </tr>\n",
              "  </thead>\n",
              "  <tbody>\n",
              "    <tr>\n",
              "      <th>10cv</th>\n",
              "      <td>{'optimizer__learning_rate': 0.001, 'model__n_...</td>\n",
              "      <td>0.178230</td>\n",
              "      <td>KerasRegressor(\\n\\tmodel=&lt;function findbestmod...</td>\n",
              "    </tr>\n",
              "    <tr>\n",
              "      <th>5cv</th>\n",
              "      <td>{'optimizer__learning_rate': 0.0001, 'model__n...</td>\n",
              "      <td>0.063634</td>\n",
              "      <td>KerasRegressor(\\n\\tmodel=&lt;function findbestmod...</td>\n",
              "    </tr>\n",
              "    <tr>\n",
              "      <th>10cv_n</th>\n",
              "      <td>{'optimizer__learning_rate': 0.001, 'model__n_...</td>\n",
              "      <td>0.711335</td>\n",
              "      <td>KerasRegressor(\\n\\tmodel=&lt;function findbestmod...</td>\n",
              "    </tr>\n",
              "    <tr>\n",
              "      <th>5cv_n</th>\n",
              "      <td>{'optimizer__learning_rate': 0.0001, 'model__n...</td>\n",
              "      <td>0.707944</td>\n",
              "      <td>KerasRegressor(\\n\\tmodel=&lt;function findbestmod...</td>\n",
              "    </tr>\n",
              "  </tbody>\n",
              "</table>\n",
              "</div>\n",
              "      <button class=\"colab-df-convert\" onclick=\"convertToInteractive('df-b570a2b1-e453-4abe-a2f4-0a07f7520805')\"\n",
              "              title=\"Convert this dataframe to an interactive table.\"\n",
              "              style=\"display:none;\">\n",
              "        \n",
              "  <svg xmlns=\"http://www.w3.org/2000/svg\" height=\"24px\"viewBox=\"0 0 24 24\"\n",
              "       width=\"24px\">\n",
              "    <path d=\"M0 0h24v24H0V0z\" fill=\"none\"/>\n",
              "    <path d=\"M18.56 5.44l.94 2.06.94-2.06 2.06-.94-2.06-.94-.94-2.06-.94 2.06-2.06.94zm-11 1L8.5 8.5l.94-2.06 2.06-.94-2.06-.94L8.5 2.5l-.94 2.06-2.06.94zm10 10l.94 2.06.94-2.06 2.06-.94-2.06-.94-.94-2.06-.94 2.06-2.06.94z\"/><path d=\"M17.41 7.96l-1.37-1.37c-.4-.4-.92-.59-1.43-.59-.52 0-1.04.2-1.43.59L10.3 9.45l-7.72 7.72c-.78.78-.78 2.05 0 2.83L4 21.41c.39.39.9.59 1.41.59.51 0 1.02-.2 1.41-.59l7.78-7.78 2.81-2.81c.8-.78.8-2.07 0-2.86zM5.41 20L4 18.59l7.72-7.72 1.47 1.35L5.41 20z\"/>\n",
              "  </svg>\n",
              "      </button>\n",
              "      \n",
              "  <style>\n",
              "    .colab-df-container {\n",
              "      display:flex;\n",
              "      flex-wrap:wrap;\n",
              "      gap: 12px;\n",
              "    }\n",
              "\n",
              "    .colab-df-convert {\n",
              "      background-color: #E8F0FE;\n",
              "      border: none;\n",
              "      border-radius: 50%;\n",
              "      cursor: pointer;\n",
              "      display: none;\n",
              "      fill: #1967D2;\n",
              "      height: 32px;\n",
              "      padding: 0 0 0 0;\n",
              "      width: 32px;\n",
              "    }\n",
              "\n",
              "    .colab-df-convert:hover {\n",
              "      background-color: #E2EBFA;\n",
              "      box-shadow: 0px 1px 2px rgba(60, 64, 67, 0.3), 0px 1px 3px 1px rgba(60, 64, 67, 0.15);\n",
              "      fill: #174EA6;\n",
              "    }\n",
              "\n",
              "    [theme=dark] .colab-df-convert {\n",
              "      background-color: #3B4455;\n",
              "      fill: #D2E3FC;\n",
              "    }\n",
              "\n",
              "    [theme=dark] .colab-df-convert:hover {\n",
              "      background-color: #434B5C;\n",
              "      box-shadow: 0px 1px 3px 1px rgba(0, 0, 0, 0.15);\n",
              "      filter: drop-shadow(0px 1px 2px rgba(0, 0, 0, 0.3));\n",
              "      fill: #FFFFFF;\n",
              "    }\n",
              "  </style>\n",
              "\n",
              "      <script>\n",
              "        const buttonEl =\n",
              "          document.querySelector('#df-b570a2b1-e453-4abe-a2f4-0a07f7520805 button.colab-df-convert');\n",
              "        buttonEl.style.display =\n",
              "          google.colab.kernel.accessAllowed ? 'block' : 'none';\n",
              "\n",
              "        async function convertToInteractive(key) {\n",
              "          const element = document.querySelector('#df-b570a2b1-e453-4abe-a2f4-0a07f7520805');\n",
              "          const dataTable =\n",
              "            await google.colab.kernel.invokeFunction('convertToInteractive',\n",
              "                                                     [key], {});\n",
              "          if (!dataTable) return;\n",
              "\n",
              "          const docLinkHtml = 'Like what you see? Visit the ' +\n",
              "            '<a target=\"_blank\" href=https://colab.research.google.com/notebooks/data_table.ipynb>data table notebook</a>'\n",
              "            + ' to learn more about interactive tables.';\n",
              "          element.innerHTML = '';\n",
              "          dataTable['output_type'] = 'display_data';\n",
              "          await google.colab.output.renderOutput(dataTable, element);\n",
              "          const docLink = document.createElement('div');\n",
              "          docLink.innerHTML = docLinkHtml;\n",
              "          element.appendChild(docLink);\n",
              "        }\n",
              "      </script>\n",
              "    </div>\n",
              "  </div>\n",
              "  "
            ]
          },
          "metadata": {},
          "execution_count": 20
        }
      ],
      "source": [
        "#find best model \n",
        "\n",
        "def findbestmodel(n_hidden = 2, n_neurons = 30, learning_rate = 0.01, input_shape = [8]):\n",
        "  model = keras.models.Sequential() \n",
        "  model.add(keras.layers.InputLayer(input_shape = input_shape, name = 'input_layer'))\n",
        "\n",
        "  #hidden layers \n",
        "  for i in range(n_hidden):\n",
        "    model.add(keras.layers.Dense(n_neurons, activation = 'relu', name = 'hidden_%s' % i))\n",
        "\n",
        "  model.add(keras.layers.Dense(1, name = 'output_layer'))\n",
        "\n",
        "  optimizer = keras.optimizers.Adam(learning_rate = learning_rate)\n",
        "  \n",
        "  model.compile(loss = 'mse', optimizer = optimizer)\n",
        "\n",
        "  return model \n",
        "\n",
        "def findbestmodel7(n_hidden = 2, n_neurons = 30, learning_rate = 0.01, input_shape = [7]):\n",
        "  model = keras.models.Sequential() \n",
        "  model.add(keras.layers.InputLayer(input_shape = input_shape, name = 'input_layer'))\n",
        "\n",
        "  #hidden layers \n",
        "  for i in range(n_hidden):\n",
        "    model.add(keras.layers.Dense(n_neurons, activation = 'relu', name = 'hidden_%s' % i))\n",
        "\n",
        "  model.add(keras.layers.Dense(1, name = 'output_layer'))\n",
        "\n",
        "  optimizer = keras.optimizers.Adam(learning_rate = learning_rate)\n",
        "  \n",
        "  model.compile(loss = 'mse', optimizer = optimizer)\n",
        "\n",
        "  return model \n",
        "\n",
        "#Define the hyperparameter space\n",
        "params = {\n",
        "          'model__n_hidden': np.arange(1,16),\n",
        "          'model__n_neurons': np.arange(8,81), \n",
        "          'optimizer__learning_rate': [0.01, 0.001, 0.0001]\n",
        "}\n",
        "\n",
        "#model I want to use \n",
        "from scikeras.wrappers import KerasRegressor\n",
        "from sklearn.model_selection import RandomizedSearchCV\n",
        "\n",
        "kerasReg = KerasRegressor(findbestmodel, verbose = 0)\n",
        "kerasReg_norm = KerasRegressor(findbestmodel7, verbose = 0)\n",
        "\n",
        "def find_best_params(p, m, x, y, cv):\n",
        "  rnd_search = RandomizedSearchCV(m, param_distributions= p, n_iter = 10, cv = cv) \n",
        "  rnd_search_result = rnd_search.fit(x, y)\n",
        "  \n",
        "  best_par = rnd_search_result.best_params_\n",
        "  best_score = rnd_search_result.best_score_\n",
        "  best_estimate = rnd_search_result.best_estimator_\n",
        "\n",
        "  return best_par, best_score, best_estimate\n",
        "\n",
        "best_pars_dict = {}\n",
        "\n",
        "best_pars_dict['10cv'] = find_best_params(params, kerasReg, x_train, y_train, 10)\n",
        "best_pars_dict['5cv'] = find_best_params(params, kerasReg, x_train, y_train, 5)\n",
        "best_pars_dict['10cv_n'] = find_best_params(params, kerasReg_norm, nx_train, ny_train, 10)\n",
        "best_pars_dict['5cv_n'] = find_best_params(params, kerasReg_norm, nx_train, ny_train, 5)\n",
        "\n",
        "# column_names = ['10 CV', '5 CV', '10 CV Normalized', '5 CV Normalized']\n",
        "best_pars_df = pd.DataFrame.from_dict(best_pars_dict, orient = 'index')\n",
        "\n",
        "best_pars_df"
      ]
    },
    {
      "cell_type": "markdown",
      "source": [
        "According to the above results, the best parameters are: \n",
        "\n",
        "- Normalized data\n",
        "- learning rate 0f 0.001\n",
        "- Neurons 51\n",
        "- Hidden Layers 5\n",
        "\n",
        "With accuracy of 71.13%"
      ],
      "metadata": {
        "id": "YtS13UUAN04u"
      }
    },
    {
      "cell_type": "code",
      "source": [
        "l_rate_best = 0.001\n",
        "n_neurons_best = 51\n",
        "n_hidden_layers_best = 5\n",
        "\n",
        "n_neurons_reg = 28\n",
        "n_hidden_layers_reg = 13\n",
        "\n",
        "\n",
        "def build_deploy_model(n_neuron, n_layers, input_shape, l_rate, x, y, xval, yval, activ):\n",
        "  model = keras.models.Sequential()\n",
        "\n",
        "  model.add(keras.layers.InputLayer(input_shape = input_shape, name = 'input_layer'))\n",
        "\n",
        "  for i in range(n_layers):\n",
        "    model.add(keras.layers.Dense(n_neuron, activation = activ, name = 'hidden_%s' % i))\n",
        "\n",
        "  model.add(keras.layers.Dense(1, name = 'output_layer'))\n",
        "\n",
        "  optimizer = keras.optimizers.Adam(learning_rate = l_rate)\n",
        "\n",
        "  model.compile(loss = 'mse', optimizer = optimizer)\n",
        "\n",
        "  print('model exec time: ')\n",
        "  %time\n",
        "  history = model.fit(\n",
        "      x,\n",
        "      y,\n",
        "      epochs=100,\n",
        "      verbose=0,\n",
        "      validation_split = 0.2)\n",
        "  \n",
        "  evals = model.evaluate(xval, yval)\n",
        "  y_pred = model.predict(xval)\n",
        "  mse = mean_squared_error(y_pred, yval)\n",
        "  r2 = r2_score(y_pred, yval)\n",
        "\n",
        "  model_info = {\n",
        "      'model' : model,\n",
        "      'evaluation' : evals,\n",
        "      'prediction' : y_pred,\n",
        "      'MSE' : mse,\n",
        "      'R-Squared' : r2, \n",
        "      'history' : history\n",
        "  }\n",
        "\n",
        "  return model_info \n",
        "\n",
        "information_dict = {\n",
        "    # 'relu': {},\n",
        "    # 'tanh': {},\n",
        "    # 'selu': {},\n",
        "    # 'elu' : {}\n",
        "}\n",
        "\n",
        "information_dict_normal = {}\n",
        "\n",
        "\n",
        "information_dict['relu'] = build_deploy_model(n_neurons_best, n_hidden_layers_best, [8], l_rate_best, x_train, y_train, x_val, y_val, 'relu')\n",
        "information_dict['tanh'] = build_deploy_model(n_neurons_best, n_hidden_layers_best, [8], l_rate_best,x_train, y_train, x_val, y_val, 'tanh')\n",
        "information_dict['selu'] = build_deploy_model(n_neurons_best, n_hidden_layers_best, [8], l_rate_best, x_train, y_train, x_val, y_val, 'selu')\n",
        "information_dict['elu'] = build_deploy_model(n_neurons_best, n_hidden_layers_best, [8], l_rate_best, x_train, y_train, x_val, y_val, 'elu')\n",
        "\n",
        "information_dict_normal['relu'] = build_deploy_model(n_neurons_best, n_hidden_layers_best, [7], l_rate_best, nx_train, ny_train, nx_val, ny_val, 'relu')\n",
        "information_dict_normal['tanh'] = build_deploy_model(n_neurons_best, n_hidden_layers_best, [7], l_rate_best, nx_train, ny_train, nx_val, ny_val, 'tanh')\n",
        "information_dict_normal['selu'] = build_deploy_model(n_neurons_best, n_hidden_layers_best, [7], l_rate_best, nx_train, ny_train, nx_val, ny_val, 'selu')\n",
        "information_dict_normal['elu'] = build_deploy_model(n_neurons_best, n_hidden_layers_best, [7], l_rate_best, nx_train, ny_train, nx_val, ny_val, 'elu')"
      ],
      "metadata": {
        "colab": {
          "base_uri": "https://localhost:8080/"
        },
        "id": "OuU4hoViUSjZ",
        "outputId": "ceda0963-66c4-4c1c-e3e0-0632b9e1c161"
      },
      "execution_count": 21,
      "outputs": [
        {
          "output_type": "stream",
          "name": "stdout",
          "text": [
            "model exec time: \n",
            "CPU times: user 4 µs, sys: 0 ns, total: 4 µs\n",
            "Wall time: 6.44 µs\n",
            "1875/1875 [==============================] - 3s 1ms/step - loss: 1.1422\n",
            "model exec time: \n",
            "CPU times: user 3 µs, sys: 1e+03 ns, total: 4 µs\n",
            "Wall time: 7.15 µs\n",
            "1875/1875 [==============================] - 3s 1ms/step - loss: 1.1463\n",
            "model exec time: \n",
            "CPU times: user 3 µs, sys: 0 ns, total: 3 µs\n",
            "Wall time: 6.91 µs\n",
            "1875/1875 [==============================] - 3s 1ms/step - loss: 1.1466\n",
            "model exec time: \n",
            "CPU times: user 3 µs, sys: 1e+03 ns, total: 4 µs\n",
            "Wall time: 7.15 µs\n",
            "1875/1875 [==============================] - 3s 1ms/step - loss: 1060.7668\n",
            "model exec time: \n",
            "CPU times: user 0 ns, sys: 3 µs, total: 3 µs\n",
            "Wall time: 6.91 µs\n",
            "1875/1875 [==============================] - 3s 1ms/step - loss: 0.0064\n",
            "model exec time: \n",
            "CPU times: user 4 µs, sys: 0 ns, total: 4 µs\n",
            "Wall time: 7.15 µs\n",
            "1875/1875 [==============================] - 3s 1ms/step - loss: 0.0066\n",
            "model exec time: \n",
            "CPU times: user 3 µs, sys: 0 ns, total: 3 µs\n",
            "Wall time: 6.68 µs\n",
            "1875/1875 [==============================] - 3s 1ms/step - loss: 0.0068\n",
            "model exec time: \n",
            "CPU times: user 3 µs, sys: 1 µs, total: 4 µs\n",
            "Wall time: 7.63 µs\n",
            "1875/1875 [==============================] - 3s 1ms/step - loss: 0.0065\n"
          ]
        }
      ]
    },
    {
      "cell_type": "code",
      "source": [
        "information_dict"
      ],
      "metadata": {
        "colab": {
          "base_uri": "https://localhost:8080/"
        },
        "id": "UQcjAKKWyLf-",
        "outputId": "7bb7fe71-ceac-49fa-eb7f-f370efad9a28"
      },
      "execution_count": 22,
      "outputs": [
        {
          "output_type": "execute_result",
          "data": {
            "text/plain": [
              "{'elu': {'MSE': 1060.766052274759,\n",
              "  'R-Squared': -0.0012656804973132374,\n",
              "  'evaluation': 1060.766845703125,\n",
              "  'history': <keras.callbacks.History at 0x7ff80a96c9d0>,\n",
              "  'model': <keras.engine.sequential.Sequential at 0x7ff80fd28710>,\n",
              "  'prediction': array([[8.260173],\n",
              "         [8.260173],\n",
              "         [8.260173],\n",
              "         ...,\n",
              "         [8.260173],\n",
              "         [8.260173],\n",
              "         [8.260173]], dtype=float32)},\n",
              " 'relu': {'MSE': 1.142200947759892,\n",
              "  'R-Squared': -313965805828.6922,\n",
              "  'evaluation': 1.142199993133545,\n",
              "  'history': <keras.callbacks.History at 0x7ff8010cf450>,\n",
              "  'model': <keras.engine.sequential.Sequential at 0x7ff80a2abdd0>,\n",
              "  'prediction': array([[8.198138],\n",
              "         [8.198138],\n",
              "         [8.198138],\n",
              "         ...,\n",
              "         [8.198138],\n",
              "         [8.198138],\n",
              "         [8.198138]], dtype=float32)},\n",
              " 'selu': {'MSE': 1.1465643255489304,\n",
              "  'R-Squared': -1260660807933.196,\n",
              "  'evaluation': 1.1465647220611572,\n",
              "  'history': <keras.callbacks.History at 0x7ff80179c650>,\n",
              "  'model': <keras.engine.sequential.Sequential at 0x7ff8015e9510>,\n",
              "  'prediction': array([[8.102724],\n",
              "         [8.102724],\n",
              "         [8.102724],\n",
              "         ...,\n",
              "         [8.102724],\n",
              "         [8.102724],\n",
              "         [8.102724]], dtype=float32)},\n",
              " 'tanh': {'MSE': 1.146293667239192,\n",
              "  'R-Squared': -337583.1576502014,\n",
              "  'evaluation': 1.1462947130203247,\n",
              "  'history': <keras.callbacks.History at 0x7ff80a346050>,\n",
              "  'model': <keras.engine.sequential.Sequential at 0x7ff80a2abcd0>,\n",
              "  'prediction': array([[8.104691],\n",
              "         [8.104691],\n",
              "         [8.104691],\n",
              "         ...,\n",
              "         [8.104691],\n",
              "         [8.104691],\n",
              "         [8.104691]], dtype=float32)}}"
            ]
          },
          "metadata": {},
          "execution_count": 22
        }
      ]
    },
    {
      "cell_type": "code",
      "source": [
        "information_dict_normal"
      ],
      "metadata": {
        "colab": {
          "base_uri": "https://localhost:8080/"
        },
        "id": "hesDhig-yNDN",
        "outputId": "f3f8f0b8-fd0f-4643-a3a6-4d05998d1190"
      },
      "execution_count": 23,
      "outputs": [
        {
          "output_type": "execute_result",
          "data": {
            "text/plain": [
              "{'elu': {'MSE': 0.006481090640529779,\n",
              "  'R-Squared': 0.732309659618132,\n",
              "  'evaluation': 0.0064810835756361485,\n",
              "  'history': <keras.callbacks.History at 0x7ff80ac033d0>,\n",
              "  'model': <keras.engine.sequential.Sequential at 0x7ff80b05b950>,\n",
              "  'prediction': array([[0.17564394],\n",
              "         [0.17856824],\n",
              "         [0.5642779 ],\n",
              "         ...,\n",
              "         [0.17781794],\n",
              "         [0.23392889],\n",
              "         [0.50957876]], dtype=float32)},\n",
              " 'relu': {'MSE': 0.006417788425440095,\n",
              "  'R-Squared': 0.7400911305988209,\n",
              "  'evaluation': 0.006417788099497557,\n",
              "  'history': <keras.callbacks.History at 0x7ff80a673990>,\n",
              "  'model': <keras.engine.sequential.Sequential at 0x7ff80b008290>,\n",
              "  'prediction': array([[0.17559505],\n",
              "         [0.16747686],\n",
              "         [0.57056904],\n",
              "         ...,\n",
              "         [0.19631448],\n",
              "         [0.2280469 ],\n",
              "         [0.49889854]], dtype=float32)},\n",
              " 'selu': {'MSE': 0.006773888747003552,\n",
              "  'R-Squared': 0.6538018236968226,\n",
              "  'evaluation': 0.006773889996111393,\n",
              "  'history': <keras.callbacks.History at 0x7ff80a6737d0>,\n",
              "  'model': <keras.engine.sequential.Sequential at 0x7ff80b05b9d0>,\n",
              "  'prediction': array([[0.2062604 ],\n",
              "         [0.15764356],\n",
              "         [0.5254942 ],\n",
              "         ...,\n",
              "         [0.1904412 ],\n",
              "         [0.22676301],\n",
              "         [0.46001148]], dtype=float32)},\n",
              " 'tanh': {'MSE': 0.006619117290979225,\n",
              "  'R-Squared': 0.6991062482735847,\n",
              "  'evaluation': 0.006619117222726345,\n",
              "  'history': <keras.callbacks.History at 0x7ff7fc69acd0>,\n",
              "  'model': <keras.engine.sequential.Sequential at 0x7ff7fd5eb490>,\n",
              "  'prediction': array([[0.19343528],\n",
              "         [0.15518332],\n",
              "         [0.5494257 ],\n",
              "         ...,\n",
              "         [0.18108675],\n",
              "         [0.22416408],\n",
              "         [0.5177899 ]], dtype=float32)}}"
            ]
          },
          "metadata": {},
          "execution_count": 23
        }
      ]
    },
    {
      "cell_type": "markdown",
      "source": [
        "'relu': \n",
        "{'MSE': 0.006417788425440095,\n",
        "\n",
        "  'R-Squared': 0.7400911305988209,\n",
        " \n",
        "  'evaluation': 0.006417788099497557,\n",
        " \n",
        "  'history': <keras.callbacks.History at 0x7ff80a673990>,\n",
        " \n",
        "  'model': <keras.engine.sequential.Sequential at 0x7ff80b008290>,\n",
        " \n",
        "  'prediction': array([[0.17559505],"
      ],
      "metadata": {
        "id": "LUus5iqXk0Ox"
      }
    },
    {
      "cell_type": "markdown",
      "source": [
        "**THE CHOSEN ACTIVATION IS:** "
      ],
      "metadata": {
        "id": "nL1YVE9YZBcI"
      }
    },
    {
      "cell_type": "code",
      "source": [
        "print('Model Summary : ')\n",
        "print('-----------------------------------------------------------')\n",
        "\n",
        "chosen_model = information_dict_normal['relu']\n",
        "chosen_model['model'].summary()"
      ],
      "metadata": {
        "colab": {
          "base_uri": "https://localhost:8080/"
        },
        "id": "4Jwmb3ihUTVN",
        "outputId": "22be8c4b-2bb1-48c0-e530-c3aa3e3b992d"
      },
      "execution_count": 24,
      "outputs": [
        {
          "output_type": "stream",
          "name": "stdout",
          "text": [
            "Model Summary : \n",
            "-----------------------------------------------------------\n",
            "Model: \"sequential_734\"\n",
            "_________________________________________________________________\n",
            " Layer (type)                Output Shape              Param #   \n",
            "=================================================================\n",
            " hidden_0 (Dense)            (None, 51)                408       \n",
            "                                                                 \n",
            " hidden_1 (Dense)            (None, 51)                2652      \n",
            "                                                                 \n",
            " hidden_2 (Dense)            (None, 51)                2652      \n",
            "                                                                 \n",
            " hidden_3 (Dense)            (None, 51)                2652      \n",
            "                                                                 \n",
            " hidden_4 (Dense)            (None, 51)                2652      \n",
            "                                                                 \n",
            " output_layer (Dense)        (None, 1)                 52        \n",
            "                                                                 \n",
            "=================================================================\n",
            "Total params: 11,068\n",
            "Trainable params: 11,068\n",
            "Non-trainable params: 0\n",
            "_________________________________________________________________\n"
          ]
        }
      ]
    },
    {
      "cell_type": "code",
      "source": [
        "print('Model run History (end) : ')\n",
        "print('-----------------------------------------------------------')\n",
        "\n",
        "hist = pd.DataFrame(chosen_model['history'].history)\n",
        "hist['epoch'] = chosen_model['history'].epoch\n",
        "hist.tail()"
      ],
      "metadata": {
        "colab": {
          "base_uri": "https://localhost:8080/",
          "height": 241
        },
        "id": "wFo7jpItUTSo",
        "outputId": "d624d6f4-5e9b-4338-c360-9e5d8e50f346"
      },
      "execution_count": 25,
      "outputs": [
        {
          "output_type": "stream",
          "name": "stdout",
          "text": [
            "Model run History (end) : \n",
            "-----------------------------------------------------------\n"
          ]
        },
        {
          "output_type": "execute_result",
          "data": {
            "text/plain": [
              "        loss  val_loss  epoch\n",
              "95  0.006128  0.006389     95\n",
              "96  0.006125  0.006303     96\n",
              "97  0.006121  0.006416     97\n",
              "98  0.006112  0.006394     98\n",
              "99  0.006098  0.006354     99"
            ],
            "text/html": [
              "\n",
              "  <div id=\"df-6f19f8e3-3934-4646-8d85-f93b1462accf\">\n",
              "    <div class=\"colab-df-container\">\n",
              "      <div>\n",
              "<style scoped>\n",
              "    .dataframe tbody tr th:only-of-type {\n",
              "        vertical-align: middle;\n",
              "    }\n",
              "\n",
              "    .dataframe tbody tr th {\n",
              "        vertical-align: top;\n",
              "    }\n",
              "\n",
              "    .dataframe thead th {\n",
              "        text-align: right;\n",
              "    }\n",
              "</style>\n",
              "<table border=\"1\" class=\"dataframe\">\n",
              "  <thead>\n",
              "    <tr style=\"text-align: right;\">\n",
              "      <th></th>\n",
              "      <th>loss</th>\n",
              "      <th>val_loss</th>\n",
              "      <th>epoch</th>\n",
              "    </tr>\n",
              "  </thead>\n",
              "  <tbody>\n",
              "    <tr>\n",
              "      <th>95</th>\n",
              "      <td>0.006128</td>\n",
              "      <td>0.006389</td>\n",
              "      <td>95</td>\n",
              "    </tr>\n",
              "    <tr>\n",
              "      <th>96</th>\n",
              "      <td>0.006125</td>\n",
              "      <td>0.006303</td>\n",
              "      <td>96</td>\n",
              "    </tr>\n",
              "    <tr>\n",
              "      <th>97</th>\n",
              "      <td>0.006121</td>\n",
              "      <td>0.006416</td>\n",
              "      <td>97</td>\n",
              "    </tr>\n",
              "    <tr>\n",
              "      <th>98</th>\n",
              "      <td>0.006112</td>\n",
              "      <td>0.006394</td>\n",
              "      <td>98</td>\n",
              "    </tr>\n",
              "    <tr>\n",
              "      <th>99</th>\n",
              "      <td>0.006098</td>\n",
              "      <td>0.006354</td>\n",
              "      <td>99</td>\n",
              "    </tr>\n",
              "  </tbody>\n",
              "</table>\n",
              "</div>\n",
              "      <button class=\"colab-df-convert\" onclick=\"convertToInteractive('df-6f19f8e3-3934-4646-8d85-f93b1462accf')\"\n",
              "              title=\"Convert this dataframe to an interactive table.\"\n",
              "              style=\"display:none;\">\n",
              "        \n",
              "  <svg xmlns=\"http://www.w3.org/2000/svg\" height=\"24px\"viewBox=\"0 0 24 24\"\n",
              "       width=\"24px\">\n",
              "    <path d=\"M0 0h24v24H0V0z\" fill=\"none\"/>\n",
              "    <path d=\"M18.56 5.44l.94 2.06.94-2.06 2.06-.94-2.06-.94-.94-2.06-.94 2.06-2.06.94zm-11 1L8.5 8.5l.94-2.06 2.06-.94-2.06-.94L8.5 2.5l-.94 2.06-2.06.94zm10 10l.94 2.06.94-2.06 2.06-.94-2.06-.94-.94-2.06-.94 2.06-2.06.94z\"/><path d=\"M17.41 7.96l-1.37-1.37c-.4-.4-.92-.59-1.43-.59-.52 0-1.04.2-1.43.59L10.3 9.45l-7.72 7.72c-.78.78-.78 2.05 0 2.83L4 21.41c.39.39.9.59 1.41.59.51 0 1.02-.2 1.41-.59l7.78-7.78 2.81-2.81c.8-.78.8-2.07 0-2.86zM5.41 20L4 18.59l7.72-7.72 1.47 1.35L5.41 20z\"/>\n",
              "  </svg>\n",
              "      </button>\n",
              "      \n",
              "  <style>\n",
              "    .colab-df-container {\n",
              "      display:flex;\n",
              "      flex-wrap:wrap;\n",
              "      gap: 12px;\n",
              "    }\n",
              "\n",
              "    .colab-df-convert {\n",
              "      background-color: #E8F0FE;\n",
              "      border: none;\n",
              "      border-radius: 50%;\n",
              "      cursor: pointer;\n",
              "      display: none;\n",
              "      fill: #1967D2;\n",
              "      height: 32px;\n",
              "      padding: 0 0 0 0;\n",
              "      width: 32px;\n",
              "    }\n",
              "\n",
              "    .colab-df-convert:hover {\n",
              "      background-color: #E2EBFA;\n",
              "      box-shadow: 0px 1px 2px rgba(60, 64, 67, 0.3), 0px 1px 3px 1px rgba(60, 64, 67, 0.15);\n",
              "      fill: #174EA6;\n",
              "    }\n",
              "\n",
              "    [theme=dark] .colab-df-convert {\n",
              "      background-color: #3B4455;\n",
              "      fill: #D2E3FC;\n",
              "    }\n",
              "\n",
              "    [theme=dark] .colab-df-convert:hover {\n",
              "      background-color: #434B5C;\n",
              "      box-shadow: 0px 1px 3px 1px rgba(0, 0, 0, 0.15);\n",
              "      filter: drop-shadow(0px 1px 2px rgba(0, 0, 0, 0.3));\n",
              "      fill: #FFFFFF;\n",
              "    }\n",
              "  </style>\n",
              "\n",
              "      <script>\n",
              "        const buttonEl =\n",
              "          document.querySelector('#df-6f19f8e3-3934-4646-8d85-f93b1462accf button.colab-df-convert');\n",
              "        buttonEl.style.display =\n",
              "          google.colab.kernel.accessAllowed ? 'block' : 'none';\n",
              "\n",
              "        async function convertToInteractive(key) {\n",
              "          const element = document.querySelector('#df-6f19f8e3-3934-4646-8d85-f93b1462accf');\n",
              "          const dataTable =\n",
              "            await google.colab.kernel.invokeFunction('convertToInteractive',\n",
              "                                                     [key], {});\n",
              "          if (!dataTable) return;\n",
              "\n",
              "          const docLinkHtml = 'Like what you see? Visit the ' +\n",
              "            '<a target=\"_blank\" href=https://colab.research.google.com/notebooks/data_table.ipynb>data table notebook</a>'\n",
              "            + ' to learn more about interactive tables.';\n",
              "          element.innerHTML = '';\n",
              "          dataTable['output_type'] = 'display_data';\n",
              "          await google.colab.output.renderOutput(dataTable, element);\n",
              "          const docLink = document.createElement('div');\n",
              "          docLink.innerHTML = docLinkHtml;\n",
              "          element.appendChild(docLink);\n",
              "        }\n",
              "      </script>\n",
              "    </div>\n",
              "  </div>\n",
              "  "
            ]
          },
          "metadata": {},
          "execution_count": 25
        }
      ]
    },
    {
      "cell_type": "code",
      "source": [
        "def plot_loss(history):\n",
        "  plt.plot(chosen_model['history'].history['loss'], label='loss')\n",
        "  plt.plot(chosen_model['history'].history['val_loss'], label='val_loss')\n",
        "  plt.xlabel('Epoch')\n",
        "  plt.ylabel('Error')\n",
        "  plt.legend()\n",
        "  plt.grid(True)\n",
        "\n",
        "plot_loss(chosen_model['history'])"
      ],
      "metadata": {
        "colab": {
          "base_uri": "https://localhost:8080/",
          "height": 279
        },
        "id": "AbDDbvT5UTME",
        "outputId": "ba1ac48f-c7d7-4ea1-9b02-fb796c8e11e5"
      },
      "execution_count": 26,
      "outputs": [
        {
          "output_type": "display_data",
          "data": {
            "text/plain": [
              "<Figure size 432x288 with 1 Axes>"
            ],
            "image/png": "[encoded data removed]"
          },
          "metadata": {
            "needs_background": "light"
          }
        }
      ]
    },
    {
      "cell_type": "code",
      "source": [
        "print('result of the model: ')\n",
        "chosen_model"
      ],
      "metadata": {
        "colab": {
          "base_uri": "https://localhost:8080/"
        },
        "id": "1piAKw1lUTCc",
        "outputId": "b9098678-619a-4ac1-c984-766ffebb9e2e"
      },
      "execution_count": 27,
      "outputs": [
        {
          "output_type": "stream",
          "name": "stdout",
          "text": [
            "result of the model: \n"
          ]
        },
        {
          "output_type": "execute_result",
          "data": {
            "text/plain": [
              "{'MSE': 0.006417788425440095,\n",
              " 'R-Squared': 0.7400911305988209,\n",
              " 'evaluation': 0.006417788099497557,\n",
              " 'history': <keras.callbacks.History at 0x7ff80a673990>,\n",
              " 'model': <keras.engine.sequential.Sequential at 0x7ff80b008290>,\n",
              " 'prediction': array([[0.17559505],\n",
              "        [0.16747686],\n",
              "        [0.57056904],\n",
              "        ...,\n",
              "        [0.19631448],\n",
              "        [0.2280469 ],\n",
              "        [0.49889854]], dtype=float32)}"
            ]
          },
          "metadata": {},
          "execution_count": 27
        }
      ]
    },
    {
      "cell_type": "code",
      "source": [
        "!pip install shap"
      ],
      "metadata": {
        "colab": {
          "base_uri": "https://localhost:8080/"
        },
        "id": "O_sEJWKczy67",
        "outputId": "c6229cae-cf23-4921-a0c2-29c27e865bd0"
      },
      "execution_count": 28,
      "outputs": [
        {
          "output_type": "stream",
          "name": "stdout",
          "text": [
            "Collecting shap\n",
            "  Downloading shap-0.40.0-cp37-cp37m-manylinux2010_x86_64.whl (564 kB)\n",
            "\u001b[?25l\r\u001b[K     |▋                               | 10 kB 17.5 MB/s eta 0:00:01\r\u001b[K     |█▏                              | 20 kB 11.0 MB/s eta 0:00:01\r\u001b[K     |█▊                              | 30 kB 8.8 MB/s eta 0:00:01\r\u001b[K     |██▎                             | 40 kB 7.9 MB/s eta 0:00:01\r\u001b[K     |███                             | 51 kB 4.6 MB/s eta 0:00:01\r\u001b[K     |███▌                            | 61 kB 5.4 MB/s eta 0:00:01\r\u001b[K     |████                            | 71 kB 5.2 MB/s eta 0:00:01\r\u001b[K     |████▋                           | 81 kB 5.3 MB/s eta 0:00:01\r\u001b[K     |█████▏                          | 92 kB 5.9 MB/s eta 0:00:01\r\u001b[K     |█████▉                          | 102 kB 5.2 MB/s eta 0:00:01\r\u001b[K     |██████▍                         | 112 kB 5.2 MB/s eta 0:00:01\r\u001b[K     |███████                         | 122 kB 5.2 MB/s eta 0:00:01\r\u001b[K     |███████▌                        | 133 kB 5.2 MB/s eta 0:00:01\r\u001b[K     |████████▏                       | 143 kB 5.2 MB/s eta 0:00:01\r\u001b[K     |████████▊                       | 153 kB 5.2 MB/s eta 0:00:01\r\u001b[K     |█████████▎                      | 163 kB 5.2 MB/s eta 0:00:01\r\u001b[K     |█████████▉                      | 174 kB 5.2 MB/s eta 0:00:01\r\u001b[K     |██████████▍                     | 184 kB 5.2 MB/s eta 0:00:01\r\u001b[K     |███████████                     | 194 kB 5.2 MB/s eta 0:00:01\r\u001b[K     |███████████▋                    | 204 kB 5.2 MB/s eta 0:00:01\r\u001b[K     |████████████▏                   | 215 kB 5.2 MB/s eta 0:00:01\r\u001b[K     |████████████▊                   | 225 kB 5.2 MB/s eta 0:00:01\r\u001b[K     |█████████████▍                  | 235 kB 5.2 MB/s eta 0:00:01\r\u001b[K     |██████████████                  | 245 kB 5.2 MB/s eta 0:00:01\r\u001b[K     |██████████████▌                 | 256 kB 5.2 MB/s eta 0:00:01\r\u001b[K     |███████████████                 | 266 kB 5.2 MB/s eta 0:00:01\r\u001b[K     |███████████████▋                | 276 kB 5.2 MB/s eta 0:00:01\r\u001b[K     |████████████████▎               | 286 kB 5.2 MB/s eta 0:00:01\r\u001b[K     |████████████████▉               | 296 kB 5.2 MB/s eta 0:00:01\r\u001b[K     |█████████████████▍              | 307 kB 5.2 MB/s eta 0:00:01\r\u001b[K     |██████████████████              | 317 kB 5.2 MB/s eta 0:00:01\r\u001b[K     |██████████████████▋             | 327 kB 5.2 MB/s eta 0:00:01\r\u001b[K     |███████████████████▏            | 337 kB 5.2 MB/s eta 0:00:01\r\u001b[K     |███████████████████▊            | 348 kB 5.2 MB/s eta 0:00:01\r\u001b[K     |████████████████████▎           | 358 kB 5.2 MB/s eta 0:00:01\r\u001b[K     |████████████████████▉           | 368 kB 5.2 MB/s eta 0:00:01\r\u001b[K     |█████████████████████▌          | 378 kB 5.2 MB/s eta 0:00:01\r\u001b[K     |██████████████████████          | 389 kB 5.2 MB/s eta 0:00:01\r\u001b[K     |██████████████████████▋         | 399 kB 5.2 MB/s eta 0:00:01\r\u001b[K     |███████████████████████▏        | 409 kB 5.2 MB/s eta 0:00:01\r\u001b[K     |███████████████████████▉        | 419 kB 5.2 MB/s eta 0:00:01\r\u001b[K     |████████████████████████▍       | 430 kB 5.2 MB/s eta 0:00:01\r\u001b[K     |█████████████████████████       | 440 kB 5.2 MB/s eta 0:00:01\r\u001b[K     |█████████████████████████▌      | 450 kB 5.2 MB/s eta 0:00:01\r\u001b[K     |██████████████████████████      | 460 kB 5.2 MB/s eta 0:00:01\r\u001b[K     |██████████████████████████▊     | 471 kB 5.2 MB/s eta 0:00:01\r\u001b[K     |███████████████████████████▎    | 481 kB 5.2 MB/s eta 0:00:01\r\u001b[K     |███████████████████████████▉    | 491 kB 5.2 MB/s eta 0:00:01\r\u001b[K     |████████████████████████████▍   | 501 kB 5.2 MB/s eta 0:00:01\r\u001b[K     |█████████████████████████████   | 512 kB 5.2 MB/s eta 0:00:01\r\u001b[K     |█████████████████████████████▋  | 522 kB 5.2 MB/s eta 0:00:01\r\u001b[K     |██████████████████████████████▏ | 532 kB 5.2 MB/s eta 0:00:01\r\u001b[K     |██████████████████████████████▊ | 542 kB 5.2 MB/s eta 0:00:01\r\u001b[K     |███████████████████████████████▎| 552 kB 5.2 MB/s eta 0:00:01\r\u001b[K     |████████████████████████████████| 563 kB 5.2 MB/s eta 0:00:01\r\u001b[K     |████████████████████████████████| 564 kB 5.2 MB/s \n",
            "\u001b[?25hRequirement already satisfied: packaging>20.9 in /usr/local/lib/python3.7/dist-packages (from shap) (21.3)\n",
            "Requirement already satisfied: cloudpickle in /usr/local/lib/python3.7/dist-packages (from shap) (1.3.0)\n",
            "Requirement already satisfied: tqdm>4.25.0 in /usr/local/lib/python3.7/dist-packages (from shap) (4.63.0)\n",
            "Requirement already satisfied: scikit-learn in /usr/local/lib/python3.7/dist-packages (from shap) (1.0.2)\n",
            "Collecting slicer==0.0.7\n",
            "  Downloading slicer-0.0.7-py3-none-any.whl (14 kB)\n",
            "Requirement already satisfied: scipy in /usr/local/lib/python3.7/dist-packages (from shap) (1.4.1)\n",
            "Requirement already satisfied: numpy in /usr/local/lib/python3.7/dist-packages (from shap) (1.21.5)\n",
            "Requirement already satisfied: numba in /usr/local/lib/python3.7/dist-packages (from shap) (0.51.2)\n",
            "Requirement already satisfied: pandas in /usr/local/lib/python3.7/dist-packages (from shap) (1.3.5)\n",
            "Requirement already satisfied: pyparsing!=3.0.5,>=2.0.2 in /usr/local/lib/python3.7/dist-packages (from packaging>20.9->shap) (3.0.7)\n",
            "Requirement already satisfied: setuptools in /usr/local/lib/python3.7/dist-packages (from numba->shap) (57.4.0)\n",
            "Requirement already satisfied: llvmlite<0.35,>=0.34.0.dev0 in /usr/local/lib/python3.7/dist-packages (from numba->shap) (0.34.0)\n",
            "Requirement already satisfied: pytz>=2017.3 in /usr/local/lib/python3.7/dist-packages (from pandas->shap) (2018.9)\n",
            "Requirement already satisfied: python-dateutil>=2.7.3 in /usr/local/lib/python3.7/dist-packages (from pandas->shap) (2.8.2)\n",
            "Requirement already satisfied: six>=1.5 in /usr/local/lib/python3.7/dist-packages (from python-dateutil>=2.7.3->pandas->shap) (1.15.0)\n",
            "Requirement already satisfied: joblib>=0.11 in /usr/local/lib/python3.7/dist-packages (from scikit-learn->shap) (1.1.0)\n",
            "Requirement already satisfied: threadpoolctl>=2.0.0 in /usr/local/lib/python3.7/dist-packages (from scikit-learn->shap) (3.1.0)\n",
            "Installing collected packages: slicer, shap\n",
            "Successfully installed shap-0.40.0 slicer-0.0.7\n"
          ]
        }
      ]
    },
    {
      "cell_type": "code",
      "source": [
        "#feature importances in NN:\n",
        "\n",
        "import shap\n",
        "\n",
        "kerasReg_norm.fit(nx_train, ny_train)\n",
        "\n",
        "def f_wrapper(X):\n",
        "\n",
        "    return kerasReg_norm.predict(X).flatten()\n",
        "\n",
        "nx_train_df = pd.DataFrame(nx_train)\n",
        "nX_train_summary = shap.kmeans(nx_train, 20)\n",
        "\n",
        "# Compute Shap values\n",
        "explainer = shap.KernelExplainer(f_wrapper,nX_train_summary)\n",
        "\n",
        "nX_train_sample = nx_train_df.sample(200)\n",
        "shap_values  = explainer.shap_values(nX_train_sample)\n",
        "\n",
        "\n",
        "shap.plots._waterfall.waterfall_legacy(explainer.expected_value, shap_values[0])\n",
        "\n"
      ],
      "metadata": {
        "colab": {
          "base_uri": "https://localhost:8080/",
          "height": 394,
          "referenced_widgets": [
            "69423bd9884d463f86d31ef92e9ab319",
            "9eee8b9e188f46d1b2e8240b488f3297",
            "68853e2f03be44d987cceb2cf8c8b6ed",
            "71d29380a51c4ea19b255a364082f0d7",
            "45d09757de3645dd99ae61f6bbc146be",
            "0e41baebe7a140409433e72bcc9e87f8",
            "0a1ef22f5fed45098ed561d876d21b54",
            "9535ec51573d4e46bab95b3b4c003307",
            "b00904c8dfb54321b545855d30216c7a",
            "3151368c2043455da24363c820cb493e",
            "80444a0b23894d31ba2c8cc3cb9642b7"
          ]
        },
        "id": "0DrYN4f-US5U",
        "outputId": "4d744c51-407e-4e04-e51f-dcef3983d1a4"
      },
      "execution_count": 29,
      "outputs": [
        {
          "output_type": "display_data",
          "data": {
            "text/plain": [
              "  0%|          | 0/200 [00:00<?, ?it/s]"
            ],
            "application/vnd.jupyter.widget-view+json": {
              "version_major": 2,
              "version_minor": 0,
              "model_id": "69423bd9884d463f86d31ef92e9ab319"
            }
          },
          "metadata": {}
        },
        {
          "output_type": "display_data",
          "data": {
            "text/plain": [
              "<Figure size 576x360 with 3 Axes>"
            ],
            "image/png": "[encoded data removed]"
          },
          "metadata": {}
        }
      ]
    },
    {
      "cell_type": "code",
      "source": [
        "!pip install visualkeras"
      ],
      "metadata": {
        "colab": {
          "base_uri": "https://localhost:8080/"
        },
        "id": "f-qryO2pz3_V",
        "outputId": "9db3792b-9d09-4ea3-cb63-257a1b656023"
      },
      "execution_count": 30,
      "outputs": [
        {
          "output_type": "stream",
          "name": "stdout",
          "text": [
            "Collecting visualkeras\n",
            "  Downloading visualkeras-0.0.2-py3-none-any.whl (12 kB)\n",
            "Collecting aggdraw>=1.3.11\n",
            "  Downloading aggdraw-1.3.14-cp37-cp37m-manylinux_2_17_x86_64.manylinux2014_x86_64.whl (992 kB)\n",
            "\u001b[K     |████████████████████████████████| 992 kB 5.1 MB/s \n",
            "\u001b[?25hRequirement already satisfied: numpy>=1.18.1 in /usr/local/lib/python3.7/dist-packages (from visualkeras) (1.21.5)\n",
            "Requirement already satisfied: pillow>=6.2.0 in /usr/local/lib/python3.7/dist-packages (from visualkeras) (7.1.2)\n",
            "Installing collected packages: aggdraw, visualkeras\n",
            "Successfully installed aggdraw-1.3.14 visualkeras-0.0.2\n"
          ]
        }
      ]
    },
    {
      "cell_type": "code",
      "source": [
        "!pip install ann_visualizer"
      ],
      "metadata": {
        "colab": {
          "base_uri": "https://localhost:8080/"
        },
        "id": "SoNVcz_ll_Ra",
        "outputId": "c646ea62-cac1-4f3e-ad00-8bd822df048e"
      },
      "execution_count": 32,
      "outputs": [
        {
          "output_type": "stream",
          "name": "stdout",
          "text": [
            "Collecting ann_visualizer\n",
            "  Downloading ann_visualizer-2.5.tar.gz (4.7 kB)\n",
            "Building wheels for collected packages: ann-visualizer\n",
            "  Building wheel for ann-visualizer (setup.py) ... \u001b[?25l\u001b[?25hdone\n",
            "  Created wheel for ann-visualizer: filename=ann_visualizer-2.5-py3-none-any.whl size=4168 sha256=8208e5e13dff327fdc11f8e762bf9a8d04214f2c1b05e7b93d864337ef2f8d2b\n",
            "  Stored in directory: /root/.cache/pip/wheels/1b/fc/58/2ab1c3b30350105929308becddda4fb59b1358e54f985e1f4a\n",
            "Successfully built ann-visualizer\n",
            "Installing collected packages: ann-visualizer\n",
            "Successfully installed ann-visualizer-2.5\n"
          ]
        }
      ]
    },
    {
      "cell_type": "code",
      "source": [
        "import visualkeras\n",
        "# visualkeras.layered_view(model)\n",
        "\n",
        "\n",
        "from ann_visualizer.visualize import ann_viz\n",
        "\n",
        "ann_viz(chosen_model['model'], title=\"Neural Network - Regression\")"
      ],
      "metadata": {
        "id": "YGTC5UteUm75"
      },
      "execution_count": 33,
      "outputs": []
    },
    {
      "cell_type": "code",
      "source": [
        "from sklearn.tree import DecisionTreeRegressor\n",
        "\n",
        "dt = DecisionTreeRegressor(max_depth = 10)\n",
        "# reg_dt = dt.fit(x_train, y_train)\n",
        "norm_dt = dt.fit(nx_train, ny_train)\n",
        "\n",
        "# dt_preds = reg_dt.predict(x_val)\n",
        "ndt_preds = norm_dt.predict(nx_val)\n",
        "\n",
        "# dt_mse = mean_squared_error(dt_preds, y_val)\n",
        "# dt_r2 = r2_score(dt_preds, y_val)\n",
        "\n",
        "ndt_mse = mean_squared_error(ndt_preds, ny_val)\n",
        "ndt_r2 = r2_score(ndt_preds, ny_val)\n",
        "\n",
        "# print('Decision Tree MSE (regular): ', dt_mse)\n",
        "# print('Decision Tree R2 (regular): ', dt_r2)\n",
        "\n",
        "print('Decision Tree MSE (norm): ', ndt_mse)\n",
        "print('Decision Tree R2 (norm): ', ndt_r2)\n"
      ],
      "metadata": {
        "colab": {
          "base_uri": "https://localhost:8080/"
        },
        "id": "233kMsJvzjm3",
        "outputId": "d63cb2d6-b8c7-4845-f1e6-9c69fd8ff7d2"
      },
      "execution_count": 35,
      "outputs": [
        {
          "output_type": "stream",
          "name": "stdout",
          "text": [
            "Decision Tree MSE (norm):  0.006753819595636442\n",
            "Decision Tree R2 (norm):  0.7145614003563272\n"
          ]
        }
      ]
    },
    {
      "cell_type": "code",
      "source": [
        "\n",
        "from sklearn.ensemble import RandomForestRegressor\n",
        "\n",
        "rfr = RandomForestRegressor(max_depth = 10, random_state = 0)\n",
        "\n",
        "# reg_rf = rfr.fit(x_train, y_train)\n",
        "nrf = rfr.fit(nx_train, ny_train)\n",
        "\n",
        "# rfr_pred = rfr.predict(x_val)\n",
        "nrfr_pred = nrf.predict(nx_val)\n",
        "\n",
        "# rfr_mse = mean_squared_error(rfr_pred, y_val)\n",
        "# rfr_r2 = r2_score(rfr_pred, y_val)\n",
        "\n",
        "# print('Random Forest MSE: ', rfr_mse)\n",
        "# print('Random Forest R2: ', rfr_r2)\n",
        "\n",
        "\n",
        "nrfr_mse = mean_squared_error(nrfr_pred, ny_val)\n",
        "nrfr_r2 = r2_score(nrfr_pred, ny_val)\n",
        "\n",
        "print('Random Forest MSE Norm: ', nrfr_mse)\n",
        "print('Random Forest R2 Norm: ', nrfr_r2)\n"
      ],
      "metadata": {
        "colab": {
          "base_uri": "https://localhost:8080/"
        },
        "id": "IPeObXfA0IJ7",
        "outputId": "ca0aebc1-79ca-4f0d-bfad-2521e8ba772a"
      },
      "execution_count": 36,
      "outputs": [
        {
          "output_type": "stream",
          "name": "stdout",
          "text": [
            "Random Forest MSE Norm:  0.0062466711332036864\n",
            "Random Forest R2 Norm:  0.7299188682201457\n"
          ]
        }
      ]
    },
    {
      "cell_type": "code",
      "source": [
        "other_reg_res = {\n",
        "    'DecisionTreeRegNorm-MSE': 0.0068,\n",
        "    'DecisionTreeRegNorm-R2': 0.71,\n",
        "    'RandomForestRegNorm-MSE': 0.0062,\n",
        "    'RandomForestRegNorm-R2': 0.73,\n",
        "    'NN-ReLu-51-5Norm-MSE': 0.0064,\n",
        "    'NN-ReLu-51-5Norm-R2' : 0.74\n",
        "}\n",
        "\n",
        "results_reg_algs = pd.DataFrame.from_dict(other_reg_res, orient = 'index', columns = ['results'])\n",
        "results_reg_algs"
      ],
      "metadata": {
        "colab": {
          "base_uri": "https://localhost:8080/",
          "height": 237
        },
        "id": "0_lFfxhYmtZc",
        "outputId": "9e5aabb3-f381-481c-91cf-199f609a8826"
      },
      "execution_count": 38,
      "outputs": [
        {
          "output_type": "execute_result",
          "data": {
            "text/plain": [
              "                         results\n",
              "DecisionTreeRegNorm-MSE   0.0068\n",
              "DecisionTreeRegNorm-R2    0.7100\n",
              "RandomForestRegNorm-MSE   0.0062\n",
              "RandomForestRegNorm-R2    0.7300\n",
              "NN-ReLu-51-5Norm-MSE      0.0064\n",
              "NN-ReLu-51-5Norm-R2       0.7400"
            ],
            "text/html": [
              "\n",
              "  <div id=\"df-e22f3ea5-5bab-4ced-9495-a02c4b68a293\">\n",
              "    <div class=\"colab-df-container\">\n",
              "      <div>\n",
              "<style scoped>\n",
              "    .dataframe tbody tr th:only-of-type {\n",
              "        vertical-align: middle;\n",
              "    }\n",
              "\n",
              "    .dataframe tbody tr th {\n",
              "        vertical-align: top;\n",
              "    }\n",
              "\n",
              "    .dataframe thead th {\n",
              "        text-align: right;\n",
              "    }\n",
              "</style>\n",
              "<table border=\"1\" class=\"dataframe\">\n",
              "  <thead>\n",
              "    <tr style=\"text-align: right;\">\n",
              "      <th></th>\n",
              "      <th>results</th>\n",
              "    </tr>\n",
              "  </thead>\n",
              "  <tbody>\n",
              "    <tr>\n",
              "      <th>DecisionTreeRegNorm-MSE</th>\n",
              "      <td>0.0068</td>\n",
              "    </tr>\n",
              "    <tr>\n",
              "      <th>DecisionTreeRegNorm-R2</th>\n",
              "      <td>0.7100</td>\n",
              "    </tr>\n",
              "    <tr>\n",
              "      <th>RandomForestRegNorm-MSE</th>\n",
              "      <td>0.0062</td>\n",
              "    </tr>\n",
              "    <tr>\n",
              "      <th>RandomForestRegNorm-R2</th>\n",
              "      <td>0.7300</td>\n",
              "    </tr>\n",
              "    <tr>\n",
              "      <th>NN-ReLu-51-5Norm-MSE</th>\n",
              "      <td>0.0064</td>\n",
              "    </tr>\n",
              "    <tr>\n",
              "      <th>NN-ReLu-51-5Norm-R2</th>\n",
              "      <td>0.7400</td>\n",
              "    </tr>\n",
              "  </tbody>\n",
              "</table>\n",
              "</div>\n",
              "      <button class=\"colab-df-convert\" onclick=\"convertToInteractive('df-e22f3ea5-5bab-4ced-9495-a02c4b68a293')\"\n",
              "              title=\"Convert this dataframe to an interactive table.\"\n",
              "              style=\"display:none;\">\n",
              "        \n",
              "  <svg xmlns=\"http://www.w3.org/2000/svg\" height=\"24px\"viewBox=\"0 0 24 24\"\n",
              "       width=\"24px\">\n",
              "    <path d=\"M0 0h24v24H0V0z\" fill=\"none\"/>\n",
              "    <path d=\"M18.56 5.44l.94 2.06.94-2.06 2.06-.94-2.06-.94-.94-2.06-.94 2.06-2.06.94zm-11 1L8.5 8.5l.94-2.06 2.06-.94-2.06-.94L8.5 2.5l-.94 2.06-2.06.94zm10 10l.94 2.06.94-2.06 2.06-.94-2.06-.94-.94-2.06-.94 2.06-2.06.94z\"/><path d=\"M17.41 7.96l-1.37-1.37c-.4-.4-.92-.59-1.43-.59-.52 0-1.04.2-1.43.59L10.3 9.45l-7.72 7.72c-.78.78-.78 2.05 0 2.83L4 21.41c.39.39.9.59 1.41.59.51 0 1.02-.2 1.41-.59l7.78-7.78 2.81-2.81c.8-.78.8-2.07 0-2.86zM5.41 20L4 18.59l7.72-7.72 1.47 1.35L5.41 20z\"/>\n",
              "  </svg>\n",
              "      </button>\n",
              "      \n",
              "  <style>\n",
              "    .colab-df-container {\n",
              "      display:flex;\n",
              "      flex-wrap:wrap;\n",
              "      gap: 12px;\n",
              "    }\n",
              "\n",
              "    .colab-df-convert {\n",
              "      background-color: #E8F0FE;\n",
              "      border: none;\n",
              "      border-radius: 50%;\n",
              "      cursor: pointer;\n",
              "      display: none;\n",
              "      fill: #1967D2;\n",
              "      height: 32px;\n",
              "      padding: 0 0 0 0;\n",
              "      width: 32px;\n",
              "    }\n",
              "\n",
              "    .colab-df-convert:hover {\n",
              "      background-color: #E2EBFA;\n",
              "      box-shadow: 0px 1px 2px rgba(60, 64, 67, 0.3), 0px 1px 3px 1px rgba(60, 64, 67, 0.15);\n",
              "      fill: #174EA6;\n",
              "    }\n",
              "\n",
              "    [theme=dark] .colab-df-convert {\n",
              "      background-color: #3B4455;\n",
              "      fill: #D2E3FC;\n",
              "    }\n",
              "\n",
              "    [theme=dark] .colab-df-convert:hover {\n",
              "      background-color: #434B5C;\n",
              "      box-shadow: 0px 1px 3px 1px rgba(0, 0, 0, 0.15);\n",
              "      filter: drop-shadow(0px 1px 2px rgba(0, 0, 0, 0.3));\n",
              "      fill: #FFFFFF;\n",
              "    }\n",
              "  </style>\n",
              "\n",
              "      <script>\n",
              "        const buttonEl =\n",
              "          document.querySelector('#df-e22f3ea5-5bab-4ced-9495-a02c4b68a293 button.colab-df-convert');\n",
              "        buttonEl.style.display =\n",
              "          google.colab.kernel.accessAllowed ? 'block' : 'none';\n",
              "\n",
              "        async function convertToInteractive(key) {\n",
              "          const element = document.querySelector('#df-e22f3ea5-5bab-4ced-9495-a02c4b68a293');\n",
              "          const dataTable =\n",
              "            await google.colab.kernel.invokeFunction('convertToInteractive',\n",
              "                                                     [key], {});\n",
              "          if (!dataTable) return;\n",
              "\n",
              "          const docLinkHtml = 'Like what you see? Visit the ' +\n",
              "            '<a target=\"_blank\" href=https://colab.research.google.com/notebooks/data_table.ipynb>data table notebook</a>'\n",
              "            + ' to learn more about interactive tables.';\n",
              "          element.innerHTML = '';\n",
              "          dataTable['output_type'] = 'display_data';\n",
              "          await google.colab.output.renderOutput(dataTable, element);\n",
              "          const docLink = document.createElement('div');\n",
              "          docLink.innerHTML = docLinkHtml;\n",
              "          element.appendChild(docLink);\n",
              "        }\n",
              "      </script>\n",
              "    </div>\n",
              "  </div>\n",
              "  "
            ]
          },
          "metadata": {},
          "execution_count": 38
        }
      ]
    },
    {
      "cell_type": "markdown",
      "source": [
        "According to this, \n",
        "\n",
        "- Best MSE value is for Random Forest. \n",
        "- Best R2 values is for Neural Network. \n",
        "\n",
        "Overall, Random Forest Regressor seems to be the best algorithm. "
      ],
      "metadata": {
        "id": "wWhYSpwSnYMU"
      }
    },
    {
      "cell_type": "code",
      "source": [
        "\n",
        "#feature importance based on RF\n",
        "\n",
        "list_cols = ['vehicle_type', 'registration_year', 'gearbox', 'power_ps', 'kilometer', 'fuel_type', 'postal_code', 'age']\n",
        "list_cols_norm = ['vehicle_type', 'gearbox', 'power_ps', 'kilometer', 'fuel_type', 'postal_code', 'age']\n",
        "\n",
        "importances = list(rfr.feature_importances_)\n",
        "\n",
        "# feature_importances = [(feature, round(importance, 2)) for feature, importance in zip(list_cols, importances)]\n",
        "feature_importances_norm = [(feature, round(importance, 2)) for feature, importance in zip(list_cols_norm, importances)]\n",
        "\n",
        "# feature_importances = sorted(feature_importances, key = lambda x: x[1], reverse = True)\n",
        "feature_importances_norm = sorted(feature_importances_norm, key = lambda x: x[1], reverse = True)\n",
        "\n",
        "# print('feature importances (regular): ')\n",
        "# for i in range(len(feature_importances)):\n",
        "#   print(feature_importances[i])\n",
        "\n",
        "print('feature importances (normalized): ')\n",
        "for i in range(len(feature_importances_norm)):\n",
        "  print(feature_importances_norm[i])\n",
        "\n"
      ],
      "metadata": {
        "colab": {
          "base_uri": "https://localhost:8080/"
        },
        "id": "ZZihwgEw0Jm7",
        "outputId": "42655543-399f-4d11-b123-38c61816df3f"
      },
      "execution_count": 39,
      "outputs": [
        {
          "output_type": "stream",
          "name": "stdout",
          "text": [
            "feature importances (normalized): \n",
            "('age', 0.59)\n",
            "('power_ps', 0.29)\n",
            "('kilometer', 0.07)\n",
            "('vehicle_type', 0.03)\n",
            "('fuel_type', 0.01)\n",
            "('postal_code', 0.01)\n",
            "('gearbox', 0.0)\n"
          ]
        }
      ]
    },
    {
      "cell_type": "code",
      "source": [
        "# plt.bar(list(range(len(importances))), importances)\n",
        "# plt.xticks(list(range(len(importances))), feature_importances, rotation = 'vertical')\n",
        "# plt.xlabel('Features')\n",
        "# plt.ylabel('impoortance')\n",
        "# plt.title('Feature Importances RF')\n",
        "# plt.show()"
      ],
      "metadata": {
        "id": "gtMMEAn12Gj4"
      },
      "execution_count": null,
      "outputs": []
    },
    {
      "cell_type": "code",
      "source": [
        "plt.bar(list(range(len(importances))), importances)\n",
        "plt.xticks(list(range(len(importances))), feature_importances_norm, rotation = 'vertical')\n",
        "plt.xlabel('Features')\n",
        "plt.ylabel('impoortance')\n",
        "plt.title('Feature Importances RF')\n",
        "plt.show()"
      ],
      "metadata": {
        "colab": {
          "base_uri": "https://localhost:8080/",
          "height": 390
        },
        "id": "z2QCybKY2JFK",
        "outputId": "61d7de1f-fc3a-45bd-f307-7472c9687b15"
      },
      "execution_count": 40,
      "outputs": [
        {
          "output_type": "display_data",
          "data": {
            "text/plain": [
              "<Figure size 432x288 with 1 Axes>"
            ],
            "image/png": "[encoded data removed]"
          },
          "metadata": {
            "needs_background": "light"
          }
        }
      ]
    }
  ]
}
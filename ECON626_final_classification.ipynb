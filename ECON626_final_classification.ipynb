{
  "nbformat": 4,
  "nbformat_minor": 0,
  "metadata": {
    "colab": {
      "name": "ECON626_final_classification.ipynb",
      "provenance": [],
      "collapsed_sections": [],
      "authorship_tag": "ABX9TyP0O/BDDCzgaopYWBje44A6",
      "include_colab_link": true
    },
    "kernelspec": {
      "name": "python3",
      "display_name": "Python 3"
    },
    "language_info": {
      "name": "python"
    }
  },
  "cells": [
    {
      "cell_type": "markdown",
      "metadata": {
        "id": "view-in-github",
        "colab_type": "text"
      },
      "source": [
        "<a href=\"https://colab.research.google.com/github/halfChewedGum/ECON626Competitions/blob/main/ECON626_final_classification.ipynb\" target=\"_parent\"><img src=\"https://colab.research.google.com/assets/colab-badge.svg\" alt=\"Open In Colab\"/></a>"
      ]
    },
    {
      "cell_type": "code",
      "execution_count": 1,
      "metadata": {
        "colab": {
          "resources": {
            "http://localhost:8080/nbextensions/google.colab/files.js": {
              "data": "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",
              "ok": true,
              "headers": [
                [
                  "content-type",
                  "application/javascript"
                ]
              ],
              "status": 200,
              "status_text": ""
            }
          },
          "base_uri": "https://localhost:8080/",
          "height": 74
        },
        "id": "Bth_vk8L9ojU",
        "outputId": "3eb5e35e-3162-47b0-f477-7ef31ce64c81"
      },
      "outputs": [
        {
          "output_type": "display_data",
          "data": {
            "text/plain": [
              "<IPython.core.display.HTML object>"
            ],
            "text/html": [
              "\n",
              "     <input type=\"file\" id=\"files-8a0ba157-7b10-41c5-9340-16716573f818\" name=\"files[]\" multiple disabled\n",
              "        style=\"border:none\" />\n",
              "     <output id=\"result-8a0ba157-7b10-41c5-9340-16716573f818\">\n",
              "      Upload widget is only available when the cell has been executed in the\n",
              "      current browser session. Please rerun this cell to enable.\n",
              "      </output>\n",
              "      <script src=\"/nbextensions/google.colab/files.js\"></script> "
            ]
          },
          "metadata": {}
        },
        {
          "output_type": "stream",
          "name": "stdout",
          "text": [
            "Saving 02_wrk_data_train.csv to 02_wrk_data_train (1).csv\n"
          ]
        }
      ],
      "source": [
        "import pandas as pd \n",
        "import numpy as np \n",
        "import matplotlib.pyplot as plt\n",
        "import seaborn as sns\n",
        "import tensorflow as tf\n",
        "\n",
        "from tensorflow import keras\n",
        "from keras.models import Sequential\n",
        "from keras.layers import Dense, Conv1D, Flatten\n",
        "from sklearn.model_selection import train_test_split\n",
        "from sklearn.metrics import mean_squared_error\n",
        "from sklearn.metrics import r2_score\n",
        "\n",
        "from google.colab import files\n",
        "uploaded = files.upload()"
      ]
    },
    {
      "cell_type": "code",
      "source": [
        "import io\n",
        "df = pd.read_csv(io.BytesIO(uploaded['02_wrk_data_train.csv']))\n",
        "df.head()"
      ],
      "metadata": {
        "colab": {
          "base_uri": "https://localhost:8080/",
          "height": 317
        },
        "id": "4Ta8b5cx_a4o",
        "outputId": "e77ee6d9-a435-40dc-9d4f-f7a7cae045e2"
      },
      "execution_count": 2,
      "outputs": [
        {
          "output_type": "execute_result",
          "data": {
            "text/plain": [
              "   Unnamed: 0  Unnamed: 0.1  Unnamed: 0.1.1  dollar_price date_crawled  \\\n",
              "0           0             0               0         900.0   2016-03-26   \n",
              "1           1             1               1        7100.0   2016-03-29   \n",
              "2           2             2               2         500.0   2016-03-23   \n",
              "3           3             3               3       35000.0   2016-03-14   \n",
              "4           4             4               4        3700.0   2016-03-10   \n",
              "\n",
              "                                          name  vehicle_type  \\\n",
              "0  Renault_Kangoo_1.4__TÃƒÂœV_01/2018__1._Hand             0   \n",
              "1                                 BMW_116d_DPF             0   \n",
              "2                          Volkswagen_Lupo_1.4             1   \n",
              "3                Mercedes_Ponton_180b_Oldtimer             0   \n",
              "4                                  Fiat_Andere             2   \n",
              "\n",
              "   registration_year  gearbox  power_ps  ...  unrepaired_damage  ad_created  \\\n",
              "0               2016        0        75  ...                 ja        2016   \n",
              "1               2009        0       116  ...               nein        2016   \n",
              "2               1999        0        75  ...                 ja        2016   \n",
              "3               1961        0        68  ...               nein        2016   \n",
              "4               1972        0        52  ...                 ja        2016   \n",
              "\n",
              "   postal_code last_seen_online    price  year      km  damage  age  \\\n",
              "0        82256       2016-04-06    900.0  2016  150000     1.0    0   \n",
              "1        30457       2016-03-30   7100.0  2009   90000     0.0    7   \n",
              "2        87734       2016-03-23    500.0  1999  150000     1.0   17   \n",
              "3        22941       2016-03-17  35000.0  1961  150000     0.0   55   \n",
              "4         6901       2016-04-06   3700.0  1972  100000     1.0   44   \n",
              "\n",
              "   log_prices  \n",
              "0    6.802395  \n",
              "1    8.867850  \n",
              "2    6.214608  \n",
              "3   10.463103  \n",
              "4    8.216088  \n",
              "\n",
              "[5 rows x 23 columns]"
            ],
            "text/html": [
              "\n",
              "  <div id=\"df-1fc86aa2-18a7-4522-b464-b74e5034e56a\">\n",
              "    <div class=\"colab-df-container\">\n",
              "      <div>\n",
              "<style scoped>\n",
              "    .dataframe tbody tr th:only-of-type {\n",
              "        vertical-align: middle;\n",
              "    }\n",
              "\n",
              "    .dataframe tbody tr th {\n",
              "        vertical-align: top;\n",
              "    }\n",
              "\n",
              "    .dataframe thead th {\n",
              "        text-align: right;\n",
              "    }\n",
              "</style>\n",
              "<table border=\"1\" class=\"dataframe\">\n",
              "  <thead>\n",
              "    <tr style=\"text-align: right;\">\n",
              "      <th></th>\n",
              "      <th>Unnamed: 0</th>\n",
              "      <th>Unnamed: 0.1</th>\n",
              "      <th>Unnamed: 0.1.1</th>\n",
              "      <th>dollar_price</th>\n",
              "      <th>date_crawled</th>\n",
              "      <th>name</th>\n",
              "      <th>vehicle_type</th>\n",
              "      <th>registration_year</th>\n",
              "      <th>gearbox</th>\n",
              "      <th>power_ps</th>\n",
              "      <th>...</th>\n",
              "      <th>unrepaired_damage</th>\n",
              "      <th>ad_created</th>\n",
              "      <th>postal_code</th>\n",
              "      <th>last_seen_online</th>\n",
              "      <th>price</th>\n",
              "      <th>year</th>\n",
              "      <th>km</th>\n",
              "      <th>damage</th>\n",
              "      <th>age</th>\n",
              "      <th>log_prices</th>\n",
              "    </tr>\n",
              "  </thead>\n",
              "  <tbody>\n",
              "    <tr>\n",
              "      <th>0</th>\n",
              "      <td>0</td>\n",
              "      <td>0</td>\n",
              "      <td>0</td>\n",
              "      <td>900.0</td>\n",
              "      <td>2016-03-26</td>\n",
              "      <td>Renault_Kangoo_1.4__TÃƒÂœV_01/2018__1._Hand</td>\n",
              "      <td>0</td>\n",
              "      <td>2016</td>\n",
              "      <td>0</td>\n",
              "      <td>75</td>\n",
              "      <td>...</td>\n",
              "      <td>ja</td>\n",
              "      <td>2016</td>\n",
              "      <td>82256</td>\n",
              "      <td>2016-04-06</td>\n",
              "      <td>900.0</td>\n",
              "      <td>2016</td>\n",
              "      <td>150000</td>\n",
              "      <td>1.0</td>\n",
              "      <td>0</td>\n",
              "      <td>6.802395</td>\n",
              "    </tr>\n",
              "    <tr>\n",
              "      <th>1</th>\n",
              "      <td>1</td>\n",
              "      <td>1</td>\n",
              "      <td>1</td>\n",
              "      <td>7100.0</td>\n",
              "      <td>2016-03-29</td>\n",
              "      <td>BMW_116d_DPF</td>\n",
              "      <td>0</td>\n",
              "      <td>2009</td>\n",
              "      <td>0</td>\n",
              "      <td>116</td>\n",
              "      <td>...</td>\n",
              "      <td>nein</td>\n",
              "      <td>2016</td>\n",
              "      <td>30457</td>\n",
              "      <td>2016-03-30</td>\n",
              "      <td>7100.0</td>\n",
              "      <td>2009</td>\n",
              "      <td>90000</td>\n",
              "      <td>0.0</td>\n",
              "      <td>7</td>\n",
              "      <td>8.867850</td>\n",
              "    </tr>\n",
              "    <tr>\n",
              "      <th>2</th>\n",
              "      <td>2</td>\n",
              "      <td>2</td>\n",
              "      <td>2</td>\n",
              "      <td>500.0</td>\n",
              "      <td>2016-03-23</td>\n",
              "      <td>Volkswagen_Lupo_1.4</td>\n",
              "      <td>1</td>\n",
              "      <td>1999</td>\n",
              "      <td>0</td>\n",
              "      <td>75</td>\n",
              "      <td>...</td>\n",
              "      <td>ja</td>\n",
              "      <td>2016</td>\n",
              "      <td>87734</td>\n",
              "      <td>2016-03-23</td>\n",
              "      <td>500.0</td>\n",
              "      <td>1999</td>\n",
              "      <td>150000</td>\n",
              "      <td>1.0</td>\n",
              "      <td>17</td>\n",
              "      <td>6.214608</td>\n",
              "    </tr>\n",
              "    <tr>\n",
              "      <th>3</th>\n",
              "      <td>3</td>\n",
              "      <td>3</td>\n",
              "      <td>3</td>\n",
              "      <td>35000.0</td>\n",
              "      <td>2016-03-14</td>\n",
              "      <td>Mercedes_Ponton_180b_Oldtimer</td>\n",
              "      <td>0</td>\n",
              "      <td>1961</td>\n",
              "      <td>0</td>\n",
              "      <td>68</td>\n",
              "      <td>...</td>\n",
              "      <td>nein</td>\n",
              "      <td>2016</td>\n",
              "      <td>22941</td>\n",
              "      <td>2016-03-17</td>\n",
              "      <td>35000.0</td>\n",
              "      <td>1961</td>\n",
              "      <td>150000</td>\n",
              "      <td>0.0</td>\n",
              "      <td>55</td>\n",
              "      <td>10.463103</td>\n",
              "    </tr>\n",
              "    <tr>\n",
              "      <th>4</th>\n",
              "      <td>4</td>\n",
              "      <td>4</td>\n",
              "      <td>4</td>\n",
              "      <td>3700.0</td>\n",
              "      <td>2016-03-10</td>\n",
              "      <td>Fiat_Andere</td>\n",
              "      <td>2</td>\n",
              "      <td>1972</td>\n",
              "      <td>0</td>\n",
              "      <td>52</td>\n",
              "      <td>...</td>\n",
              "      <td>ja</td>\n",
              "      <td>2016</td>\n",
              "      <td>6901</td>\n",
              "      <td>2016-04-06</td>\n",
              "      <td>3700.0</td>\n",
              "      <td>1972</td>\n",
              "      <td>100000</td>\n",
              "      <td>1.0</td>\n",
              "      <td>44</td>\n",
              "      <td>8.216088</td>\n",
              "    </tr>\n",
              "  </tbody>\n",
              "</table>\n",
              "<p>5 rows × 23 columns</p>\n",
              "</div>\n",
              "      <button class=\"colab-df-convert\" onclick=\"convertToInteractive('df-1fc86aa2-18a7-4522-b464-b74e5034e56a')\"\n",
              "              title=\"Convert this dataframe to an interactive table.\"\n",
              "              style=\"display:none;\">\n",
              "        \n",
              "  <svg xmlns=\"http://www.w3.org/2000/svg\" height=\"24px\"viewBox=\"0 0 24 24\"\n",
              "       width=\"24px\">\n",
              "    <path d=\"M0 0h24v24H0V0z\" fill=\"none\"/>\n",
              "    <path d=\"M18.56 5.44l.94 2.06.94-2.06 2.06-.94-2.06-.94-.94-2.06-.94 2.06-2.06.94zm-11 1L8.5 8.5l.94-2.06 2.06-.94-2.06-.94L8.5 2.5l-.94 2.06-2.06.94zm10 10l.94 2.06.94-2.06 2.06-.94-2.06-.94-.94-2.06-.94 2.06-2.06.94z\"/><path d=\"M17.41 7.96l-1.37-1.37c-.4-.4-.92-.59-1.43-.59-.52 0-1.04.2-1.43.59L10.3 9.45l-7.72 7.72c-.78.78-.78 2.05 0 2.83L4 21.41c.39.39.9.59 1.41.59.51 0 1.02-.2 1.41-.59l7.78-7.78 2.81-2.81c.8-.78.8-2.07 0-2.86zM5.41 20L4 18.59l7.72-7.72 1.47 1.35L5.41 20z\"/>\n",
              "  </svg>\n",
              "      </button>\n",
              "      \n",
              "  <style>\n",
              "    .colab-df-container {\n",
              "      display:flex;\n",
              "      flex-wrap:wrap;\n",
              "      gap: 12px;\n",
              "    }\n",
              "\n",
              "    .colab-df-convert {\n",
              "      background-color: #E8F0FE;\n",
              "      border: none;\n",
              "      border-radius: 50%;\n",
              "      cursor: pointer;\n",
              "      display: none;\n",
              "      fill: #1967D2;\n",
              "      height: 32px;\n",
              "      padding: 0 0 0 0;\n",
              "      width: 32px;\n",
              "    }\n",
              "\n",
              "    .colab-df-convert:hover {\n",
              "      background-color: #E2EBFA;\n",
              "      box-shadow: 0px 1px 2px rgba(60, 64, 67, 0.3), 0px 1px 3px 1px rgba(60, 64, 67, 0.15);\n",
              "      fill: #174EA6;\n",
              "    }\n",
              "\n",
              "    [theme=dark] .colab-df-convert {\n",
              "      background-color: #3B4455;\n",
              "      fill: #D2E3FC;\n",
              "    }\n",
              "\n",
              "    [theme=dark] .colab-df-convert:hover {\n",
              "      background-color: #434B5C;\n",
              "      box-shadow: 0px 1px 3px 1px rgba(0, 0, 0, 0.15);\n",
              "      filter: drop-shadow(0px 1px 2px rgba(0, 0, 0, 0.3));\n",
              "      fill: #FFFFFF;\n",
              "    }\n",
              "  </style>\n",
              "\n",
              "      <script>\n",
              "        const buttonEl =\n",
              "          document.querySelector('#df-1fc86aa2-18a7-4522-b464-b74e5034e56a button.colab-df-convert');\n",
              "        buttonEl.style.display =\n",
              "          google.colab.kernel.accessAllowed ? 'block' : 'none';\n",
              "\n",
              "        async function convertToInteractive(key) {\n",
              "          const element = document.querySelector('#df-1fc86aa2-18a7-4522-b464-b74e5034e56a');\n",
              "          const dataTable =\n",
              "            await google.colab.kernel.invokeFunction('convertToInteractive',\n",
              "                                                     [key], {});\n",
              "          if (!dataTable) return;\n",
              "\n",
              "          const docLinkHtml = 'Like what you see? Visit the ' +\n",
              "            '<a target=\"_blank\" href=https://colab.research.google.com/notebooks/data_table.ipynb>data table notebook</a>'\n",
              "            + ' to learn more about interactive tables.';\n",
              "          element.innerHTML = '';\n",
              "          dataTable['output_type'] = 'display_data';\n",
              "          await google.colab.output.renderOutput(dataTable, element);\n",
              "          const docLink = document.createElement('div');\n",
              "          docLink.innerHTML = docLinkHtml;\n",
              "          element.appendChild(docLink);\n",
              "        }\n",
              "      </script>\n",
              "    </div>\n",
              "  </div>\n",
              "  "
            ]
          },
          "metadata": {},
          "execution_count": 2
        }
      ]
    },
    {
      "cell_type": "code",
      "source": [
        "df.info()"
      ],
      "metadata": {
        "colab": {
          "base_uri": "https://localhost:8080/"
        },
        "id": "SlhTcbDx_a3D",
        "outputId": "feb505fb-6367-4375-bb34-476e134fe546"
      },
      "execution_count": 4,
      "outputs": [
        {
          "output_type": "stream",
          "name": "stdout",
          "text": [
            "<class 'pandas.core.frame.DataFrame'>\n",
            "RangeIndex: 200000 entries, 0 to 199999\n",
            "Data columns (total 23 columns):\n",
            " #   Column              Non-Null Count   Dtype  \n",
            "---  ------              --------------   -----  \n",
            " 0   Unnamed: 0          200000 non-null  int64  \n",
            " 1   Unnamed: 0.1        200000 non-null  int64  \n",
            " 2   Unnamed: 0.1.1      200000 non-null  int64  \n",
            " 3   dollar_price        200000 non-null  float64\n",
            " 4   date_crawled        200000 non-null  object \n",
            " 5   name                200000 non-null  object \n",
            " 6   vehicle_type        200000 non-null  int64  \n",
            " 7   registration_year   200000 non-null  int64  \n",
            " 8   gearbox             200000 non-null  int64  \n",
            " 9   power_ps            200000 non-null  int64  \n",
            " 10  kilometer           200000 non-null  int64  \n",
            " 11  registration_month  200000 non-null  int64  \n",
            " 12  fuel_type           200000 non-null  int64  \n",
            " 13  unrepaired_damage   166707 non-null  object \n",
            " 14  ad_created          200000 non-null  int64  \n",
            " 15  postal_code         200000 non-null  int64  \n",
            " 16  last_seen_online    200000 non-null  object \n",
            " 17  price               200000 non-null  float64\n",
            " 18  year                200000 non-null  int64  \n",
            " 19  km                  200000 non-null  int64  \n",
            " 20  damage              200000 non-null  float64\n",
            " 21  age                 200000 non-null  int64  \n",
            " 22  log_prices          200000 non-null  float64\n",
            "dtypes: float64(4), int64(15), object(4)\n",
            "memory usage: 35.1+ MB\n"
          ]
        }
      ]
    },
    {
      "cell_type": "code",
      "source": [
        "#normalizer \n",
        "from sklearn import preprocessing\n",
        "\n",
        "def norm_predictors(x):\n",
        "  \"\"\" Takes in a dataframe X and returns a normalized version using MinMaxScaling\"\"\"\n",
        "  cols = list(x.columns)\n",
        "  x = np.array(x)  \n",
        "  minMax = preprocessing.MinMaxScaler()\n",
        "  x_scale = minMax.fit_transform(x)\n",
        "  df = pd.DataFrame(x_scale, columns = cols)\n",
        "\n",
        "  return df \n",
        "\n",
        "ndf = norm_predictors(df[['power_ps', 'kilometer','age', 'log_prices']])\n",
        "ndf.head(3)"
      ],
      "metadata": {
        "colab": {
          "base_uri": "https://localhost:8080/",
          "height": 144
        },
        "id": "BaeamGcq_a1O",
        "outputId": "8e037e77-81f6-4cab-90e6-3f88d04c4055"
      },
      "execution_count": 3,
      "outputs": [
        {
          "output_type": "execute_result",
          "data": {
            "text/plain": [
              "   power_ps  kilometer       age  log_prices\n",
              "0   0.00375   1.000000  0.000000    0.095271\n",
              "1   0.00580   0.586207  0.098592    0.430050\n",
              "2   0.00375   1.000000  0.239437    0.000000"
            ],
            "text/html": [
              "\n",
              "  <div id=\"df-9b16f719-6900-492b-88ce-aa397d27fffd\">\n",
              "    <div class=\"colab-df-container\">\n",
              "      <div>\n",
              "<style scoped>\n",
              "    .dataframe tbody tr th:only-of-type {\n",
              "        vertical-align: middle;\n",
              "    }\n",
              "\n",
              "    .dataframe tbody tr th {\n",
              "        vertical-align: top;\n",
              "    }\n",
              "\n",
              "    .dataframe thead th {\n",
              "        text-align: right;\n",
              "    }\n",
              "</style>\n",
              "<table border=\"1\" class=\"dataframe\">\n",
              "  <thead>\n",
              "    <tr style=\"text-align: right;\">\n",
              "      <th></th>\n",
              "      <th>power_ps</th>\n",
              "      <th>kilometer</th>\n",
              "      <th>age</th>\n",
              "      <th>log_prices</th>\n",
              "    </tr>\n",
              "  </thead>\n",
              "  <tbody>\n",
              "    <tr>\n",
              "      <th>0</th>\n",
              "      <td>0.00375</td>\n",
              "      <td>1.000000</td>\n",
              "      <td>0.000000</td>\n",
              "      <td>0.095271</td>\n",
              "    </tr>\n",
              "    <tr>\n",
              "      <th>1</th>\n",
              "      <td>0.00580</td>\n",
              "      <td>0.586207</td>\n",
              "      <td>0.098592</td>\n",
              "      <td>0.430050</td>\n",
              "    </tr>\n",
              "    <tr>\n",
              "      <th>2</th>\n",
              "      <td>0.00375</td>\n",
              "      <td>1.000000</td>\n",
              "      <td>0.239437</td>\n",
              "      <td>0.000000</td>\n",
              "    </tr>\n",
              "  </tbody>\n",
              "</table>\n",
              "</div>\n",
              "      <button class=\"colab-df-convert\" onclick=\"convertToInteractive('df-9b16f719-6900-492b-88ce-aa397d27fffd')\"\n",
              "              title=\"Convert this dataframe to an interactive table.\"\n",
              "              style=\"display:none;\">\n",
              "        \n",
              "  <svg xmlns=\"http://www.w3.org/2000/svg\" height=\"24px\"viewBox=\"0 0 24 24\"\n",
              "       width=\"24px\">\n",
              "    <path d=\"M0 0h24v24H0V0z\" fill=\"none\"/>\n",
              "    <path d=\"M18.56 5.44l.94 2.06.94-2.06 2.06-.94-2.06-.94-.94-2.06-.94 2.06-2.06.94zm-11 1L8.5 8.5l.94-2.06 2.06-.94-2.06-.94L8.5 2.5l-.94 2.06-2.06.94zm10 10l.94 2.06.94-2.06 2.06-.94-2.06-.94-.94-2.06-.94 2.06-2.06.94z\"/><path d=\"M17.41 7.96l-1.37-1.37c-.4-.4-.92-.59-1.43-.59-.52 0-1.04.2-1.43.59L10.3 9.45l-7.72 7.72c-.78.78-.78 2.05 0 2.83L4 21.41c.39.39.9.59 1.41.59.51 0 1.02-.2 1.41-.59l7.78-7.78 2.81-2.81c.8-.78.8-2.07 0-2.86zM5.41 20L4 18.59l7.72-7.72 1.47 1.35L5.41 20z\"/>\n",
              "  </svg>\n",
              "      </button>\n",
              "      \n",
              "  <style>\n",
              "    .colab-df-container {\n",
              "      display:flex;\n",
              "      flex-wrap:wrap;\n",
              "      gap: 12px;\n",
              "    }\n",
              "\n",
              "    .colab-df-convert {\n",
              "      background-color: #E8F0FE;\n",
              "      border: none;\n",
              "      border-radius: 50%;\n",
              "      cursor: pointer;\n",
              "      display: none;\n",
              "      fill: #1967D2;\n",
              "      height: 32px;\n",
              "      padding: 0 0 0 0;\n",
              "      width: 32px;\n",
              "    }\n",
              "\n",
              "    .colab-df-convert:hover {\n",
              "      background-color: #E2EBFA;\n",
              "      box-shadow: 0px 1px 2px rgba(60, 64, 67, 0.3), 0px 1px 3px 1px rgba(60, 64, 67, 0.15);\n",
              "      fill: #174EA6;\n",
              "    }\n",
              "\n",
              "    [theme=dark] .colab-df-convert {\n",
              "      background-color: #3B4455;\n",
              "      fill: #D2E3FC;\n",
              "    }\n",
              "\n",
              "    [theme=dark] .colab-df-convert:hover {\n",
              "      background-color: #434B5C;\n",
              "      box-shadow: 0px 1px 3px 1px rgba(0, 0, 0, 0.15);\n",
              "      filter: drop-shadow(0px 1px 2px rgba(0, 0, 0, 0.3));\n",
              "      fill: #FFFFFF;\n",
              "    }\n",
              "  </style>\n",
              "\n",
              "      <script>\n",
              "        const buttonEl =\n",
              "          document.querySelector('#df-9b16f719-6900-492b-88ce-aa397d27fffd button.colab-df-convert');\n",
              "        buttonEl.style.display =\n",
              "          google.colab.kernel.accessAllowed ? 'block' : 'none';\n",
              "\n",
              "        async function convertToInteractive(key) {\n",
              "          const element = document.querySelector('#df-9b16f719-6900-492b-88ce-aa397d27fffd');\n",
              "          const dataTable =\n",
              "            await google.colab.kernel.invokeFunction('convertToInteractive',\n",
              "                                                     [key], {});\n",
              "          if (!dataTable) return;\n",
              "\n",
              "          const docLinkHtml = 'Like what you see? Visit the ' +\n",
              "            '<a target=\"_blank\" href=https://colab.research.google.com/notebooks/data_table.ipynb>data table notebook</a>'\n",
              "            + ' to learn more about interactive tables.';\n",
              "          element.innerHTML = '';\n",
              "          dataTable['output_type'] = 'display_data';\n",
              "          await google.colab.output.renderOutput(dataTable, element);\n",
              "          const docLink = document.createElement('div');\n",
              "          docLink.innerHTML = docLinkHtml;\n",
              "          element.appendChild(docLink);\n",
              "        }\n",
              "      </script>\n",
              "    </div>\n",
              "  </div>\n",
              "  "
            ]
          },
          "metadata": {},
          "execution_count": 3
        }
      ]
    },
    {
      "cell_type": "code",
      "source": [
        "df['power_ps'] = ndf['power_ps']\n",
        "df['kilometer'] = ndf['kilometer']\n",
        "df['age'] = ndf['age']\n",
        "df['log_prices'] = ndf['log_prices']\n"
      ],
      "metadata": {
        "id": "T21DeocP_ay-"
      },
      "execution_count": 4,
      "outputs": []
    },
    {
      "cell_type": "code",
      "source": [
        "#add classification of prices\n",
        "\n",
        "prices = np.array(df['dollar_price'])\n",
        "price_class_list = [x for x in prices]\n",
        "\n",
        "for i in range(len(price_class_list)):\n",
        "  if price_class_list[i] > 3500:\n",
        "    price_class_list[i] = 1\n",
        "  else:\n",
        "    price_class_list[i] = 0\n",
        "\n",
        "price_class_arr = np.array(price_class_list)\n",
        "df['price_class'] = pd.Series(price_class_arr)\n",
        "\n",
        "df.head(3)\n"
      ],
      "metadata": {
        "colab": {
          "base_uri": "https://localhost:8080/",
          "height": 254
        },
        "id": "46yKdGcz_awy",
        "outputId": "5500de29-b421-4422-fc83-9a325948002f"
      },
      "execution_count": 5,
      "outputs": [
        {
          "output_type": "execute_result",
          "data": {
            "text/plain": [
              "   Unnamed: 0  Unnamed: 0.1  Unnamed: 0.1.1  dollar_price date_crawled  \\\n",
              "0           0             0               0         900.0   2016-03-26   \n",
              "1           1             1               1        7100.0   2016-03-29   \n",
              "2           2             2               2         500.0   2016-03-23   \n",
              "\n",
              "                                          name  vehicle_type  \\\n",
              "0  Renault_Kangoo_1.4__TÃƒÂœV_01/2018__1._Hand             0   \n",
              "1                                 BMW_116d_DPF             0   \n",
              "2                          Volkswagen_Lupo_1.4             1   \n",
              "\n",
              "   registration_year  gearbox  power_ps  ...  ad_created  postal_code  \\\n",
              "0               2016        0   0.00375  ...        2016        82256   \n",
              "1               2009        0   0.00580  ...        2016        30457   \n",
              "2               1999        0   0.00375  ...        2016        87734   \n",
              "\n",
              "   last_seen_online   price  year      km damage       age  log_prices  \\\n",
              "0        2016-04-06   900.0  2016  150000    1.0  0.000000    0.095271   \n",
              "1        2016-03-30  7100.0  2009   90000    0.0  0.098592    0.430050   \n",
              "2        2016-03-23   500.0  1999  150000    1.0  0.239437    0.000000   \n",
              "\n",
              "   price_class  \n",
              "0            0  \n",
              "1            1  \n",
              "2            0  \n",
              "\n",
              "[3 rows x 24 columns]"
            ],
            "text/html": [
              "\n",
              "  <div id=\"df-bf644a5f-6c9b-4c3f-bec2-3e9c3ec8883b\">\n",
              "    <div class=\"colab-df-container\">\n",
              "      <div>\n",
              "<style scoped>\n",
              "    .dataframe tbody tr th:only-of-type {\n",
              "        vertical-align: middle;\n",
              "    }\n",
              "\n",
              "    .dataframe tbody tr th {\n",
              "        vertical-align: top;\n",
              "    }\n",
              "\n",
              "    .dataframe thead th {\n",
              "        text-align: right;\n",
              "    }\n",
              "</style>\n",
              "<table border=\"1\" class=\"dataframe\">\n",
              "  <thead>\n",
              "    <tr style=\"text-align: right;\">\n",
              "      <th></th>\n",
              "      <th>Unnamed: 0</th>\n",
              "      <th>Unnamed: 0.1</th>\n",
              "      <th>Unnamed: 0.1.1</th>\n",
              "      <th>dollar_price</th>\n",
              "      <th>date_crawled</th>\n",
              "      <th>name</th>\n",
              "      <th>vehicle_type</th>\n",
              "      <th>registration_year</th>\n",
              "      <th>gearbox</th>\n",
              "      <th>power_ps</th>\n",
              "      <th>...</th>\n",
              "      <th>ad_created</th>\n",
              "      <th>postal_code</th>\n",
              "      <th>last_seen_online</th>\n",
              "      <th>price</th>\n",
              "      <th>year</th>\n",
              "      <th>km</th>\n",
              "      <th>damage</th>\n",
              "      <th>age</th>\n",
              "      <th>log_prices</th>\n",
              "      <th>price_class</th>\n",
              "    </tr>\n",
              "  </thead>\n",
              "  <tbody>\n",
              "    <tr>\n",
              "      <th>0</th>\n",
              "      <td>0</td>\n",
              "      <td>0</td>\n",
              "      <td>0</td>\n",
              "      <td>900.0</td>\n",
              "      <td>2016-03-26</td>\n",
              "      <td>Renault_Kangoo_1.4__TÃƒÂœV_01/2018__1._Hand</td>\n",
              "      <td>0</td>\n",
              "      <td>2016</td>\n",
              "      <td>0</td>\n",
              "      <td>0.00375</td>\n",
              "      <td>...</td>\n",
              "      <td>2016</td>\n",
              "      <td>82256</td>\n",
              "      <td>2016-04-06</td>\n",
              "      <td>900.0</td>\n",
              "      <td>2016</td>\n",
              "      <td>150000</td>\n",
              "      <td>1.0</td>\n",
              "      <td>0.000000</td>\n",
              "      <td>0.095271</td>\n",
              "      <td>0</td>\n",
              "    </tr>\n",
              "    <tr>\n",
              "      <th>1</th>\n",
              "      <td>1</td>\n",
              "      <td>1</td>\n",
              "      <td>1</td>\n",
              "      <td>7100.0</td>\n",
              "      <td>2016-03-29</td>\n",
              "      <td>BMW_116d_DPF</td>\n",
              "      <td>0</td>\n",
              "      <td>2009</td>\n",
              "      <td>0</td>\n",
              "      <td>0.00580</td>\n",
              "      <td>...</td>\n",
              "      <td>2016</td>\n",
              "      <td>30457</td>\n",
              "      <td>2016-03-30</td>\n",
              "      <td>7100.0</td>\n",
              "      <td>2009</td>\n",
              "      <td>90000</td>\n",
              "      <td>0.0</td>\n",
              "      <td>0.098592</td>\n",
              "      <td>0.430050</td>\n",
              "      <td>1</td>\n",
              "    </tr>\n",
              "    <tr>\n",
              "      <th>2</th>\n",
              "      <td>2</td>\n",
              "      <td>2</td>\n",
              "      <td>2</td>\n",
              "      <td>500.0</td>\n",
              "      <td>2016-03-23</td>\n",
              "      <td>Volkswagen_Lupo_1.4</td>\n",
              "      <td>1</td>\n",
              "      <td>1999</td>\n",
              "      <td>0</td>\n",
              "      <td>0.00375</td>\n",
              "      <td>...</td>\n",
              "      <td>2016</td>\n",
              "      <td>87734</td>\n",
              "      <td>2016-03-23</td>\n",
              "      <td>500.0</td>\n",
              "      <td>1999</td>\n",
              "      <td>150000</td>\n",
              "      <td>1.0</td>\n",
              "      <td>0.239437</td>\n",
              "      <td>0.000000</td>\n",
              "      <td>0</td>\n",
              "    </tr>\n",
              "  </tbody>\n",
              "</table>\n",
              "<p>3 rows × 24 columns</p>\n",
              "</div>\n",
              "      <button class=\"colab-df-convert\" onclick=\"convertToInteractive('df-bf644a5f-6c9b-4c3f-bec2-3e9c3ec8883b')\"\n",
              "              title=\"Convert this dataframe to an interactive table.\"\n",
              "              style=\"display:none;\">\n",
              "        \n",
              "  <svg xmlns=\"http://www.w3.org/2000/svg\" height=\"24px\"viewBox=\"0 0 24 24\"\n",
              "       width=\"24px\">\n",
              "    <path d=\"M0 0h24v24H0V0z\" fill=\"none\"/>\n",
              "    <path d=\"M18.56 5.44l.94 2.06.94-2.06 2.06-.94-2.06-.94-.94-2.06-.94 2.06-2.06.94zm-11 1L8.5 8.5l.94-2.06 2.06-.94-2.06-.94L8.5 2.5l-.94 2.06-2.06.94zm10 10l.94 2.06.94-2.06 2.06-.94-2.06-.94-.94-2.06-.94 2.06-2.06.94z\"/><path d=\"M17.41 7.96l-1.37-1.37c-.4-.4-.92-.59-1.43-.59-.52 0-1.04.2-1.43.59L10.3 9.45l-7.72 7.72c-.78.78-.78 2.05 0 2.83L4 21.41c.39.39.9.59 1.41.59.51 0 1.02-.2 1.41-.59l7.78-7.78 2.81-2.81c.8-.78.8-2.07 0-2.86zM5.41 20L4 18.59l7.72-7.72 1.47 1.35L5.41 20z\"/>\n",
              "  </svg>\n",
              "      </button>\n",
              "      \n",
              "  <style>\n",
              "    .colab-df-container {\n",
              "      display:flex;\n",
              "      flex-wrap:wrap;\n",
              "      gap: 12px;\n",
              "    }\n",
              "\n",
              "    .colab-df-convert {\n",
              "      background-color: #E8F0FE;\n",
              "      border: none;\n",
              "      border-radius: 50%;\n",
              "      cursor: pointer;\n",
              "      display: none;\n",
              "      fill: #1967D2;\n",
              "      height: 32px;\n",
              "      padding: 0 0 0 0;\n",
              "      width: 32px;\n",
              "    }\n",
              "\n",
              "    .colab-df-convert:hover {\n",
              "      background-color: #E2EBFA;\n",
              "      box-shadow: 0px 1px 2px rgba(60, 64, 67, 0.3), 0px 1px 3px 1px rgba(60, 64, 67, 0.15);\n",
              "      fill: #174EA6;\n",
              "    }\n",
              "\n",
              "    [theme=dark] .colab-df-convert {\n",
              "      background-color: #3B4455;\n",
              "      fill: #D2E3FC;\n",
              "    }\n",
              "\n",
              "    [theme=dark] .colab-df-convert:hover {\n",
              "      background-color: #434B5C;\n",
              "      box-shadow: 0px 1px 3px 1px rgba(0, 0, 0, 0.15);\n",
              "      filter: drop-shadow(0px 1px 2px rgba(0, 0, 0, 0.3));\n",
              "      fill: #FFFFFF;\n",
              "    }\n",
              "  </style>\n",
              "\n",
              "      <script>\n",
              "        const buttonEl =\n",
              "          document.querySelector('#df-bf644a5f-6c9b-4c3f-bec2-3e9c3ec8883b button.colab-df-convert');\n",
              "        buttonEl.style.display =\n",
              "          google.colab.kernel.accessAllowed ? 'block' : 'none';\n",
              "\n",
              "        async function convertToInteractive(key) {\n",
              "          const element = document.querySelector('#df-bf644a5f-6c9b-4c3f-bec2-3e9c3ec8883b');\n",
              "          const dataTable =\n",
              "            await google.colab.kernel.invokeFunction('convertToInteractive',\n",
              "                                                     [key], {});\n",
              "          if (!dataTable) return;\n",
              "\n",
              "          const docLinkHtml = 'Like what you see? Visit the ' +\n",
              "            '<a target=\"_blank\" href=https://colab.research.google.com/notebooks/data_table.ipynb>data table notebook</a>'\n",
              "            + ' to learn more about interactive tables.';\n",
              "          element.innerHTML = '';\n",
              "          dataTable['output_type'] = 'display_data';\n",
              "          await google.colab.output.renderOutput(dataTable, element);\n",
              "          const docLink = document.createElement('div');\n",
              "          docLink.innerHTML = docLinkHtml;\n",
              "          element.appendChild(docLink);\n",
              "        }\n",
              "      </script>\n",
              "    </div>\n",
              "  </div>\n",
              "  "
            ]
          },
          "metadata": {},
          "execution_count": 5
        }
      ]
    },
    {
      "cell_type": "code",
      "source": [
        "df.columns"
      ],
      "metadata": {
        "colab": {
          "base_uri": "https://localhost:8080/"
        },
        "id": "qWPhOS7_Cv0N",
        "outputId": "49dd2d99-6204-4eb1-cbe4-095b87aba614"
      },
      "execution_count": 10,
      "outputs": [
        {
          "output_type": "execute_result",
          "data": {
            "text/plain": [
              "Index(['Unnamed: 0', 'Unnamed: 0.1', 'Unnamed: 0.1.1', 'dollar_price',\n",
              "       'date_crawled', 'name', 'vehicle_type', 'registration_year', 'gearbox',\n",
              "       'power_ps', 'kilometer', 'registration_month', 'fuel_type',\n",
              "       'unrepaired_damage', 'ad_created', 'postal_code', 'last_seen_online',\n",
              "       'price', 'year', 'km', 'damage', 'age', 'log_prices', 'price_class'],\n",
              "      dtype='object')"
            ]
          },
          "metadata": {},
          "execution_count": 10
        }
      ]
    },
    {
      "cell_type": "code",
      "source": [
        "# dataset to work with: \n",
        "\n",
        "x = df[['vehicle_type', 'registration_year','gearbox','power_ps', 'kilometer', 'fuel_type', 'postal_code', 'damage', 'age']]\n",
        "y = df['price_class']\n"
      ],
      "metadata": {
        "id": "YXXKmZlNCei2"
      },
      "execution_count": 6,
      "outputs": []
    },
    {
      "cell_type": "code",
      "source": [
        "#visualizations \n",
        "fig_size = (5,8)\n",
        "fig = plt.figure(figsize = fig_size)\n",
        "grid = fig.add_gridspec(3,3)\n",
        "\n",
        "def draw_plot(dx, dy, title, f, locx, locy):\n",
        "  ax = f.add_subplot(grid[locx, locy])\n",
        "  ax.plot(dx, dy)\n",
        "  ax.set(title = title)\n",
        "\n",
        "  return f\n",
        "\n",
        "locs = [[0,0], [0,1], [0,2], [1,0], [1,1], [1,2], [2,0], [2,1], [2,2]]\n",
        "\n",
        "x_cols = list(x.columns)\n",
        "\n",
        "for col in x_cols:\n",
        "  draw_plot(df[col], y, col, fig, locs[x_cols.index(col)][0], locs[x_cols.index(col)][1])\n"
      ],
      "metadata": {
        "colab": {
          "base_uri": "https://localhost:8080/",
          "height": 499
        },
        "id": "9kGYnpTbC7dz",
        "outputId": "01030b1d-487e-4412-dc5c-9e10b1d30e42"
      },
      "execution_count": 25,
      "outputs": [
        {
          "output_type": "display_data",
          "data": {
            "text/plain": [
              "<Figure size 360x576 with 9 Axes>"
            ],
            "image/png": "[encoded data removed]"
          },
          "metadata": {
            "needs_background": "light"
          }
        }
      ]
    },
    {
      "cell_type": "markdown",
      "source": [
        "# CLASSIFICATION ALGORITHMS \n",
        "\n",
        "1. KNN\n",
        "2. Decision Tree\n",
        "3. Random Forest\n",
        "4. Logistic Regression\n",
        "5. SVM\n"
      ],
      "metadata": {
        "id": "TRujYFi8E6eF"
      }
    },
    {
      "cell_type": "code",
      "source": [
        "x_train, x_val, y_train, y_val = train_test_split(x, y, test_size = 0.3, random_state = 0)"
      ],
      "metadata": {
        "id": "YTEJs9vwHFrh"
      },
      "execution_count": 7,
      "outputs": []
    },
    {
      "cell_type": "markdown",
      "source": [
        "### KNN"
      ],
      "metadata": {
        "id": "DBhnvKftLLAU"
      }
    },
    {
      "cell_type": "code",
      "source": [
        "#KNN\n",
        "\n",
        "from sklearn.neighbors import KNeighborsClassifier\n",
        "from sklearn import metrics\n",
        "\n",
        "def find_best_k(x,y, x_val, y_val):\n",
        "    \"\"\"\n",
        "    find best K for KNN\n",
        "    \"\"\"\n",
        "    accuracy = []\n",
        "    \n",
        "    for i in range(1,21):\n",
        "        knn = KNeighborsClassifier(n_neighbors = i).fit(x,y)\n",
        "        preds = knn.predict(x_val)\n",
        "        accuracy.append(metrics.accuracy_score(y_val, preds))\n",
        "        \n",
        "    return max(accuracy), accuracy\n",
        "    \n",
        "bestK = find_best_k(x_train, y_train, x_val, y_val)[0]\n",
        "acc = find_best_k(x_train, y_train, x_val, y_val)[1]\n",
        "\n",
        "indices = [i for i, x in enumerate(acc) if x == bestK]\n",
        "\n",
        "print(\"best accuracy is: \", bestK)\n",
        "print(\"best k for this: \", indices)\n",
        "\n"
      ],
      "metadata": {
        "colab": {
          "base_uri": "https://localhost:8080/"
        },
        "id": "G65RMzDV_ar4",
        "outputId": "276aa80c-d877-4d71-8fcb-53810d9d77d9"
      },
      "execution_count": 27,
      "outputs": [
        {
          "output_type": "stream",
          "name": "stdout",
          "text": [
            "best accuracy is:  0.7840166666666667\n",
            "best k for this:  [2]\n"
          ]
        }
      ]
    },
    {
      "cell_type": "markdown",
      "source": [
        "Best K = 2 \n",
        "\n",
        "Accuracy : 78%\n",
        "\n",
        "----\n",
        "\n",
        "Now, find the best features for KNN"
      ],
      "metadata": {
        "id": "gKo0tZvfHrb_"
      }
    },
    {
      "cell_type": "code",
      "source": [
        "#best features\n",
        "\n",
        "k = 2\n",
        "\n",
        "\n",
        "#Backward (Recursive)  \n",
        "from sklearn.feature_selection import RFE\n",
        "from sklearn.pipeline import Pipeline\n",
        "from sklearn.model_selection import cross_val_score\n",
        "from sklearn.model_selection import RepeatedKFold\n",
        "\n",
        "\n",
        "def make_models():\n",
        "    \"\"\"\n",
        "    Use RFE to build different models with different numbers of features \n",
        "    Returns a dictionary of all the different models \n",
        "    \"\"\"\n",
        "    models = dict()\n",
        "    for i in range(1,10):\n",
        "        rfe = RFE(estimator = KNeighborsClassifier(), n_features_to_select = i)\n",
        "        model = KNeighborsClassifier(n_neighbors = k)\n",
        "        models[str(i)] = Pipeline(steps = [('s', rfe),('m', model)])\n",
        "    \n",
        "    return models \n",
        " \n",
        "def evaluate_model(model, x, y):\n",
        "    cv = RepeatedKFold(n_splits=10, n_repeats=5, random_state=1)\n",
        "    scores = cross_val_score(model, x, y, cv= cv, scoring = 'accuracy',n_jobs=-1)\n",
        "    scores = np.absolute(scores)\n",
        "    \n",
        "    return scores\n",
        "    \n",
        "models = make_models()\n",
        "results = []\n",
        "model_name = []\n",
        "\n",
        "\n",
        "for name, model in models.items():\n",
        "    scores = evaluate_model(model, x_train, y_train)\n",
        "    results.append(scores)\n",
        "    model_name.append(name)\n",
        "    \n",
        "    \n",
        "    print(\"Model %s has score of %.3f\" %(name, np.mean(scores)))\n",
        "\n",
        "\n"
      ],
      "metadata": {
        "id": "daFzJQAg_aeJ"
      },
      "execution_count": null,
      "outputs": []
    },
    {
      "cell_type": "markdown",
      "source": [
        "All 9 features must be included. 0.76 accuracy.\n"
      ],
      "metadata": {
        "id": "AIyIUbpyHsKF"
      }
    },
    {
      "cell_type": "code",
      "source": [
        "from sklearn.metrics import accuracy_score\n",
        "from sklearn.metrics import confusion_matrix"
      ],
      "metadata": {
        "id": "8kbjpN7PQnBL"
      },
      "execution_count": 19,
      "outputs": []
    },
    {
      "cell_type": "code",
      "source": [
        "\n",
        "\n",
        "\n",
        "knn = KNeighborsClassifier(n_neighbors = k).fit(x_train,y_train)\n",
        "knn_preds = knn.predict(x_val)\n",
        "knn_acc = accuracy_score(y_val, knn_preds)\n",
        "\n",
        "print(\"KNN accuracy: \", knn_acc)\n",
        "\n"
      ],
      "metadata": {
        "colab": {
          "base_uri": "https://localhost:8080/"
        },
        "id": "H0m-sdGg_ja2",
        "outputId": "5d85cb65-444b-4c2e-b56d-1dda4d5b9332"
      },
      "execution_count": 30,
      "outputs": [
        {
          "output_type": "stream",
          "name": "stdout",
          "text": [
            "KNN accuracy:  0.7651833333333333\n"
          ]
        }
      ]
    },
    {
      "cell_type": "code",
      "source": [
        "def build_conf_mat(y, pr, alg):\n",
        "  confMat = confusion_matrix(y, pr)\n",
        "\n",
        "  print(alg, \" Confusion Matrix: \")\n",
        "  \n",
        "  confMat_df = pd.DataFrame(confMat, columns = ['TP&FN', 'FP&TN'])\n",
        "  print(confMat_df)\n",
        "\n",
        "  sns.heatmap(confMat/np.sum(confMat), annot=True, fmt='.2%') "
      ],
      "metadata": {
        "id": "lwbbx5YiIsUX"
      },
      "execution_count": 16,
      "outputs": []
    },
    {
      "cell_type": "code",
      "source": [
        "build_conf_mat(y_val, knn_preds, 'KNN-K=2')"
      ],
      "metadata": {
        "colab": {
          "base_uri": "https://localhost:8080/",
          "height": 337
        },
        "id": "Ej9XE0RGKFIT",
        "outputId": "418a00fc-e4a0-45b0-8cec-6b55818c77ab"
      },
      "execution_count": 33,
      "outputs": [
        {
          "output_type": "stream",
          "name": "stdout",
          "text": [
            "KNN-K=2  Confusion Matrix: \n",
            "   TP&FN  FP&TN\n",
            "0  27691   2888\n",
            "1  11201  18220\n"
          ]
        },
        {
          "output_type": "display_data",
          "data": {
            "text/plain": [
              "<Figure size 432x288 with 2 Axes>"
            ],
            "image/png": "[encoded data removed]"
          },
          "metadata": {
            "needs_background": "light"
          }
        }
      ]
    },
    {
      "cell_type": "code",
      "source": [
        "# precision and recall measures \n",
        "\n",
        "from sklearn.metrics import precision_score\n",
        "from sklearn.metrics import recall_score\n",
        "\n",
        "\n",
        "def calc_precision(y, pr, alg):\n",
        "  \"\"\"\n",
        "  Function calculates precision and recall for any Classification algorithm\n",
        "  \"\"\"\n",
        "  precision = precision_score(y, pr, average = 'micro')\n",
        "  print('Precision: %.3f' % precision, ' for ', alg)\n",
        "  recall = recall_score(y, pr, average = 'micro')\n",
        "  print('Recall: %.3f' % recall, 'for ', alg)\n"
      ],
      "metadata": {
        "id": "ZoDWPBWF_jZI"
      },
      "execution_count": 15,
      "outputs": []
    },
    {
      "cell_type": "code",
      "source": [
        "calc_precision(y_val, knn_preds, 'KNN-K=2')"
      ],
      "metadata": {
        "colab": {
          "base_uri": "https://localhost:8080/"
        },
        "id": "n4xpT7ZhKMlk",
        "outputId": "7cc8f723-1194-48ea-bb17-e8e6356cb3d2"
      },
      "execution_count": 35,
      "outputs": [
        {
          "output_type": "stream",
          "name": "stdout",
          "text": [
            "Precision: 0.765  for  KNN-K=2\n",
            "Recall: 0.765 for  KNN-K=2\n"
          ]
        }
      ]
    },
    {
      "cell_type": "code",
      "source": [
        "from sklearn.dummy import DummyClassifier\n",
        "\n",
        "dummy_majority = DummyClassifier(strategy='most_frequent').fit(x_train, y_train)\n",
        "pred_most_frequent = dummy_majority.predict(x_val)\n",
        "\n",
        "print(\"Test score: {:.2f}\".format(dummy_majority.score(y_val, pred_most_frequent)))\n",
        "\n",
        "#basically only predicting 1 class! "
      ],
      "metadata": {
        "colab": {
          "base_uri": "https://localhost:8080/"
        },
        "id": "C7w1FlSc_jXH",
        "outputId": "cd3abf70-83ec-4da1-eab3-6f6b0416cfd1"
      },
      "execution_count": 36,
      "outputs": [
        {
          "output_type": "stream",
          "name": "stdout",
          "text": [
            "Test score: 1.00\n"
          ]
        }
      ]
    },
    {
      "cell_type": "markdown",
      "source": [
        "### Decision Tree"
      ],
      "metadata": {
        "id": "MEkLc20oLHGS"
      }
    },
    {
      "cell_type": "code",
      "source": [
        "from sklearn.tree import DecisionTreeClassifier\n",
        "\n",
        "x_train_arr = np.array(x_train)\n",
        "x_val_arr = np.array(x_val)\n",
        "\n",
        "\n",
        "y_train_arr = np.array(y_train).reshape(-1,1)\n",
        "y_val_arr = np.array(y_val).reshape(-1,1)\n",
        "\n",
        "\n",
        "tr = DecisionTreeClassifier(random_state = 0, max_depth = 7)\n",
        "tr.fit(x_train_arr, y_train_arr)\n",
        "pred_tree = tr.predict(x_val_arr)\n",
        "pred_tree = pred_tree.reshape(-1,1)\n",
        "\n",
        "from sklearn.metrics import classification_report, confusion_matrix\n",
        "\n",
        "print('Decision Tree: ', confusion_matrix(y_val_arr, pred_tree))\n",
        "print('Reports: ', classification_report(y_val_arr, pred_tree))"
      ],
      "metadata": {
        "colab": {
          "base_uri": "https://localhost:8080/"
        },
        "id": "_LjLcfCg_jU-",
        "outputId": "8dd4d6bc-d936-4a97-a3f2-810739727aad"
      },
      "execution_count": 38,
      "outputs": [
        {
          "output_type": "stream",
          "name": "stdout",
          "text": [
            "Decision Tree:  [[27588  2991]\n",
            " [ 4696 24725]]\n",
            "Reports:                precision    recall  f1-score   support\n",
            "\n",
            "           0       0.85      0.90      0.88     30579\n",
            "           1       0.89      0.84      0.87     29421\n",
            "\n",
            "    accuracy                           0.87     60000\n",
            "   macro avg       0.87      0.87      0.87     60000\n",
            "weighted avg       0.87      0.87      0.87     60000\n",
            "\n"
          ]
        }
      ]
    },
    {
      "cell_type": "code",
      "source": [
        "build_conf_mat(y_val_arr, pred_tree, 'DecisionTree')"
      ],
      "metadata": {
        "colab": {
          "base_uri": "https://localhost:8080/",
          "height": 337
        },
        "id": "uZ6jHsR3_jSf",
        "outputId": "1cf0a898-3fd7-4605-9ab3-50720d571c8f"
      },
      "execution_count": 39,
      "outputs": [
        {
          "output_type": "stream",
          "name": "stdout",
          "text": [
            "DecisionTree  Confusion Matrix: \n",
            "   TP&FN  FP&TN\n",
            "0  27588   2991\n",
            "1   4696  24725\n"
          ]
        },
        {
          "output_type": "display_data",
          "data": {
            "text/plain": [
              "<Figure size 432x288 with 2 Axes>"
            ],
            "image/png": "[encoded data removed]"
          },
          "metadata": {
            "needs_background": "light"
          }
        }
      ]
    },
    {
      "cell_type": "code",
      "source": [
        "\n",
        "print(\"Number of mislabeled points out of a total %d points : %d\" % (len(x_train_arr), (y_val_arr != pred_tree).sum()))"
      ],
      "metadata": {
        "colab": {
          "base_uri": "https://localhost:8080/"
        },
        "id": "fnmX0Ce3_jNx",
        "outputId": "c13670ab-45c6-4216-e116-0d3f834770f2"
      },
      "execution_count": 43,
      "outputs": [
        {
          "output_type": "stream",
          "name": "stdout",
          "text": [
            "Number of mislabeled points out of a total 140000 points : 7687\n"
          ]
        }
      ]
    },
    {
      "cell_type": "code",
      "source": [
        "#feature selection \n",
        "print(\"Feature importances:\\n{}\".format(tr.feature_importances_))\n",
        "\n",
        "def plot_features(model):\n",
        "    plt.barh(range(9), model.feature_importances_, align='center')\n",
        "    plt.yticks(np.arange(9), x_train.columns)\n",
        "    plt.xlabel(\"Feature importance\")\n",
        "    plt.ylabel(\"Feature\")\n",
        "\n",
        "plot_features(tr)\n",
        "plt.show()\n"
      ],
      "metadata": {
        "colab": {
          "base_uri": "https://localhost:8080/",
          "height": 351
        },
        "id": "HzVkqt0S_tSP",
        "outputId": "9afad177-cada-4bf7-aefe-b54ed76ec738"
      },
      "execution_count": 45,
      "outputs": [
        {
          "output_type": "stream",
          "name": "stdout",
          "text": [
            "Feature importances:\n",
            "[2.67020652e-02 5.88920681e-01 1.22041624e-04 2.48855945e-01\n",
            " 7.10776854e-02 3.98967671e-03 5.91457018e-04 0.00000000e+00\n",
            " 5.97404481e-02]\n"
          ]
        },
        {
          "output_type": "display_data",
          "data": {
            "text/plain": [
              "<Figure size 432x288 with 1 Axes>"
            ],
            "image/png": "[encoded data removed]"
          },
          "metadata": {
            "needs_background": "light"
          }
        }
      ]
    },
    {
      "cell_type": "code",
      "source": [
        "!pip install graphviz"
      ],
      "metadata": {
        "colab": {
          "base_uri": "https://localhost:8080/"
        },
        "id": "dNrqJJjnMvvY",
        "outputId": "fd1a8d03-faf5-476b-a0d6-b1034269b8e7"
      },
      "execution_count": 46,
      "outputs": [
        {
          "output_type": "stream",
          "name": "stdout",
          "text": [
            "Requirement already satisfied: graphviz in /usr/local/lib/python3.7/dist-packages (0.10.1)\n"
          ]
        }
      ]
    },
    {
      "cell_type": "code",
      "source": [
        "#drawing decision tree\n",
        "\n",
        "from sklearn.tree import export_graphviz\n",
        "import graphviz\n",
        "\n",
        "dotd = export_graphviz(tr, out_file= None, class_names=[\"below 3.5k\", \"over 3.5k\"], feature_names= x.columns, impurity=False, filled=True)\n",
        "dt_graph = graphviz.Source(dotd)\n",
        "dt_graph\n"
      ],
      "metadata": {
        "id": "TiPh8VZd_tQG"
      },
      "execution_count": null,
      "outputs": []
    },
    {
      "cell_type": "code",
      "source": [
        "x_train_arr = np.array(x_train)\n",
        "y_train_arr = np.array(y_train)\n",
        "x_val_arr = np.array(x_val)\n",
        "y_val_arr = np.array(y_val)\n",
        "\n",
        "# x_train_arr = x_train_arr.reshape(-1,1)\n",
        "# y_train_arr = y_train_arr.reshape(-1,1)\n",
        "# x_val_arr = x_val_arr.reshape(-1,1)\n",
        "# y_val_arr = y_val_arr.reshape(-1,1)"
      ],
      "metadata": {
        "id": "6iOq4n9HNXkK"
      },
      "execution_count": 12,
      "outputs": []
    },
    {
      "cell_type": "code",
      "source": [
        "#SVM\n",
        "from sklearn import svm\n",
        "\n",
        "SVM_linear = svm.LinearSVC()\n",
        "SVM = svm.SVC(gamma='auto')\n",
        "\n",
        "lin_svm_fit = SVM_linear.fit(x_train_arr, y_train_arr)\n",
        "svm_fit = SVM.fit(x_train_arr, y_train_arr)\n",
        "\n",
        "svm_lin_pred = lin_svm_fit.predict(x_val_arr)\n",
        "svm_pred = svm_fit.predict(x_val_arr)\n",
        "\n",
        "print('linear SVM accuracy: ', lin_svm_fit.score(x_val_arr, y_val_arr))\n",
        "print('SVM accuracy: ', svm_fit.score(x_val_arr, y_val_arr))\n"
      ],
      "metadata": {
        "colab": {
          "base_uri": "https://localhost:8080/"
        },
        "id": "Z50GG90n_tOD",
        "outputId": "5bcbf7bd-d5dc-4ab3-e856-2c197e8aa101"
      },
      "execution_count": 13,
      "outputs": [
        {
          "output_type": "stream",
          "name": "stderr",
          "text": [
            "/usr/local/lib/python3.7/dist-packages/sklearn/svm/_base.py:1208: ConvergenceWarning: Liblinear failed to converge, increase the number of iterations.\n",
            "  ConvergenceWarning,\n"
          ]
        },
        {
          "output_type": "stream",
          "name": "stdout",
          "text": [
            "linear SVM accuracy:  0.5103166666666666\n",
            "SVM accuracy:  0.79455\n"
          ]
        }
      ]
    },
    {
      "cell_type": "code",
      "source": [
        "calc_precision(y_val_arr, svm_lin_pred, 'linear SVM')\n",
        "print('-----------------------------')\n",
        "calc_precision(y_val_arr, svm_pred, 'SVM')\n"
      ],
      "metadata": {
        "colab": {
          "base_uri": "https://localhost:8080/"
        },
        "id": "DeElDK9XOFrv",
        "outputId": "3f7c5236-db64-4791-b9c8-514cbf936c4e"
      },
      "execution_count": 17,
      "outputs": [
        {
          "output_type": "stream",
          "name": "stdout",
          "text": [
            "Precision: 0.510  for  linear SVM\n",
            "Recall: 0.510 for  linear SVM\n",
            "-----------------------------\n",
            "Precision: 0.795  for  SVM\n",
            "Recall: 0.795 for  SVM\n"
          ]
        }
      ]
    },
    {
      "cell_type": "code",
      "source": [
        "build_conf_mat(y_val_arr, svm_lin_pred, 'linear SVM')"
      ],
      "metadata": {
        "colab": {
          "base_uri": "https://localhost:8080/",
          "height": 338
        },
        "id": "G_HHz-WkO1BM",
        "outputId": "388b3992-9186-4c56-a61a-2821bc92c4c2"
      },
      "execution_count": 20,
      "outputs": [
        {
          "output_type": "stream",
          "name": "stdout",
          "text": [
            "linear SVM  Confusion Matrix: \n",
            "   TP&FN  FP&TN\n",
            "0  30532     47\n",
            "1  29334     87\n"
          ]
        },
        {
          "output_type": "display_data",
          "data": {
            "text/plain": [
              "<Figure size 432x288 with 2 Axes>"
            ],
            "image/png": "[encoded data removed]"
          },
          "metadata": {
            "needs_background": "light"
          }
        }
      ]
    },
    {
      "cell_type": "code",
      "source": [
        "build_conf_mat(y_val_arr, svm_pred, 'SVM')"
      ],
      "metadata": {
        "colab": {
          "base_uri": "https://localhost:8080/",
          "height": 337
        },
        "id": "3E34km02O-Cf",
        "outputId": "e1a52442-a10a-4ad4-f4f8-0c92e0b33c84"
      },
      "execution_count": 21,
      "outputs": [
        {
          "output_type": "stream",
          "name": "stdout",
          "text": [
            "SVM  Confusion Matrix: \n",
            "   TP&FN  FP&TN\n",
            "0  24555   6024\n",
            "1   6303  23118\n"
          ]
        },
        {
          "output_type": "display_data",
          "data": {
            "text/plain": [
              "<Figure size 432x288 with 2 Axes>"
            ],
            "image/png": "[encoded data removed]"
          },
          "metadata": {
            "needs_background": "light"
          }
        }
      ]
    },
    {
      "cell_type": "code",
      "source": [
        "print(\"Number of mislabeled points out of a total %d points in Linear SVM : %d\" % (len(x_train_arr), (y_val_arr != svm_lin_pred).sum()))\n",
        "print(\"Number of mislabeled points out of a total %d points in SVM : %d\" % (len(x_train_arr), (y_val_arr != svm_pred).sum()))\n"
      ],
      "metadata": {
        "colab": {
          "base_uri": "https://localhost:8080/"
        },
        "id": "IAZqFhSNP8Tv",
        "outputId": "ffbbdfc0-0174-4721-b200-e98e3681b9c5"
      },
      "execution_count": 22,
      "outputs": [
        {
          "output_type": "stream",
          "name": "stdout",
          "text": [
            "Number of mislabeled points out of a total 140000 points in Linear SVM : 29381\n",
            "Number of mislabeled points out of a total 140000 points in SVM : 12327\n"
          ]
        }
      ]
    },
    {
      "cell_type": "markdown",
      "source": [
        "### Random Forest"
      ],
      "metadata": {
        "id": "OhfStr1MPC79"
      }
    },
    {
      "cell_type": "code",
      "source": [
        "#Random Forest\n",
        "from sklearn.ensemble import RandomForestClassifier\n",
        "\n",
        "RF = RandomForestClassifier(n_estimators=100, max_depth=2, random_state=0)\n",
        "RF_fit = RF.fit(x_train, y_train)\n",
        "RF_pred = RF_fit.predict(x_val)\n",
        "\n",
        "print('random forest accuracy: ', RF_fit.score(x_val,y_val))"
      ],
      "metadata": {
        "colab": {
          "base_uri": "https://localhost:8080/"
        },
        "id": "4lWA_Vyo_tL3",
        "outputId": "f561dd57-576e-4531-cc3a-0509d33012b7"
      },
      "execution_count": 23,
      "outputs": [
        {
          "output_type": "stream",
          "name": "stdout",
          "text": [
            "random forest accuracy:  0.8034333333333333\n"
          ]
        }
      ]
    },
    {
      "cell_type": "code",
      "source": [
        "calc_precision(y_val_arr, RF_pred, 'RF')\n"
      ],
      "metadata": {
        "colab": {
          "base_uri": "https://localhost:8080/"
        },
        "id": "gZ91XyawPXPw",
        "outputId": "13dd61c2-8888-4ff5-b7b0-276a08f56cbe"
      },
      "execution_count": 24,
      "outputs": [
        {
          "output_type": "stream",
          "name": "stdout",
          "text": [
            "Precision: 0.803  for  RF\n",
            "Recall: 0.803 for  RF\n"
          ]
        }
      ]
    },
    {
      "cell_type": "code",
      "source": [
        "build_conf_mat(y_val_arr, RF_pred, 'RF')"
      ],
      "metadata": {
        "colab": {
          "base_uri": "https://localhost:8080/",
          "height": 338
        },
        "id": "ynrWjYRMPXDP",
        "outputId": "4f80579a-cb44-4778-bec4-d00803b66c43"
      },
      "execution_count": 25,
      "outputs": [
        {
          "output_type": "stream",
          "name": "stdout",
          "text": [
            "RF  Confusion Matrix: \n",
            "   TP&FN  FP&TN\n",
            "0  24303   6276\n",
            "1   5518  23903\n"
          ]
        },
        {
          "output_type": "display_data",
          "data": {
            "text/plain": [
              "<Figure size 432x288 with 2 Axes>"
            ],
            "image/png": "[encoded data removed]"
          },
          "metadata": {
            "needs_background": "light"
          }
        }
      ]
    },
    {
      "cell_type": "code",
      "source": [
        "print(\"Number of mislabeled points out of a total %d points in RF : %d\" % (len(x_train), (y_val != RF_pred).sum()))\n"
      ],
      "metadata": {
        "colab": {
          "base_uri": "https://localhost:8080/"
        },
        "id": "H5xzaQNhQG4Y",
        "outputId": "0b95a796-4ac1-4608-f176-9c7d6c98f0d8"
      },
      "execution_count": 27,
      "outputs": [
        {
          "output_type": "stream",
          "name": "stdout",
          "text": [
            "Number of mislabeled points out of a total 140000 points in RF : 11794\n"
          ]
        }
      ]
    },
    {
      "cell_type": "markdown",
      "source": [
        "### Logistic Regression"
      ],
      "metadata": {
        "id": "8okCph07PlON"
      }
    },
    {
      "cell_type": "code",
      "source": [
        "# Logistic Regression\n",
        "from sklearn.linear_model import LogisticRegression\n",
        "\n",
        "LR = LogisticRegression(random_state=0, solver='lbfgs', multi_class='ovr').fit(x_train, y_train)\n",
        "logreg_pred = LR.predict(x_val)\n",
        "\n",
        "print('logistic regression accuracy: ', LR.score(x_val, y_val))"
      ],
      "metadata": {
        "colab": {
          "base_uri": "https://localhost:8080/"
        },
        "id": "J1K4DCrB_tG5",
        "outputId": "db19ac54-77ab-4efc-d527-0df988ce4df5"
      },
      "execution_count": 28,
      "outputs": [
        {
          "output_type": "stream",
          "name": "stdout",
          "text": [
            "logistic regression accuracy:  0.5319833333333334\n"
          ]
        }
      ]
    },
    {
      "cell_type": "code",
      "source": [
        "calc_precision(y_val_arr, logreg_pred, 'LogisticReg')\n"
      ],
      "metadata": {
        "colab": {
          "base_uri": "https://localhost:8080/"
        },
        "id": "4AqeBsrQP0yf",
        "outputId": "64e4cc12-5929-4f8e-e874-f25a7d6372cb"
      },
      "execution_count": 29,
      "outputs": [
        {
          "output_type": "stream",
          "name": "stdout",
          "text": [
            "Precision: 0.532  for  LogisticReg\n",
            "Recall: 0.532 for  LogisticReg\n"
          ]
        }
      ]
    },
    {
      "cell_type": "code",
      "source": [
        "build_conf_mat(y_val_arr, logreg_pred, 'LogisitcReg')"
      ],
      "metadata": {
        "colab": {
          "base_uri": "https://localhost:8080/",
          "height": 339
        },
        "id": "VntH-dWpP0nF",
        "outputId": "0d6eb899-51f5-46e3-ecc1-bc47c758735f"
      },
      "execution_count": 30,
      "outputs": [
        {
          "output_type": "stream",
          "name": "stdout",
          "text": [
            "LogisitcReg  Confusion Matrix: \n",
            "   TP&FN  FP&TN\n",
            "0  19272  11307\n",
            "1  16774  12647\n"
          ]
        },
        {
          "output_type": "display_data",
          "data": {
            "text/plain": [
              "<Figure size 432x288 with 2 Axes>"
            ],
            "image/png": "[encoded data removed]"
          },
          "metadata": {
            "needs_background": "light"
          }
        }
      ]
    },
    {
      "cell_type": "code",
      "source": [
        "print(\"Number of mislabeled points out of a total %d points in Logistic Regression : %d\" % (len(x_train_arr), (y_val_arr != logreg_pred).sum()))\n"
      ],
      "metadata": {
        "colab": {
          "base_uri": "https://localhost:8080/"
        },
        "id": "aerHwrqDQJsW",
        "outputId": "4f9230f7-a0c7-4dd4-bce0-73491325700b"
      },
      "execution_count": 31,
      "outputs": [
        {
          "output_type": "stream",
          "name": "stdout",
          "text": [
            "Number of mislabeled points out of a total 140000 points in Logistic Regression : 28081\n"
          ]
        }
      ]
    },
    {
      "cell_type": "markdown",
      "source": [
        "### MLP Classifier - Neural Network "
      ],
      "metadata": {
        "id": "4jNO90ocQZJE"
      }
    },
    {
      "cell_type": "code",
      "source": [
        "#NN\n",
        "from sklearn.neural_network import MLPClassifier\n",
        "\n",
        "NN = MLPClassifier(solver='lbfgs', alpha=1e-5, hidden_layer_sizes=(5, 2), random_state=1)\n",
        "nn_fit = NN.fit(x_train, y_train)\n",
        "nn_pred = NN.predict(x_val)\n",
        "\n",
        "print('MLP accuracy: ', nn_fit.score(x_val, y_val))\n"
      ],
      "metadata": {
        "colab": {
          "base_uri": "https://localhost:8080/"
        },
        "id": "lvvbgRO9_tEJ",
        "outputId": "c5ec1847-3bd1-48c0-c7ef-e1198cffad9f"
      },
      "execution_count": 34,
      "outputs": [
        {
          "output_type": "stream",
          "name": "stdout",
          "text": [
            "MLP accuracy:  0.50965\n"
          ]
        }
      ]
    },
    {
      "cell_type": "code",
      "source": [
        "calc_precision(y_val_arr, nn_pred, 'MLP')\n"
      ],
      "metadata": {
        "colab": {
          "base_uri": "https://localhost:8080/"
        },
        "id": "SIA1bxBnQrtj",
        "outputId": "ed36f625-eec0-4de8-d39d-4da85aef8ebe"
      },
      "execution_count": 35,
      "outputs": [
        {
          "output_type": "stream",
          "name": "stdout",
          "text": [
            "Precision: 0.510  for  MLP\n",
            "Recall: 0.510 for  MLP\n"
          ]
        }
      ]
    },
    {
      "cell_type": "code",
      "source": [
        "build_conf_mat(y_val_arr, nn_pred, 'MLP')"
      ],
      "metadata": {
        "colab": {
          "base_uri": "https://localhost:8080/",
          "height": 337
        },
        "id": "-qsqXeQmQsMU",
        "outputId": "cfe58335-d28a-4f23-d09a-cba73f951e11"
      },
      "execution_count": 36,
      "outputs": [
        {
          "output_type": "stream",
          "name": "stdout",
          "text": [
            "MLP  Confusion Matrix: \n",
            "   TP&FN  FP&TN\n",
            "0  30579      0\n",
            "1  29421      0\n"
          ]
        },
        {
          "output_type": "display_data",
          "data": {
            "text/plain": [
              "<Figure size 432x288 with 2 Axes>"
            ],
            "image/png": "[encoded data removed]"
          },
          "metadata": {
            "needs_background": "light"
          }
        }
      ]
    },
    {
      "cell_type": "code",
      "source": [
        "print(\"Number of mislabeled points out of a total %d points in MLP: %d\" % (len(x_train), (y_val != nn_pred).sum()))\n"
      ],
      "metadata": {
        "colab": {
          "base_uri": "https://localhost:8080/"
        },
        "id": "0J641r30Qur9",
        "outputId": "05a9cd04-7a6d-4f9d-8a48-ad1c58f5e5ec"
      },
      "execution_count": 37,
      "outputs": [
        {
          "output_type": "stream",
          "name": "stdout",
          "text": [
            "Number of mislabeled points out of a total 140000 points in MLP: 29421\n"
          ]
        }
      ]
    },
    {
      "cell_type": "code",
      "source": [
        "classification_results = {\n",
        "    'KNN_accuracy': 0.77,\n",
        "    'KNN_precision': 0.765,\n",
        "    'KNN_recall': 0.765,\n",
        "    'DT_accuracy': 0.87,\n",
        "    'DT_precision': 0.89,\n",
        "    'DT_recall': 0.90,\n",
        "    'LinearSVM_accuracy': 0.51,\n",
        "    'LinearSVM_precision': 0.510,\n",
        "    'LineaerSVM_recall': 0.510,\n",
        "    'SVM_accuracy': 0.79,\n",
        "    'SVM_precision': 0.795,\n",
        "    'SVM_recall': 0.795,\n",
        "    'RF_accuracy': 0.80,\n",
        "    'RF_precision': 0.803,\n",
        "    'RF_recall': 0.803,\n",
        "    'LogisticReg_Accuracy': 0.53,\n",
        "    'LogisticReg_precision': 0.532,\n",
        "    'LogisticReg_recall': 0.532,\n",
        "    'MLP_accuracy': 0.51,\n",
        "    'MLP_precision': 0.51,\n",
        "    'MLP_recall':  0.51\n",
        "}\n",
        "\n",
        "df_results = pd.DataFrame.from_dict(classification_results, orient = 'index', columns = ['results'])"
      ],
      "metadata": {
        "id": "rjzTpY0WRgp6"
      },
      "execution_count": 38,
      "outputs": []
    },
    {
      "cell_type": "code",
      "source": [
        "df_results"
      ],
      "metadata": {
        "colab": {
          "base_uri": "https://localhost:8080/",
          "height": 558
        },
        "id": "qWzfc25YR2Lr",
        "outputId": "f0b394fc-db7f-4270-c2c4-04d3354cd233"
      },
      "execution_count": 39,
      "outputs": [
        {
          "output_type": "execute_result",
          "data": {
            "text/plain": [
              "                       results\n",
              "KNN_accuracy             0.770\n",
              "KNN_precision            0.765\n",
              "KNN_recall               0.765\n",
              "DT_accuracy              0.870\n",
              "DT_precision             0.890\n",
              "DT_recall                0.900\n",
              "LinearSVM_accuracy       0.510\n",
              "LinearSVM_precision      0.510\n",
              "LineaerSVM_recall        0.510\n",
              "SVM_accuracy             0.790\n",
              "SVM_precision            0.795\n",
              "SVM_recall               0.795\n",
              "RF_accuracy              0.800\n",
              "RF_precision             0.803\n",
              "RF_recall                0.803\n",
              "LogisticReg_Accuracy     0.530\n",
              "LogisticReg_precision    0.532\n",
              "LogisticReg_recall       0.532\n",
              "MLP_accuracy             0.510\n",
              "MLP_precision            0.510\n",
              "MLP_recall               0.510"
            ],
            "text/html": [
              "\n",
              "  <div id=\"df-e245ffbb-c793-44e9-9178-64fb1701cfc7\">\n",
              "    <div class=\"colab-df-container\">\n",
              "      <div>\n",
              "<style scoped>\n",
              "    .dataframe tbody tr th:only-of-type {\n",
              "        vertical-align: middle;\n",
              "    }\n",
              "\n",
              "    .dataframe tbody tr th {\n",
              "        vertical-align: top;\n",
              "    }\n",
              "\n",
              "    .dataframe thead th {\n",
              "        text-align: right;\n",
              "    }\n",
              "</style>\n",
              "<table border=\"1\" class=\"dataframe\">\n",
              "  <thead>\n",
              "    <tr style=\"text-align: right;\">\n",
              "      <th></th>\n",
              "      <th>results</th>\n",
              "    </tr>\n",
              "  </thead>\n",
              "  <tbody>\n",
              "    <tr>\n",
              "      <th>KNN_accuracy</th>\n",
              "      <td>0.770</td>\n",
              "    </tr>\n",
              "    <tr>\n",
              "      <th>KNN_precision</th>\n",
              "      <td>0.765</td>\n",
              "    </tr>\n",
              "    <tr>\n",
              "      <th>KNN_recall</th>\n",
              "      <td>0.765</td>\n",
              "    </tr>\n",
              "    <tr>\n",
              "      <th>DT_accuracy</th>\n",
              "      <td>0.870</td>\n",
              "    </tr>\n",
              "    <tr>\n",
              "      <th>DT_precision</th>\n",
              "      <td>0.890</td>\n",
              "    </tr>\n",
              "    <tr>\n",
              "      <th>DT_recall</th>\n",
              "      <td>0.900</td>\n",
              "    </tr>\n",
              "    <tr>\n",
              "      <th>LinearSVM_accuracy</th>\n",
              "      <td>0.510</td>\n",
              "    </tr>\n",
              "    <tr>\n",
              "      <th>LinearSVM_precision</th>\n",
              "      <td>0.510</td>\n",
              "    </tr>\n",
              "    <tr>\n",
              "      <th>LineaerSVM_recall</th>\n",
              "      <td>0.510</td>\n",
              "    </tr>\n",
              "    <tr>\n",
              "      <th>SVM_accuracy</th>\n",
              "      <td>0.790</td>\n",
              "    </tr>\n",
              "    <tr>\n",
              "      <th>SVM_precision</th>\n",
              "      <td>0.795</td>\n",
              "    </tr>\n",
              "    <tr>\n",
              "      <th>SVM_recall</th>\n",
              "      <td>0.795</td>\n",
              "    </tr>\n",
              "    <tr>\n",
              "      <th>RF_accuracy</th>\n",
              "      <td>0.800</td>\n",
              "    </tr>\n",
              "    <tr>\n",
              "      <th>RF_precision</th>\n",
              "      <td>0.803</td>\n",
              "    </tr>\n",
              "    <tr>\n",
              "      <th>RF_recall</th>\n",
              "      <td>0.803</td>\n",
              "    </tr>\n",
              "    <tr>\n",
              "      <th>LogisticReg_Accuracy</th>\n",
              "      <td>0.530</td>\n",
              "    </tr>\n",
              "    <tr>\n",
              "      <th>LogisticReg_precision</th>\n",
              "      <td>0.532</td>\n",
              "    </tr>\n",
              "    <tr>\n",
              "      <th>LogisticReg_recall</th>\n",
              "      <td>0.532</td>\n",
              "    </tr>\n",
              "    <tr>\n",
              "      <th>MLP_accuracy</th>\n",
              "      <td>0.510</td>\n",
              "    </tr>\n",
              "    <tr>\n",
              "      <th>MLP_precision</th>\n",
              "      <td>0.510</td>\n",
              "    </tr>\n",
              "    <tr>\n",
              "      <th>MLP_recall</th>\n",
              "      <td>0.510</td>\n",
              "    </tr>\n",
              "  </tbody>\n",
              "</table>\n",
              "</div>\n",
              "      <button class=\"colab-df-convert\" onclick=\"convertToInteractive('df-e245ffbb-c793-44e9-9178-64fb1701cfc7')\"\n",
              "              title=\"Convert this dataframe to an interactive table.\"\n",
              "              style=\"display:none;\">\n",
              "        \n",
              "  <svg xmlns=\"http://www.w3.org/2000/svg\" height=\"24px\"viewBox=\"0 0 24 24\"\n",
              "       width=\"24px\">\n",
              "    <path d=\"M0 0h24v24H0V0z\" fill=\"none\"/>\n",
              "    <path d=\"M18.56 5.44l.94 2.06.94-2.06 2.06-.94-2.06-.94-.94-2.06-.94 2.06-2.06.94zm-11 1L8.5 8.5l.94-2.06 2.06-.94-2.06-.94L8.5 2.5l-.94 2.06-2.06.94zm10 10l.94 2.06.94-2.06 2.06-.94-2.06-.94-.94-2.06-.94 2.06-2.06.94z\"/><path d=\"M17.41 7.96l-1.37-1.37c-.4-.4-.92-.59-1.43-.59-.52 0-1.04.2-1.43.59L10.3 9.45l-7.72 7.72c-.78.78-.78 2.05 0 2.83L4 21.41c.39.39.9.59 1.41.59.51 0 1.02-.2 1.41-.59l7.78-7.78 2.81-2.81c.8-.78.8-2.07 0-2.86zM5.41 20L4 18.59l7.72-7.72 1.47 1.35L5.41 20z\"/>\n",
              "  </svg>\n",
              "      </button>\n",
              "      \n",
              "  <style>\n",
              "    .colab-df-container {\n",
              "      display:flex;\n",
              "      flex-wrap:wrap;\n",
              "      gap: 12px;\n",
              "    }\n",
              "\n",
              "    .colab-df-convert {\n",
              "      background-color: #E8F0FE;\n",
              "      border: none;\n",
              "      border-radius: 50%;\n",
              "      cursor: pointer;\n",
              "      display: none;\n",
              "      fill: #1967D2;\n",
              "      height: 32px;\n",
              "      padding: 0 0 0 0;\n",
              "      width: 32px;\n",
              "    }\n",
              "\n",
              "    .colab-df-convert:hover {\n",
              "      background-color: #E2EBFA;\n",
              "      box-shadow: 0px 1px 2px rgba(60, 64, 67, 0.3), 0px 1px 3px 1px rgba(60, 64, 67, 0.15);\n",
              "      fill: #174EA6;\n",
              "    }\n",
              "\n",
              "    [theme=dark] .colab-df-convert {\n",
              "      background-color: #3B4455;\n",
              "      fill: #D2E3FC;\n",
              "    }\n",
              "\n",
              "    [theme=dark] .colab-df-convert:hover {\n",
              "      background-color: #434B5C;\n",
              "      box-shadow: 0px 1px 3px 1px rgba(0, 0, 0, 0.15);\n",
              "      filter: drop-shadow(0px 1px 2px rgba(0, 0, 0, 0.3));\n",
              "      fill: #FFFFFF;\n",
              "    }\n",
              "  </style>\n",
              "\n",
              "      <script>\n",
              "        const buttonEl =\n",
              "          document.querySelector('#df-e245ffbb-c793-44e9-9178-64fb1701cfc7 button.colab-df-convert');\n",
              "        buttonEl.style.display =\n",
              "          google.colab.kernel.accessAllowed ? 'block' : 'none';\n",
              "\n",
              "        async function convertToInteractive(key) {\n",
              "          const element = document.querySelector('#df-e245ffbb-c793-44e9-9178-64fb1701cfc7');\n",
              "          const dataTable =\n",
              "            await google.colab.kernel.invokeFunction('convertToInteractive',\n",
              "                                                     [key], {});\n",
              "          if (!dataTable) return;\n",
              "\n",
              "          const docLinkHtml = 'Like what you see? Visit the ' +\n",
              "            '<a target=\"_blank\" href=https://colab.research.google.com/notebooks/data_table.ipynb>data table notebook</a>'\n",
              "            + ' to learn more about interactive tables.';\n",
              "          element.innerHTML = '';\n",
              "          dataTable['output_type'] = 'display_data';\n",
              "          await google.colab.output.renderOutput(dataTable, element);\n",
              "          const docLink = document.createElement('div');\n",
              "          docLink.innerHTML = docLinkHtml;\n",
              "          element.appendChild(docLink);\n",
              "        }\n",
              "      </script>\n",
              "    </div>\n",
              "  </div>\n",
              "  "
            ]
          },
          "metadata": {},
          "execution_count": 39
        }
      ]
    },
    {
      "cell_type": "markdown",
      "source": [
        "Best Accuracy: Decision Tree\n"
      ],
      "metadata": {
        "id": "c4Z4bcxzSEj8"
      }
    },
    {
      "cell_type": "code",
      "source": [
        "total = 140000\n",
        "\n",
        "dt_miss = round(7687/total, 2)\n",
        "dt_hit = round((total - 7687)/total, 2)\n",
        "\n",
        "lin_svm_miss = round(29381/total, 2)\n",
        "lin_svm_hit = round((total - 29381)/total, 2)\n",
        "\n",
        "svm_miss = round(12327/total, 2)\n",
        "svm_hit = round((total - 12327)/total, 2)\n",
        "\n",
        "rf_miss = round(11794/total, 2)\n",
        "rf_hit = round((total - 11794)/total, 2)\n",
        "\n",
        "logReg_miss = round(28081/total, 2)\n",
        "logReg_hit = round((total - 28081)/total, 2)\n",
        "\n",
        "mlp_miss = round(29421/total, 2)\n",
        "mlp_hit = round((total - 29421)/total,2)\n",
        "\n",
        "final_hit_miss_dict = {\n",
        "    'DTmiss': dt_miss,\n",
        "    'DThit' : dt_hit, \n",
        "    'linSVMmiss': lin_svm_miss,\n",
        "    'linSVMhit': lin_svm_hit,\n",
        "    'svmMiss': svm_miss,\n",
        "    'svmHit': svm_hit,\n",
        "    'rfMiss': rf_miss,\n",
        "    'rfHit': rf_hit,\n",
        "    'logRegMiss': logReg_miss,\n",
        "    'logRegHit': logReg_hit,\n",
        "    'MLPmiss': mlp_miss,\n",
        "    'MLPhit': mlp_hit\n",
        "}\n",
        "\n",
        "df_hit_or_miss = pd.DataFrame.from_dict(final_hit_miss_dict, orient = 'index', columns = ['percent value'])\n",
        "df_hit_or_miss"
      ],
      "metadata": {
        "colab": {
          "base_uri": "https://localhost:8080/",
          "height": 425
        },
        "id": "H5dplUgTR3KT",
        "outputId": "2c4ea116-8f1c-480c-ac0b-ecd58cc9154a"
      },
      "execution_count": 42,
      "outputs": [
        {
          "output_type": "execute_result",
          "data": {
            "text/plain": [
              "            percent value\n",
              "DTmiss               0.05\n",
              "DThit                0.95\n",
              "linSVMmiss           0.21\n",
              "linSVMhit            0.79\n",
              "svmMiss              0.09\n",
              "svmHit               0.91\n",
              "rfMiss               0.08\n",
              "rfHit                0.92\n",
              "logRegMiss           0.20\n",
              "logRegHit            0.80\n",
              "MLPmiss              0.21\n",
              "MLPhit               0.79"
            ],
            "text/html": [
              "\n",
              "  <div id=\"df-3408d7c7-f284-4111-bbe2-16769bec5cb4\">\n",
              "    <div class=\"colab-df-container\">\n",
              "      <div>\n",
              "<style scoped>\n",
              "    .dataframe tbody tr th:only-of-type {\n",
              "        vertical-align: middle;\n",
              "    }\n",
              "\n",
              "    .dataframe tbody tr th {\n",
              "        vertical-align: top;\n",
              "    }\n",
              "\n",
              "    .dataframe thead th {\n",
              "        text-align: right;\n",
              "    }\n",
              "</style>\n",
              "<table border=\"1\" class=\"dataframe\">\n",
              "  <thead>\n",
              "    <tr style=\"text-align: right;\">\n",
              "      <th></th>\n",
              "      <th>percent value</th>\n",
              "    </tr>\n",
              "  </thead>\n",
              "  <tbody>\n",
              "    <tr>\n",
              "      <th>DTmiss</th>\n",
              "      <td>0.05</td>\n",
              "    </tr>\n",
              "    <tr>\n",
              "      <th>DThit</th>\n",
              "      <td>0.95</td>\n",
              "    </tr>\n",
              "    <tr>\n",
              "      <th>linSVMmiss</th>\n",
              "      <td>0.21</td>\n",
              "    </tr>\n",
              "    <tr>\n",
              "      <th>linSVMhit</th>\n",
              "      <td>0.79</td>\n",
              "    </tr>\n",
              "    <tr>\n",
              "      <th>svmMiss</th>\n",
              "      <td>0.09</td>\n",
              "    </tr>\n",
              "    <tr>\n",
              "      <th>svmHit</th>\n",
              "      <td>0.91</td>\n",
              "    </tr>\n",
              "    <tr>\n",
              "      <th>rfMiss</th>\n",
              "      <td>0.08</td>\n",
              "    </tr>\n",
              "    <tr>\n",
              "      <th>rfHit</th>\n",
              "      <td>0.92</td>\n",
              "    </tr>\n",
              "    <tr>\n",
              "      <th>logRegMiss</th>\n",
              "      <td>0.20</td>\n",
              "    </tr>\n",
              "    <tr>\n",
              "      <th>logRegHit</th>\n",
              "      <td>0.80</td>\n",
              "    </tr>\n",
              "    <tr>\n",
              "      <th>MLPmiss</th>\n",
              "      <td>0.21</td>\n",
              "    </tr>\n",
              "    <tr>\n",
              "      <th>MLPhit</th>\n",
              "      <td>0.79</td>\n",
              "    </tr>\n",
              "  </tbody>\n",
              "</table>\n",
              "</div>\n",
              "      <button class=\"colab-df-convert\" onclick=\"convertToInteractive('df-3408d7c7-f284-4111-bbe2-16769bec5cb4')\"\n",
              "              title=\"Convert this dataframe to an interactive table.\"\n",
              "              style=\"display:none;\">\n",
              "        \n",
              "  <svg xmlns=\"http://www.w3.org/2000/svg\" height=\"24px\"viewBox=\"0 0 24 24\"\n",
              "       width=\"24px\">\n",
              "    <path d=\"M0 0h24v24H0V0z\" fill=\"none\"/>\n",
              "    <path d=\"M18.56 5.44l.94 2.06.94-2.06 2.06-.94-2.06-.94-.94-2.06-.94 2.06-2.06.94zm-11 1L8.5 8.5l.94-2.06 2.06-.94-2.06-.94L8.5 2.5l-.94 2.06-2.06.94zm10 10l.94 2.06.94-2.06 2.06-.94-2.06-.94-.94-2.06-.94 2.06-2.06.94z\"/><path d=\"M17.41 7.96l-1.37-1.37c-.4-.4-.92-.59-1.43-.59-.52 0-1.04.2-1.43.59L10.3 9.45l-7.72 7.72c-.78.78-.78 2.05 0 2.83L4 21.41c.39.39.9.59 1.41.59.51 0 1.02-.2 1.41-.59l7.78-7.78 2.81-2.81c.8-.78.8-2.07 0-2.86zM5.41 20L4 18.59l7.72-7.72 1.47 1.35L5.41 20z\"/>\n",
              "  </svg>\n",
              "      </button>\n",
              "      \n",
              "  <style>\n",
              "    .colab-df-container {\n",
              "      display:flex;\n",
              "      flex-wrap:wrap;\n",
              "      gap: 12px;\n",
              "    }\n",
              "\n",
              "    .colab-df-convert {\n",
              "      background-color: #E8F0FE;\n",
              "      border: none;\n",
              "      border-radius: 50%;\n",
              "      cursor: pointer;\n",
              "      display: none;\n",
              "      fill: #1967D2;\n",
              "      height: 32px;\n",
              "      padding: 0 0 0 0;\n",
              "      width: 32px;\n",
              "    }\n",
              "\n",
              "    .colab-df-convert:hover {\n",
              "      background-color: #E2EBFA;\n",
              "      box-shadow: 0px 1px 2px rgba(60, 64, 67, 0.3), 0px 1px 3px 1px rgba(60, 64, 67, 0.15);\n",
              "      fill: #174EA6;\n",
              "    }\n",
              "\n",
              "    [theme=dark] .colab-df-convert {\n",
              "      background-color: #3B4455;\n",
              "      fill: #D2E3FC;\n",
              "    }\n",
              "\n",
              "    [theme=dark] .colab-df-convert:hover {\n",
              "      background-color: #434B5C;\n",
              "      box-shadow: 0px 1px 3px 1px rgba(0, 0, 0, 0.15);\n",
              "      filter: drop-shadow(0px 1px 2px rgba(0, 0, 0, 0.3));\n",
              "      fill: #FFFFFF;\n",
              "    }\n",
              "  </style>\n",
              "\n",
              "      <script>\n",
              "        const buttonEl =\n",
              "          document.querySelector('#df-3408d7c7-f284-4111-bbe2-16769bec5cb4 button.colab-df-convert');\n",
              "        buttonEl.style.display =\n",
              "          google.colab.kernel.accessAllowed ? 'block' : 'none';\n",
              "\n",
              "        async function convertToInteractive(key) {\n",
              "          const element = document.querySelector('#df-3408d7c7-f284-4111-bbe2-16769bec5cb4');\n",
              "          const dataTable =\n",
              "            await google.colab.kernel.invokeFunction('convertToInteractive',\n",
              "                                                     [key], {});\n",
              "          if (!dataTable) return;\n",
              "\n",
              "          const docLinkHtml = 'Like what you see? Visit the ' +\n",
              "            '<a target=\"_blank\" href=https://colab.research.google.com/notebooks/data_table.ipynb>data table notebook</a>'\n",
              "            + ' to learn more about interactive tables.';\n",
              "          element.innerHTML = '';\n",
              "          dataTable['output_type'] = 'display_data';\n",
              "          await google.colab.output.renderOutput(dataTable, element);\n",
              "          const docLink = document.createElement('div');\n",
              "          docLink.innerHTML = docLinkHtml;\n",
              "          element.appendChild(docLink);\n",
              "        }\n",
              "      </script>\n",
              "    </div>\n",
              "  </div>\n",
              "  "
            ]
          },
          "metadata": {},
          "execution_count": 42
        }
      ]
    },
    {
      "cell_type": "markdown",
      "source": [
        "As we can see from this table, Decision Tree only missclassifies 5% of the time, and accurately classifies 95% of the time. "
      ],
      "metadata": {
        "id": "ahOow7YKSYiK"
      }
    },
    {
      "cell_type": "code",
      "source": [
        ""
      ],
      "metadata": {
        "id": "bGXbiRiHVsRu"
      },
      "execution_count": null,
      "outputs": []
    }
  ]
}